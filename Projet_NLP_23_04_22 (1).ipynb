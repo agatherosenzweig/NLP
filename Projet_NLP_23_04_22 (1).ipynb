{
  "nbformat": 4,
  "nbformat_minor": 0,
  "metadata": {
    "colab": {
      "name": "Projet NLP 23/04/22.ipynb",
      "provenance": [],
      "collapsed_sections": [
        "pUZigqQkXCdc",
        "yIhrhx_Qu1qs",
        "v1BRbHuPP97w",
        "gL3YEDMnQnzK",
        "0NqznR_UkRCZ",
        "T1WabRAzj6fS"
      ]
    },
    "kernelspec": {
      "name": "python3",
      "display_name": "Python 3"
    },
    "language_info": {
      "name": "python"
    },
    "widgets": {
      "application/vnd.jupyter.widget-state+json": {
        "eb7e48000fa84c388a581a174122f41a": {
          "model_module": "@jupyter-widgets/controls",
          "model_name": "HBoxModel",
          "model_module_version": "1.5.0",
          "state": {
            "_dom_classes": [],
            "_model_module": "@jupyter-widgets/controls",
            "_model_module_version": "1.5.0",
            "_model_name": "HBoxModel",
            "_view_count": null,
            "_view_module": "@jupyter-widgets/controls",
            "_view_module_version": "1.5.0",
            "_view_name": "HBoxView",
            "box_style": "",
            "children": [
              "IPY_MODEL_ec48d3c76c5f4ecc97896203917300cb",
              "IPY_MODEL_e4aa1c1fc076422da27b153f8ceab7c3",
              "IPY_MODEL_cf500068c525404cb1310d5fc4201689"
            ],
            "layout": "IPY_MODEL_8901b1690e934aab88881f4de9f2a0e1"
          }
        },
        "ec48d3c76c5f4ecc97896203917300cb": {
          "model_module": "@jupyter-widgets/controls",
          "model_name": "HTMLModel",
          "model_module_version": "1.5.0",
          "state": {
            "_dom_classes": [],
            "_model_module": "@jupyter-widgets/controls",
            "_model_module_version": "1.5.0",
            "_model_name": "HTMLModel",
            "_view_count": null,
            "_view_module": "@jupyter-widgets/controls",
            "_view_module_version": "1.5.0",
            "_view_name": "HTMLView",
            "description": "",
            "description_tooltip": null,
            "layout": "IPY_MODEL_ec38854aa7fb420eb81b4cb752579a8e",
            "placeholder": "​",
            "style": "IPY_MODEL_77e49c6b36ba4dcbb0bbe6371c923480",
            "value": "100%"
          }
        },
        "e4aa1c1fc076422da27b153f8ceab7c3": {
          "model_module": "@jupyter-widgets/controls",
          "model_name": "FloatProgressModel",
          "model_module_version": "1.5.0",
          "state": {
            "_dom_classes": [],
            "_model_module": "@jupyter-widgets/controls",
            "_model_module_version": "1.5.0",
            "_model_name": "FloatProgressModel",
            "_view_count": null,
            "_view_module": "@jupyter-widgets/controls",
            "_view_module_version": "1.5.0",
            "_view_name": "ProgressView",
            "bar_style": "success",
            "description": "",
            "description_tooltip": null,
            "layout": "IPY_MODEL_b8004ddf0d92404b99a0374e421163df",
            "max": 5,
            "min": 0,
            "orientation": "horizontal",
            "style": "IPY_MODEL_7e4c6be9dc734d759da920500e321924",
            "value": 5
          }
        },
        "cf500068c525404cb1310d5fc4201689": {
          "model_module": "@jupyter-widgets/controls",
          "model_name": "HTMLModel",
          "model_module_version": "1.5.0",
          "state": {
            "_dom_classes": [],
            "_model_module": "@jupyter-widgets/controls",
            "_model_module_version": "1.5.0",
            "_model_name": "HTMLModel",
            "_view_count": null,
            "_view_module": "@jupyter-widgets/controls",
            "_view_module_version": "1.5.0",
            "_view_name": "HTMLView",
            "description": "",
            "description_tooltip": null,
            "layout": "IPY_MODEL_a57913a0a1ca424dbafc9f097b17db32",
            "placeholder": "​",
            "style": "IPY_MODEL_00146dc6202c4593880faefd755be70a",
            "value": " 5/5 [00:11&lt;00:00,  1.53s/it]"
          }
        },
        "8901b1690e934aab88881f4de9f2a0e1": {
          "model_module": "@jupyter-widgets/base",
          "model_name": "LayoutModel",
          "model_module_version": "1.2.0",
          "state": {
            "_model_module": "@jupyter-widgets/base",
            "_model_module_version": "1.2.0",
            "_model_name": "LayoutModel",
            "_view_count": null,
            "_view_module": "@jupyter-widgets/base",
            "_view_module_version": "1.2.0",
            "_view_name": "LayoutView",
            "align_content": null,
            "align_items": null,
            "align_self": null,
            "border": null,
            "bottom": null,
            "display": null,
            "flex": null,
            "flex_flow": null,
            "grid_area": null,
            "grid_auto_columns": null,
            "grid_auto_flow": null,
            "grid_auto_rows": null,
            "grid_column": null,
            "grid_gap": null,
            "grid_row": null,
            "grid_template_areas": null,
            "grid_template_columns": null,
            "grid_template_rows": null,
            "height": null,
            "justify_content": null,
            "justify_items": null,
            "left": null,
            "margin": null,
            "max_height": null,
            "max_width": null,
            "min_height": null,
            "min_width": null,
            "object_fit": null,
            "object_position": null,
            "order": null,
            "overflow": null,
            "overflow_x": null,
            "overflow_y": null,
            "padding": null,
            "right": null,
            "top": null,
            "visibility": null,
            "width": null
          }
        },
        "ec38854aa7fb420eb81b4cb752579a8e": {
          "model_module": "@jupyter-widgets/base",
          "model_name": "LayoutModel",
          "model_module_version": "1.2.0",
          "state": {
            "_model_module": "@jupyter-widgets/base",
            "_model_module_version": "1.2.0",
            "_model_name": "LayoutModel",
            "_view_count": null,
            "_view_module": "@jupyter-widgets/base",
            "_view_module_version": "1.2.0",
            "_view_name": "LayoutView",
            "align_content": null,
            "align_items": null,
            "align_self": null,
            "border": null,
            "bottom": null,
            "display": null,
            "flex": null,
            "flex_flow": null,
            "grid_area": null,
            "grid_auto_columns": null,
            "grid_auto_flow": null,
            "grid_auto_rows": null,
            "grid_column": null,
            "grid_gap": null,
            "grid_row": null,
            "grid_template_areas": null,
            "grid_template_columns": null,
            "grid_template_rows": null,
            "height": null,
            "justify_content": null,
            "justify_items": null,
            "left": null,
            "margin": null,
            "max_height": null,
            "max_width": null,
            "min_height": null,
            "min_width": null,
            "object_fit": null,
            "object_position": null,
            "order": null,
            "overflow": null,
            "overflow_x": null,
            "overflow_y": null,
            "padding": null,
            "right": null,
            "top": null,
            "visibility": null,
            "width": null
          }
        },
        "77e49c6b36ba4dcbb0bbe6371c923480": {
          "model_module": "@jupyter-widgets/controls",
          "model_name": "DescriptionStyleModel",
          "model_module_version": "1.5.0",
          "state": {
            "_model_module": "@jupyter-widgets/controls",
            "_model_module_version": "1.5.0",
            "_model_name": "DescriptionStyleModel",
            "_view_count": null,
            "_view_module": "@jupyter-widgets/base",
            "_view_module_version": "1.2.0",
            "_view_name": "StyleView",
            "description_width": ""
          }
        },
        "b8004ddf0d92404b99a0374e421163df": {
          "model_module": "@jupyter-widgets/base",
          "model_name": "LayoutModel",
          "model_module_version": "1.2.0",
          "state": {
            "_model_module": "@jupyter-widgets/base",
            "_model_module_version": "1.2.0",
            "_model_name": "LayoutModel",
            "_view_count": null,
            "_view_module": "@jupyter-widgets/base",
            "_view_module_version": "1.2.0",
            "_view_name": "LayoutView",
            "align_content": null,
            "align_items": null,
            "align_self": null,
            "border": null,
            "bottom": null,
            "display": null,
            "flex": null,
            "flex_flow": null,
            "grid_area": null,
            "grid_auto_columns": null,
            "grid_auto_flow": null,
            "grid_auto_rows": null,
            "grid_column": null,
            "grid_gap": null,
            "grid_row": null,
            "grid_template_areas": null,
            "grid_template_columns": null,
            "grid_template_rows": null,
            "height": null,
            "justify_content": null,
            "justify_items": null,
            "left": null,
            "margin": null,
            "max_height": null,
            "max_width": null,
            "min_height": null,
            "min_width": null,
            "object_fit": null,
            "object_position": null,
            "order": null,
            "overflow": null,
            "overflow_x": null,
            "overflow_y": null,
            "padding": null,
            "right": null,
            "top": null,
            "visibility": null,
            "width": null
          }
        },
        "7e4c6be9dc734d759da920500e321924": {
          "model_module": "@jupyter-widgets/controls",
          "model_name": "ProgressStyleModel",
          "model_module_version": "1.5.0",
          "state": {
            "_model_module": "@jupyter-widgets/controls",
            "_model_module_version": "1.5.0",
            "_model_name": "ProgressStyleModel",
            "_view_count": null,
            "_view_module": "@jupyter-widgets/base",
            "_view_module_version": "1.2.0",
            "_view_name": "StyleView",
            "bar_color": null,
            "description_width": ""
          }
        },
        "a57913a0a1ca424dbafc9f097b17db32": {
          "model_module": "@jupyter-widgets/base",
          "model_name": "LayoutModel",
          "model_module_version": "1.2.0",
          "state": {
            "_model_module": "@jupyter-widgets/base",
            "_model_module_version": "1.2.0",
            "_model_name": "LayoutModel",
            "_view_count": null,
            "_view_module": "@jupyter-widgets/base",
            "_view_module_version": "1.2.0",
            "_view_name": "LayoutView",
            "align_content": null,
            "align_items": null,
            "align_self": null,
            "border": null,
            "bottom": null,
            "display": null,
            "flex": null,
            "flex_flow": null,
            "grid_area": null,
            "grid_auto_columns": null,
            "grid_auto_flow": null,
            "grid_auto_rows": null,
            "grid_column": null,
            "grid_gap": null,
            "grid_row": null,
            "grid_template_areas": null,
            "grid_template_columns": null,
            "grid_template_rows": null,
            "height": null,
            "justify_content": null,
            "justify_items": null,
            "left": null,
            "margin": null,
            "max_height": null,
            "max_width": null,
            "min_height": null,
            "min_width": null,
            "object_fit": null,
            "object_position": null,
            "order": null,
            "overflow": null,
            "overflow_x": null,
            "overflow_y": null,
            "padding": null,
            "right": null,
            "top": null,
            "visibility": null,
            "width": null
          }
        },
        "00146dc6202c4593880faefd755be70a": {
          "model_module": "@jupyter-widgets/controls",
          "model_name": "DescriptionStyleModel",
          "model_module_version": "1.5.0",
          "state": {
            "_model_module": "@jupyter-widgets/controls",
            "_model_module_version": "1.5.0",
            "_model_name": "DescriptionStyleModel",
            "_view_count": null,
            "_view_module": "@jupyter-widgets/base",
            "_view_module_version": "1.2.0",
            "_view_name": "StyleView",
            "description_width": ""
          }
        },
        "087db39735004c1ba7f2c2d9959ed5f8": {
          "model_module": "@jupyter-widgets/controls",
          "model_name": "HBoxModel",
          "model_module_version": "1.5.0",
          "state": {
            "_dom_classes": [],
            "_model_module": "@jupyter-widgets/controls",
            "_model_module_version": "1.5.0",
            "_model_name": "HBoxModel",
            "_view_count": null,
            "_view_module": "@jupyter-widgets/controls",
            "_view_module_version": "1.5.0",
            "_view_name": "HBoxView",
            "box_style": "",
            "children": [
              "IPY_MODEL_182ef1530b4f4516b1c76e7bb7a4ae53",
              "IPY_MODEL_b26db30b86684a7581f0410e46d8508c",
              "IPY_MODEL_01445207b73f41caa37f13447000611f"
            ],
            "layout": "IPY_MODEL_a3701df7052248dfade5368174a504c7"
          }
        },
        "182ef1530b4f4516b1c76e7bb7a4ae53": {
          "model_module": "@jupyter-widgets/controls",
          "model_name": "HTMLModel",
          "model_module_version": "1.5.0",
          "state": {
            "_dom_classes": [],
            "_model_module": "@jupyter-widgets/controls",
            "_model_module_version": "1.5.0",
            "_model_name": "HTMLModel",
            "_view_count": null,
            "_view_module": "@jupyter-widgets/controls",
            "_view_module_version": "1.5.0",
            "_view_name": "HTMLView",
            "description": "",
            "description_tooltip": null,
            "layout": "IPY_MODEL_14533498a45449da9e6df68268b5d5a6",
            "placeholder": "​",
            "style": "IPY_MODEL_b438d80456a1488f8bcd87a56caa0825",
            "value": "100%"
          }
        },
        "b26db30b86684a7581f0410e46d8508c": {
          "model_module": "@jupyter-widgets/controls",
          "model_name": "FloatProgressModel",
          "model_module_version": "1.5.0",
          "state": {
            "_dom_classes": [],
            "_model_module": "@jupyter-widgets/controls",
            "_model_module_version": "1.5.0",
            "_model_name": "FloatProgressModel",
            "_view_count": null,
            "_view_module": "@jupyter-widgets/controls",
            "_view_module_version": "1.5.0",
            "_view_name": "ProgressView",
            "bar_style": "success",
            "description": "",
            "description_tooltip": null,
            "layout": "IPY_MODEL_74b96832411d41a6806adb01d61c6034",
            "max": 5,
            "min": 0,
            "orientation": "horizontal",
            "style": "IPY_MODEL_eab925fee6264e9ab6bf7269f119729f",
            "value": 5
          }
        },
        "01445207b73f41caa37f13447000611f": {
          "model_module": "@jupyter-widgets/controls",
          "model_name": "HTMLModel",
          "model_module_version": "1.5.0",
          "state": {
            "_dom_classes": [],
            "_model_module": "@jupyter-widgets/controls",
            "_model_module_version": "1.5.0",
            "_model_name": "HTMLModel",
            "_view_count": null,
            "_view_module": "@jupyter-widgets/controls",
            "_view_module_version": "1.5.0",
            "_view_name": "HTMLView",
            "description": "",
            "description_tooltip": null,
            "layout": "IPY_MODEL_ff1ba67c469046b3b5445f5fedbb2244",
            "placeholder": "​",
            "style": "IPY_MODEL_246bd6b52dcb4b3aad7fa9e945d03111",
            "value": " 5/5 [00:01&lt;00:00,  3.89it/s]"
          }
        },
        "a3701df7052248dfade5368174a504c7": {
          "model_module": "@jupyter-widgets/base",
          "model_name": "LayoutModel",
          "model_module_version": "1.2.0",
          "state": {
            "_model_module": "@jupyter-widgets/base",
            "_model_module_version": "1.2.0",
            "_model_name": "LayoutModel",
            "_view_count": null,
            "_view_module": "@jupyter-widgets/base",
            "_view_module_version": "1.2.0",
            "_view_name": "LayoutView",
            "align_content": null,
            "align_items": null,
            "align_self": null,
            "border": null,
            "bottom": null,
            "display": null,
            "flex": null,
            "flex_flow": null,
            "grid_area": null,
            "grid_auto_columns": null,
            "grid_auto_flow": null,
            "grid_auto_rows": null,
            "grid_column": null,
            "grid_gap": null,
            "grid_row": null,
            "grid_template_areas": null,
            "grid_template_columns": null,
            "grid_template_rows": null,
            "height": null,
            "justify_content": null,
            "justify_items": null,
            "left": null,
            "margin": null,
            "max_height": null,
            "max_width": null,
            "min_height": null,
            "min_width": null,
            "object_fit": null,
            "object_position": null,
            "order": null,
            "overflow": null,
            "overflow_x": null,
            "overflow_y": null,
            "padding": null,
            "right": null,
            "top": null,
            "visibility": null,
            "width": null
          }
        },
        "14533498a45449da9e6df68268b5d5a6": {
          "model_module": "@jupyter-widgets/base",
          "model_name": "LayoutModel",
          "model_module_version": "1.2.0",
          "state": {
            "_model_module": "@jupyter-widgets/base",
            "_model_module_version": "1.2.0",
            "_model_name": "LayoutModel",
            "_view_count": null,
            "_view_module": "@jupyter-widgets/base",
            "_view_module_version": "1.2.0",
            "_view_name": "LayoutView",
            "align_content": null,
            "align_items": null,
            "align_self": null,
            "border": null,
            "bottom": null,
            "display": null,
            "flex": null,
            "flex_flow": null,
            "grid_area": null,
            "grid_auto_columns": null,
            "grid_auto_flow": null,
            "grid_auto_rows": null,
            "grid_column": null,
            "grid_gap": null,
            "grid_row": null,
            "grid_template_areas": null,
            "grid_template_columns": null,
            "grid_template_rows": null,
            "height": null,
            "justify_content": null,
            "justify_items": null,
            "left": null,
            "margin": null,
            "max_height": null,
            "max_width": null,
            "min_height": null,
            "min_width": null,
            "object_fit": null,
            "object_position": null,
            "order": null,
            "overflow": null,
            "overflow_x": null,
            "overflow_y": null,
            "padding": null,
            "right": null,
            "top": null,
            "visibility": null,
            "width": null
          }
        },
        "b438d80456a1488f8bcd87a56caa0825": {
          "model_module": "@jupyter-widgets/controls",
          "model_name": "DescriptionStyleModel",
          "model_module_version": "1.5.0",
          "state": {
            "_model_module": "@jupyter-widgets/controls",
            "_model_module_version": "1.5.0",
            "_model_name": "DescriptionStyleModel",
            "_view_count": null,
            "_view_module": "@jupyter-widgets/base",
            "_view_module_version": "1.2.0",
            "_view_name": "StyleView",
            "description_width": ""
          }
        },
        "74b96832411d41a6806adb01d61c6034": {
          "model_module": "@jupyter-widgets/base",
          "model_name": "LayoutModel",
          "model_module_version": "1.2.0",
          "state": {
            "_model_module": "@jupyter-widgets/base",
            "_model_module_version": "1.2.0",
            "_model_name": "LayoutModel",
            "_view_count": null,
            "_view_module": "@jupyter-widgets/base",
            "_view_module_version": "1.2.0",
            "_view_name": "LayoutView",
            "align_content": null,
            "align_items": null,
            "align_self": null,
            "border": null,
            "bottom": null,
            "display": null,
            "flex": null,
            "flex_flow": null,
            "grid_area": null,
            "grid_auto_columns": null,
            "grid_auto_flow": null,
            "grid_auto_rows": null,
            "grid_column": null,
            "grid_gap": null,
            "grid_row": null,
            "grid_template_areas": null,
            "grid_template_columns": null,
            "grid_template_rows": null,
            "height": null,
            "justify_content": null,
            "justify_items": null,
            "left": null,
            "margin": null,
            "max_height": null,
            "max_width": null,
            "min_height": null,
            "min_width": null,
            "object_fit": null,
            "object_position": null,
            "order": null,
            "overflow": null,
            "overflow_x": null,
            "overflow_y": null,
            "padding": null,
            "right": null,
            "top": null,
            "visibility": null,
            "width": null
          }
        },
        "eab925fee6264e9ab6bf7269f119729f": {
          "model_module": "@jupyter-widgets/controls",
          "model_name": "ProgressStyleModel",
          "model_module_version": "1.5.0",
          "state": {
            "_model_module": "@jupyter-widgets/controls",
            "_model_module_version": "1.5.0",
            "_model_name": "ProgressStyleModel",
            "_view_count": null,
            "_view_module": "@jupyter-widgets/base",
            "_view_module_version": "1.2.0",
            "_view_name": "StyleView",
            "bar_color": null,
            "description_width": ""
          }
        },
        "ff1ba67c469046b3b5445f5fedbb2244": {
          "model_module": "@jupyter-widgets/base",
          "model_name": "LayoutModel",
          "model_module_version": "1.2.0",
          "state": {
            "_model_module": "@jupyter-widgets/base",
            "_model_module_version": "1.2.0",
            "_model_name": "LayoutModel",
            "_view_count": null,
            "_view_module": "@jupyter-widgets/base",
            "_view_module_version": "1.2.0",
            "_view_name": "LayoutView",
            "align_content": null,
            "align_items": null,
            "align_self": null,
            "border": null,
            "bottom": null,
            "display": null,
            "flex": null,
            "flex_flow": null,
            "grid_area": null,
            "grid_auto_columns": null,
            "grid_auto_flow": null,
            "grid_auto_rows": null,
            "grid_column": null,
            "grid_gap": null,
            "grid_row": null,
            "grid_template_areas": null,
            "grid_template_columns": null,
            "grid_template_rows": null,
            "height": null,
            "justify_content": null,
            "justify_items": null,
            "left": null,
            "margin": null,
            "max_height": null,
            "max_width": null,
            "min_height": null,
            "min_width": null,
            "object_fit": null,
            "object_position": null,
            "order": null,
            "overflow": null,
            "overflow_x": null,
            "overflow_y": null,
            "padding": null,
            "right": null,
            "top": null,
            "visibility": null,
            "width": null
          }
        },
        "246bd6b52dcb4b3aad7fa9e945d03111": {
          "model_module": "@jupyter-widgets/controls",
          "model_name": "DescriptionStyleModel",
          "model_module_version": "1.5.0",
          "state": {
            "_model_module": "@jupyter-widgets/controls",
            "_model_module_version": "1.5.0",
            "_model_name": "DescriptionStyleModel",
            "_view_count": null,
            "_view_module": "@jupyter-widgets/base",
            "_view_module_version": "1.2.0",
            "_view_name": "StyleView",
            "description_width": ""
          }
        },
        "e5d657b8212f47a1abdb3c63aeb2d921": {
          "model_module": "@jupyter-widgets/controls",
          "model_name": "HBoxModel",
          "model_module_version": "1.5.0",
          "state": {
            "_dom_classes": [],
            "_model_module": "@jupyter-widgets/controls",
            "_model_module_version": "1.5.0",
            "_model_name": "HBoxModel",
            "_view_count": null,
            "_view_module": "@jupyter-widgets/controls",
            "_view_module_version": "1.5.0",
            "_view_name": "HBoxView",
            "box_style": "",
            "children": [
              "IPY_MODEL_3b07b945fce049a2b0d1a60ea5de3995",
              "IPY_MODEL_c030c3c00b684f86b7716afc9212ca74",
              "IPY_MODEL_c75d085d38924db5831b8c91c57ea2f3"
            ],
            "layout": "IPY_MODEL_1591155ad3c14ebd91ff2be2108cc378"
          }
        },
        "3b07b945fce049a2b0d1a60ea5de3995": {
          "model_module": "@jupyter-widgets/controls",
          "model_name": "HTMLModel",
          "model_module_version": "1.5.0",
          "state": {
            "_dom_classes": [],
            "_model_module": "@jupyter-widgets/controls",
            "_model_module_version": "1.5.0",
            "_model_name": "HTMLModel",
            "_view_count": null,
            "_view_module": "@jupyter-widgets/controls",
            "_view_module_version": "1.5.0",
            "_view_name": "HTMLView",
            "description": "",
            "description_tooltip": null,
            "layout": "IPY_MODEL_7387aa1fd50e4fff8e275b6b4ec70ac9",
            "placeholder": "​",
            "style": "IPY_MODEL_fedb151872f64e90a9b396ccebcfae52",
            "value": "100%"
          }
        },
        "c030c3c00b684f86b7716afc9212ca74": {
          "model_module": "@jupyter-widgets/controls",
          "model_name": "FloatProgressModel",
          "model_module_version": "1.5.0",
          "state": {
            "_dom_classes": [],
            "_model_module": "@jupyter-widgets/controls",
            "_model_module_version": "1.5.0",
            "_model_name": "FloatProgressModel",
            "_view_count": null,
            "_view_module": "@jupyter-widgets/controls",
            "_view_module_version": "1.5.0",
            "_view_name": "ProgressView",
            "bar_style": "success",
            "description": "",
            "description_tooltip": null,
            "layout": "IPY_MODEL_d83ae9a21ec44eea9bd2752a5f075da9",
            "max": 5,
            "min": 0,
            "orientation": "horizontal",
            "style": "IPY_MODEL_8821da37911f4556b358fc13172ccf42",
            "value": 5
          }
        },
        "c75d085d38924db5831b8c91c57ea2f3": {
          "model_module": "@jupyter-widgets/controls",
          "model_name": "HTMLModel",
          "model_module_version": "1.5.0",
          "state": {
            "_dom_classes": [],
            "_model_module": "@jupyter-widgets/controls",
            "_model_module_version": "1.5.0",
            "_model_name": "HTMLModel",
            "_view_count": null,
            "_view_module": "@jupyter-widgets/controls",
            "_view_module_version": "1.5.0",
            "_view_name": "HTMLView",
            "description": "",
            "description_tooltip": null,
            "layout": "IPY_MODEL_2e840259955a4bd787e93c65e3a2d228",
            "placeholder": "​",
            "style": "IPY_MODEL_e1d65e6275124225a30e85780fa9e2fe",
            "value": " 5/5 [00:00&lt;00:00, 50.16it/s]"
          }
        },
        "1591155ad3c14ebd91ff2be2108cc378": {
          "model_module": "@jupyter-widgets/base",
          "model_name": "LayoutModel",
          "model_module_version": "1.2.0",
          "state": {
            "_model_module": "@jupyter-widgets/base",
            "_model_module_version": "1.2.0",
            "_model_name": "LayoutModel",
            "_view_count": null,
            "_view_module": "@jupyter-widgets/base",
            "_view_module_version": "1.2.0",
            "_view_name": "LayoutView",
            "align_content": null,
            "align_items": null,
            "align_self": null,
            "border": null,
            "bottom": null,
            "display": null,
            "flex": null,
            "flex_flow": null,
            "grid_area": null,
            "grid_auto_columns": null,
            "grid_auto_flow": null,
            "grid_auto_rows": null,
            "grid_column": null,
            "grid_gap": null,
            "grid_row": null,
            "grid_template_areas": null,
            "grid_template_columns": null,
            "grid_template_rows": null,
            "height": null,
            "justify_content": null,
            "justify_items": null,
            "left": null,
            "margin": null,
            "max_height": null,
            "max_width": null,
            "min_height": null,
            "min_width": null,
            "object_fit": null,
            "object_position": null,
            "order": null,
            "overflow": null,
            "overflow_x": null,
            "overflow_y": null,
            "padding": null,
            "right": null,
            "top": null,
            "visibility": null,
            "width": null
          }
        },
        "7387aa1fd50e4fff8e275b6b4ec70ac9": {
          "model_module": "@jupyter-widgets/base",
          "model_name": "LayoutModel",
          "model_module_version": "1.2.0",
          "state": {
            "_model_module": "@jupyter-widgets/base",
            "_model_module_version": "1.2.0",
            "_model_name": "LayoutModel",
            "_view_count": null,
            "_view_module": "@jupyter-widgets/base",
            "_view_module_version": "1.2.0",
            "_view_name": "LayoutView",
            "align_content": null,
            "align_items": null,
            "align_self": null,
            "border": null,
            "bottom": null,
            "display": null,
            "flex": null,
            "flex_flow": null,
            "grid_area": null,
            "grid_auto_columns": null,
            "grid_auto_flow": null,
            "grid_auto_rows": null,
            "grid_column": null,
            "grid_gap": null,
            "grid_row": null,
            "grid_template_areas": null,
            "grid_template_columns": null,
            "grid_template_rows": null,
            "height": null,
            "justify_content": null,
            "justify_items": null,
            "left": null,
            "margin": null,
            "max_height": null,
            "max_width": null,
            "min_height": null,
            "min_width": null,
            "object_fit": null,
            "object_position": null,
            "order": null,
            "overflow": null,
            "overflow_x": null,
            "overflow_y": null,
            "padding": null,
            "right": null,
            "top": null,
            "visibility": null,
            "width": null
          }
        },
        "fedb151872f64e90a9b396ccebcfae52": {
          "model_module": "@jupyter-widgets/controls",
          "model_name": "DescriptionStyleModel",
          "model_module_version": "1.5.0",
          "state": {
            "_model_module": "@jupyter-widgets/controls",
            "_model_module_version": "1.5.0",
            "_model_name": "DescriptionStyleModel",
            "_view_count": null,
            "_view_module": "@jupyter-widgets/base",
            "_view_module_version": "1.2.0",
            "_view_name": "StyleView",
            "description_width": ""
          }
        },
        "d83ae9a21ec44eea9bd2752a5f075da9": {
          "model_module": "@jupyter-widgets/base",
          "model_name": "LayoutModel",
          "model_module_version": "1.2.0",
          "state": {
            "_model_module": "@jupyter-widgets/base",
            "_model_module_version": "1.2.0",
            "_model_name": "LayoutModel",
            "_view_count": null,
            "_view_module": "@jupyter-widgets/base",
            "_view_module_version": "1.2.0",
            "_view_name": "LayoutView",
            "align_content": null,
            "align_items": null,
            "align_self": null,
            "border": null,
            "bottom": null,
            "display": null,
            "flex": null,
            "flex_flow": null,
            "grid_area": null,
            "grid_auto_columns": null,
            "grid_auto_flow": null,
            "grid_auto_rows": null,
            "grid_column": null,
            "grid_gap": null,
            "grid_row": null,
            "grid_template_areas": null,
            "grid_template_columns": null,
            "grid_template_rows": null,
            "height": null,
            "justify_content": null,
            "justify_items": null,
            "left": null,
            "margin": null,
            "max_height": null,
            "max_width": null,
            "min_height": null,
            "min_width": null,
            "object_fit": null,
            "object_position": null,
            "order": null,
            "overflow": null,
            "overflow_x": null,
            "overflow_y": null,
            "padding": null,
            "right": null,
            "top": null,
            "visibility": null,
            "width": null
          }
        },
        "8821da37911f4556b358fc13172ccf42": {
          "model_module": "@jupyter-widgets/controls",
          "model_name": "ProgressStyleModel",
          "model_module_version": "1.5.0",
          "state": {
            "_model_module": "@jupyter-widgets/controls",
            "_model_module_version": "1.5.0",
            "_model_name": "ProgressStyleModel",
            "_view_count": null,
            "_view_module": "@jupyter-widgets/base",
            "_view_module_version": "1.2.0",
            "_view_name": "StyleView",
            "bar_color": null,
            "description_width": ""
          }
        },
        "2e840259955a4bd787e93c65e3a2d228": {
          "model_module": "@jupyter-widgets/base",
          "model_name": "LayoutModel",
          "model_module_version": "1.2.0",
          "state": {
            "_model_module": "@jupyter-widgets/base",
            "_model_module_version": "1.2.0",
            "_model_name": "LayoutModel",
            "_view_count": null,
            "_view_module": "@jupyter-widgets/base",
            "_view_module_version": "1.2.0",
            "_view_name": "LayoutView",
            "align_content": null,
            "align_items": null,
            "align_self": null,
            "border": null,
            "bottom": null,
            "display": null,
            "flex": null,
            "flex_flow": null,
            "grid_area": null,
            "grid_auto_columns": null,
            "grid_auto_flow": null,
            "grid_auto_rows": null,
            "grid_column": null,
            "grid_gap": null,
            "grid_row": null,
            "grid_template_areas": null,
            "grid_template_columns": null,
            "grid_template_rows": null,
            "height": null,
            "justify_content": null,
            "justify_items": null,
            "left": null,
            "margin": null,
            "max_height": null,
            "max_width": null,
            "min_height": null,
            "min_width": null,
            "object_fit": null,
            "object_position": null,
            "order": null,
            "overflow": null,
            "overflow_x": null,
            "overflow_y": null,
            "padding": null,
            "right": null,
            "top": null,
            "visibility": null,
            "width": null
          }
        },
        "e1d65e6275124225a30e85780fa9e2fe": {
          "model_module": "@jupyter-widgets/controls",
          "model_name": "DescriptionStyleModel",
          "model_module_version": "1.5.0",
          "state": {
            "_model_module": "@jupyter-widgets/controls",
            "_model_module_version": "1.5.0",
            "_model_name": "DescriptionStyleModel",
            "_view_count": null,
            "_view_module": "@jupyter-widgets/base",
            "_view_module_version": "1.2.0",
            "_view_name": "StyleView",
            "description_width": ""
          }
        },
        "d2cabd96fa5b439d85e784af85075237": {
          "model_module": "@jupyter-widgets/controls",
          "model_name": "HBoxModel",
          "model_module_version": "1.5.0",
          "state": {
            "_dom_classes": [],
            "_model_module": "@jupyter-widgets/controls",
            "_model_module_version": "1.5.0",
            "_model_name": "HBoxModel",
            "_view_count": null,
            "_view_module": "@jupyter-widgets/controls",
            "_view_module_version": "1.5.0",
            "_view_name": "HBoxView",
            "box_style": "",
            "children": [
              "IPY_MODEL_a2430ccadc0f4590a7fbd917c1cbe401",
              "IPY_MODEL_fa19a340047c480eaab51a1caab90e09",
              "IPY_MODEL_19d40bebe6f743728e6233c4fd6d9e95"
            ],
            "layout": "IPY_MODEL_3fcf63be1887442e9ee6189a40e43f59"
          }
        },
        "a2430ccadc0f4590a7fbd917c1cbe401": {
          "model_module": "@jupyter-widgets/controls",
          "model_name": "HTMLModel",
          "model_module_version": "1.5.0",
          "state": {
            "_dom_classes": [],
            "_model_module": "@jupyter-widgets/controls",
            "_model_module_version": "1.5.0",
            "_model_name": "HTMLModel",
            "_view_count": null,
            "_view_module": "@jupyter-widgets/controls",
            "_view_module_version": "1.5.0",
            "_view_name": "HTMLView",
            "description": "",
            "description_tooltip": null,
            "layout": "IPY_MODEL_6c917be7794941abaa99d5e06051692a",
            "placeholder": "​",
            "style": "IPY_MODEL_dcf4663b3f3142ad802ef02bd31421f6",
            "value": "  0%"
          }
        },
        "fa19a340047c480eaab51a1caab90e09": {
          "model_module": "@jupyter-widgets/controls",
          "model_name": "FloatProgressModel",
          "model_module_version": "1.5.0",
          "state": {
            "_dom_classes": [],
            "_model_module": "@jupyter-widgets/controls",
            "_model_module_version": "1.5.0",
            "_model_name": "FloatProgressModel",
            "_view_count": null,
            "_view_module": "@jupyter-widgets/controls",
            "_view_module_version": "1.5.0",
            "_view_name": "ProgressView",
            "bar_style": "danger",
            "description": "",
            "description_tooltip": null,
            "layout": "IPY_MODEL_d87a386f7301449580b5b53f86c74c94",
            "max": 39494,
            "min": 0,
            "orientation": "horizontal",
            "style": "IPY_MODEL_426ce401e20c4f6db0d1ca1add2a1ac1",
            "value": 26
          }
        },
        "19d40bebe6f743728e6233c4fd6d9e95": {
          "model_module": "@jupyter-widgets/controls",
          "model_name": "HTMLModel",
          "model_module_version": "1.5.0",
          "state": {
            "_dom_classes": [],
            "_model_module": "@jupyter-widgets/controls",
            "_model_module_version": "1.5.0",
            "_model_name": "HTMLModel",
            "_view_count": null,
            "_view_module": "@jupyter-widgets/controls",
            "_view_module_version": "1.5.0",
            "_view_name": "HTMLView",
            "description": "",
            "description_tooltip": null,
            "layout": "IPY_MODEL_7ed39ea5c9ea4a42b7227f0581b87fc9",
            "placeholder": "​",
            "style": "IPY_MODEL_837b39c448b0403ca002e52a95d7698a",
            "value": " 26/39494 [00:00&lt;01:03, 618.85it/s]"
          }
        },
        "3fcf63be1887442e9ee6189a40e43f59": {
          "model_module": "@jupyter-widgets/base",
          "model_name": "LayoutModel",
          "model_module_version": "1.2.0",
          "state": {
            "_model_module": "@jupyter-widgets/base",
            "_model_module_version": "1.2.0",
            "_model_name": "LayoutModel",
            "_view_count": null,
            "_view_module": "@jupyter-widgets/base",
            "_view_module_version": "1.2.0",
            "_view_name": "LayoutView",
            "align_content": null,
            "align_items": null,
            "align_self": null,
            "border": null,
            "bottom": null,
            "display": null,
            "flex": null,
            "flex_flow": null,
            "grid_area": null,
            "grid_auto_columns": null,
            "grid_auto_flow": null,
            "grid_auto_rows": null,
            "grid_column": null,
            "grid_gap": null,
            "grid_row": null,
            "grid_template_areas": null,
            "grid_template_columns": null,
            "grid_template_rows": null,
            "height": null,
            "justify_content": null,
            "justify_items": null,
            "left": null,
            "margin": null,
            "max_height": null,
            "max_width": null,
            "min_height": null,
            "min_width": null,
            "object_fit": null,
            "object_position": null,
            "order": null,
            "overflow": null,
            "overflow_x": null,
            "overflow_y": null,
            "padding": null,
            "right": null,
            "top": null,
            "visibility": null,
            "width": null
          }
        },
        "6c917be7794941abaa99d5e06051692a": {
          "model_module": "@jupyter-widgets/base",
          "model_name": "LayoutModel",
          "model_module_version": "1.2.0",
          "state": {
            "_model_module": "@jupyter-widgets/base",
            "_model_module_version": "1.2.0",
            "_model_name": "LayoutModel",
            "_view_count": null,
            "_view_module": "@jupyter-widgets/base",
            "_view_module_version": "1.2.0",
            "_view_name": "LayoutView",
            "align_content": null,
            "align_items": null,
            "align_self": null,
            "border": null,
            "bottom": null,
            "display": null,
            "flex": null,
            "flex_flow": null,
            "grid_area": null,
            "grid_auto_columns": null,
            "grid_auto_flow": null,
            "grid_auto_rows": null,
            "grid_column": null,
            "grid_gap": null,
            "grid_row": null,
            "grid_template_areas": null,
            "grid_template_columns": null,
            "grid_template_rows": null,
            "height": null,
            "justify_content": null,
            "justify_items": null,
            "left": null,
            "margin": null,
            "max_height": null,
            "max_width": null,
            "min_height": null,
            "min_width": null,
            "object_fit": null,
            "object_position": null,
            "order": null,
            "overflow": null,
            "overflow_x": null,
            "overflow_y": null,
            "padding": null,
            "right": null,
            "top": null,
            "visibility": null,
            "width": null
          }
        },
        "dcf4663b3f3142ad802ef02bd31421f6": {
          "model_module": "@jupyter-widgets/controls",
          "model_name": "DescriptionStyleModel",
          "model_module_version": "1.5.0",
          "state": {
            "_model_module": "@jupyter-widgets/controls",
            "_model_module_version": "1.5.0",
            "_model_name": "DescriptionStyleModel",
            "_view_count": null,
            "_view_module": "@jupyter-widgets/base",
            "_view_module_version": "1.2.0",
            "_view_name": "StyleView",
            "description_width": ""
          }
        },
        "d87a386f7301449580b5b53f86c74c94": {
          "model_module": "@jupyter-widgets/base",
          "model_name": "LayoutModel",
          "model_module_version": "1.2.0",
          "state": {
            "_model_module": "@jupyter-widgets/base",
            "_model_module_version": "1.2.0",
            "_model_name": "LayoutModel",
            "_view_count": null,
            "_view_module": "@jupyter-widgets/base",
            "_view_module_version": "1.2.0",
            "_view_name": "LayoutView",
            "align_content": null,
            "align_items": null,
            "align_self": null,
            "border": null,
            "bottom": null,
            "display": null,
            "flex": null,
            "flex_flow": null,
            "grid_area": null,
            "grid_auto_columns": null,
            "grid_auto_flow": null,
            "grid_auto_rows": null,
            "grid_column": null,
            "grid_gap": null,
            "grid_row": null,
            "grid_template_areas": null,
            "grid_template_columns": null,
            "grid_template_rows": null,
            "height": null,
            "justify_content": null,
            "justify_items": null,
            "left": null,
            "margin": null,
            "max_height": null,
            "max_width": null,
            "min_height": null,
            "min_width": null,
            "object_fit": null,
            "object_position": null,
            "order": null,
            "overflow": null,
            "overflow_x": null,
            "overflow_y": null,
            "padding": null,
            "right": null,
            "top": null,
            "visibility": null,
            "width": null
          }
        },
        "426ce401e20c4f6db0d1ca1add2a1ac1": {
          "model_module": "@jupyter-widgets/controls",
          "model_name": "ProgressStyleModel",
          "model_module_version": "1.5.0",
          "state": {
            "_model_module": "@jupyter-widgets/controls",
            "_model_module_version": "1.5.0",
            "_model_name": "ProgressStyleModel",
            "_view_count": null,
            "_view_module": "@jupyter-widgets/base",
            "_view_module_version": "1.2.0",
            "_view_name": "StyleView",
            "bar_color": null,
            "description_width": ""
          }
        },
        "7ed39ea5c9ea4a42b7227f0581b87fc9": {
          "model_module": "@jupyter-widgets/base",
          "model_name": "LayoutModel",
          "model_module_version": "1.2.0",
          "state": {
            "_model_module": "@jupyter-widgets/base",
            "_model_module_version": "1.2.0",
            "_model_name": "LayoutModel",
            "_view_count": null,
            "_view_module": "@jupyter-widgets/base",
            "_view_module_version": "1.2.0",
            "_view_name": "LayoutView",
            "align_content": null,
            "align_items": null,
            "align_self": null,
            "border": null,
            "bottom": null,
            "display": null,
            "flex": null,
            "flex_flow": null,
            "grid_area": null,
            "grid_auto_columns": null,
            "grid_auto_flow": null,
            "grid_auto_rows": null,
            "grid_column": null,
            "grid_gap": null,
            "grid_row": null,
            "grid_template_areas": null,
            "grid_template_columns": null,
            "grid_template_rows": null,
            "height": null,
            "justify_content": null,
            "justify_items": null,
            "left": null,
            "margin": null,
            "max_height": null,
            "max_width": null,
            "min_height": null,
            "min_width": null,
            "object_fit": null,
            "object_position": null,
            "order": null,
            "overflow": null,
            "overflow_x": null,
            "overflow_y": null,
            "padding": null,
            "right": null,
            "top": null,
            "visibility": null,
            "width": null
          }
        },
        "837b39c448b0403ca002e52a95d7698a": {
          "model_module": "@jupyter-widgets/controls",
          "model_name": "DescriptionStyleModel",
          "model_module_version": "1.5.0",
          "state": {
            "_model_module": "@jupyter-widgets/controls",
            "_model_module_version": "1.5.0",
            "_model_name": "DescriptionStyleModel",
            "_view_count": null,
            "_view_module": "@jupyter-widgets/base",
            "_view_module_version": "1.2.0",
            "_view_name": "StyleView",
            "description_width": ""
          }
        },
        "3897a4437a96499f8fe6def5b911480f": {
          "model_module": "@jupyter-widgets/controls",
          "model_name": "HBoxModel",
          "model_module_version": "1.5.0",
          "state": {
            "_dom_classes": [],
            "_model_module": "@jupyter-widgets/controls",
            "_model_module_version": "1.5.0",
            "_model_name": "HBoxModel",
            "_view_count": null,
            "_view_module": "@jupyter-widgets/controls",
            "_view_module_version": "1.5.0",
            "_view_name": "HBoxView",
            "box_style": "",
            "children": [
              "IPY_MODEL_644823ae5d294932a66661daca6a615a",
              "IPY_MODEL_7d08449833fd4f828891a2c31ed0fcb2",
              "IPY_MODEL_9bc237d856204c4b8d3e13543883a13d"
            ],
            "layout": "IPY_MODEL_dd895c2271034d61a9e634645fa7b9bf"
          }
        },
        "644823ae5d294932a66661daca6a615a": {
          "model_module": "@jupyter-widgets/controls",
          "model_name": "HTMLModel",
          "model_module_version": "1.5.0",
          "state": {
            "_dom_classes": [],
            "_model_module": "@jupyter-widgets/controls",
            "_model_module_version": "1.5.0",
            "_model_name": "HTMLModel",
            "_view_count": null,
            "_view_module": "@jupyter-widgets/controls",
            "_view_module_version": "1.5.0",
            "_view_name": "HTMLView",
            "description": "",
            "description_tooltip": null,
            "layout": "IPY_MODEL_049936b80f1040a1a7004ca58d9854e7",
            "placeholder": "​",
            "style": "IPY_MODEL_ec6e1a8fa4494508a6c3b334b48be100",
            "value": "100%"
          }
        },
        "7d08449833fd4f828891a2c31ed0fcb2": {
          "model_module": "@jupyter-widgets/controls",
          "model_name": "FloatProgressModel",
          "model_module_version": "1.5.0",
          "state": {
            "_dom_classes": [],
            "_model_module": "@jupyter-widgets/controls",
            "_model_module_version": "1.5.0",
            "_model_name": "FloatProgressModel",
            "_view_count": null,
            "_view_module": "@jupyter-widgets/controls",
            "_view_module_version": "1.5.0",
            "_view_name": "ProgressView",
            "bar_style": "success",
            "description": "",
            "description_tooltip": null,
            "layout": "IPY_MODEL_26230ee1730d475a9d0793a542f5aa30",
            "max": 7,
            "min": 0,
            "orientation": "horizontal",
            "style": "IPY_MODEL_6971ab90142741b29e3c503e09fb678c",
            "value": 7
          }
        },
        "9bc237d856204c4b8d3e13543883a13d": {
          "model_module": "@jupyter-widgets/controls",
          "model_name": "HTMLModel",
          "model_module_version": "1.5.0",
          "state": {
            "_dom_classes": [],
            "_model_module": "@jupyter-widgets/controls",
            "_model_module_version": "1.5.0",
            "_model_name": "HTMLModel",
            "_view_count": null,
            "_view_module": "@jupyter-widgets/controls",
            "_view_module_version": "1.5.0",
            "_view_name": "HTMLView",
            "description": "",
            "description_tooltip": null,
            "layout": "IPY_MODEL_9696b65c65f84fea9339326d92ebb159",
            "placeholder": "​",
            "style": "IPY_MODEL_a1e6deed2bf9453eb6a73c1ca60f5658",
            "value": " 7/7 [00:01&lt;00:00,  3.98it/s]"
          }
        },
        "dd895c2271034d61a9e634645fa7b9bf": {
          "model_module": "@jupyter-widgets/base",
          "model_name": "LayoutModel",
          "model_module_version": "1.2.0",
          "state": {
            "_model_module": "@jupyter-widgets/base",
            "_model_module_version": "1.2.0",
            "_model_name": "LayoutModel",
            "_view_count": null,
            "_view_module": "@jupyter-widgets/base",
            "_view_module_version": "1.2.0",
            "_view_name": "LayoutView",
            "align_content": null,
            "align_items": null,
            "align_self": null,
            "border": null,
            "bottom": null,
            "display": null,
            "flex": null,
            "flex_flow": null,
            "grid_area": null,
            "grid_auto_columns": null,
            "grid_auto_flow": null,
            "grid_auto_rows": null,
            "grid_column": null,
            "grid_gap": null,
            "grid_row": null,
            "grid_template_areas": null,
            "grid_template_columns": null,
            "grid_template_rows": null,
            "height": null,
            "justify_content": null,
            "justify_items": null,
            "left": null,
            "margin": null,
            "max_height": null,
            "max_width": null,
            "min_height": null,
            "min_width": null,
            "object_fit": null,
            "object_position": null,
            "order": null,
            "overflow": null,
            "overflow_x": null,
            "overflow_y": null,
            "padding": null,
            "right": null,
            "top": null,
            "visibility": null,
            "width": null
          }
        },
        "049936b80f1040a1a7004ca58d9854e7": {
          "model_module": "@jupyter-widgets/base",
          "model_name": "LayoutModel",
          "model_module_version": "1.2.0",
          "state": {
            "_model_module": "@jupyter-widgets/base",
            "_model_module_version": "1.2.0",
            "_model_name": "LayoutModel",
            "_view_count": null,
            "_view_module": "@jupyter-widgets/base",
            "_view_module_version": "1.2.0",
            "_view_name": "LayoutView",
            "align_content": null,
            "align_items": null,
            "align_self": null,
            "border": null,
            "bottom": null,
            "display": null,
            "flex": null,
            "flex_flow": null,
            "grid_area": null,
            "grid_auto_columns": null,
            "grid_auto_flow": null,
            "grid_auto_rows": null,
            "grid_column": null,
            "grid_gap": null,
            "grid_row": null,
            "grid_template_areas": null,
            "grid_template_columns": null,
            "grid_template_rows": null,
            "height": null,
            "justify_content": null,
            "justify_items": null,
            "left": null,
            "margin": null,
            "max_height": null,
            "max_width": null,
            "min_height": null,
            "min_width": null,
            "object_fit": null,
            "object_position": null,
            "order": null,
            "overflow": null,
            "overflow_x": null,
            "overflow_y": null,
            "padding": null,
            "right": null,
            "top": null,
            "visibility": null,
            "width": null
          }
        },
        "ec6e1a8fa4494508a6c3b334b48be100": {
          "model_module": "@jupyter-widgets/controls",
          "model_name": "DescriptionStyleModel",
          "model_module_version": "1.5.0",
          "state": {
            "_model_module": "@jupyter-widgets/controls",
            "_model_module_version": "1.5.0",
            "_model_name": "DescriptionStyleModel",
            "_view_count": null,
            "_view_module": "@jupyter-widgets/base",
            "_view_module_version": "1.2.0",
            "_view_name": "StyleView",
            "description_width": ""
          }
        },
        "26230ee1730d475a9d0793a542f5aa30": {
          "model_module": "@jupyter-widgets/base",
          "model_name": "LayoutModel",
          "model_module_version": "1.2.0",
          "state": {
            "_model_module": "@jupyter-widgets/base",
            "_model_module_version": "1.2.0",
            "_model_name": "LayoutModel",
            "_view_count": null,
            "_view_module": "@jupyter-widgets/base",
            "_view_module_version": "1.2.0",
            "_view_name": "LayoutView",
            "align_content": null,
            "align_items": null,
            "align_self": null,
            "border": null,
            "bottom": null,
            "display": null,
            "flex": null,
            "flex_flow": null,
            "grid_area": null,
            "grid_auto_columns": null,
            "grid_auto_flow": null,
            "grid_auto_rows": null,
            "grid_column": null,
            "grid_gap": null,
            "grid_row": null,
            "grid_template_areas": null,
            "grid_template_columns": null,
            "grid_template_rows": null,
            "height": null,
            "justify_content": null,
            "justify_items": null,
            "left": null,
            "margin": null,
            "max_height": null,
            "max_width": null,
            "min_height": null,
            "min_width": null,
            "object_fit": null,
            "object_position": null,
            "order": null,
            "overflow": null,
            "overflow_x": null,
            "overflow_y": null,
            "padding": null,
            "right": null,
            "top": null,
            "visibility": null,
            "width": null
          }
        },
        "6971ab90142741b29e3c503e09fb678c": {
          "model_module": "@jupyter-widgets/controls",
          "model_name": "ProgressStyleModel",
          "model_module_version": "1.5.0",
          "state": {
            "_model_module": "@jupyter-widgets/controls",
            "_model_module_version": "1.5.0",
            "_model_name": "ProgressStyleModel",
            "_view_count": null,
            "_view_module": "@jupyter-widgets/base",
            "_view_module_version": "1.2.0",
            "_view_name": "StyleView",
            "bar_color": null,
            "description_width": ""
          }
        },
        "9696b65c65f84fea9339326d92ebb159": {
          "model_module": "@jupyter-widgets/base",
          "model_name": "LayoutModel",
          "model_module_version": "1.2.0",
          "state": {
            "_model_module": "@jupyter-widgets/base",
            "_model_module_version": "1.2.0",
            "_model_name": "LayoutModel",
            "_view_count": null,
            "_view_module": "@jupyter-widgets/base",
            "_view_module_version": "1.2.0",
            "_view_name": "LayoutView",
            "align_content": null,
            "align_items": null,
            "align_self": null,
            "border": null,
            "bottom": null,
            "display": null,
            "flex": null,
            "flex_flow": null,
            "grid_area": null,
            "grid_auto_columns": null,
            "grid_auto_flow": null,
            "grid_auto_rows": null,
            "grid_column": null,
            "grid_gap": null,
            "grid_row": null,
            "grid_template_areas": null,
            "grid_template_columns": null,
            "grid_template_rows": null,
            "height": null,
            "justify_content": null,
            "justify_items": null,
            "left": null,
            "margin": null,
            "max_height": null,
            "max_width": null,
            "min_height": null,
            "min_width": null,
            "object_fit": null,
            "object_position": null,
            "order": null,
            "overflow": null,
            "overflow_x": null,
            "overflow_y": null,
            "padding": null,
            "right": null,
            "top": null,
            "visibility": null,
            "width": null
          }
        },
        "a1e6deed2bf9453eb6a73c1ca60f5658": {
          "model_module": "@jupyter-widgets/controls",
          "model_name": "DescriptionStyleModel",
          "model_module_version": "1.5.0",
          "state": {
            "_model_module": "@jupyter-widgets/controls",
            "_model_module_version": "1.5.0",
            "_model_name": "DescriptionStyleModel",
            "_view_count": null,
            "_view_module": "@jupyter-widgets/base",
            "_view_module_version": "1.2.0",
            "_view_name": "StyleView",
            "description_width": ""
          }
        },
        "94b6f295377640c99e443c78330c02d7": {
          "model_module": "@jupyter-widgets/controls",
          "model_name": "HBoxModel",
          "model_module_version": "1.5.0",
          "state": {
            "_dom_classes": [],
            "_model_module": "@jupyter-widgets/controls",
            "_model_module_version": "1.5.0",
            "_model_name": "HBoxModel",
            "_view_count": null,
            "_view_module": "@jupyter-widgets/controls",
            "_view_module_version": "1.5.0",
            "_view_name": "HBoxView",
            "box_style": "",
            "children": [
              "IPY_MODEL_49d4c0e62b184f908c341eace7551406",
              "IPY_MODEL_9ca6851fa6794b3e95ff9f18e50e307d",
              "IPY_MODEL_d562507256af494a9d93ead4728a49ba"
            ],
            "layout": "IPY_MODEL_51e6aa55fd384315a06a4ad11e515f3e"
          }
        },
        "49d4c0e62b184f908c341eace7551406": {
          "model_module": "@jupyter-widgets/controls",
          "model_name": "HTMLModel",
          "model_module_version": "1.5.0",
          "state": {
            "_dom_classes": [],
            "_model_module": "@jupyter-widgets/controls",
            "_model_module_version": "1.5.0",
            "_model_name": "HTMLModel",
            "_view_count": null,
            "_view_module": "@jupyter-widgets/controls",
            "_view_module_version": "1.5.0",
            "_view_name": "HTMLView",
            "description": "",
            "description_tooltip": null,
            "layout": "IPY_MODEL_9a4f254a4d384fdb871a7fb0888c637e",
            "placeholder": "​",
            "style": "IPY_MODEL_be9f67d6524e4506a8944ddcf3d04259",
            "value": "100%"
          }
        },
        "9ca6851fa6794b3e95ff9f18e50e307d": {
          "model_module": "@jupyter-widgets/controls",
          "model_name": "FloatProgressModel",
          "model_module_version": "1.5.0",
          "state": {
            "_dom_classes": [],
            "_model_module": "@jupyter-widgets/controls",
            "_model_module_version": "1.5.0",
            "_model_name": "FloatProgressModel",
            "_view_count": null,
            "_view_module": "@jupyter-widgets/controls",
            "_view_module_version": "1.5.0",
            "_view_name": "ProgressView",
            "bar_style": "success",
            "description": "",
            "description_tooltip": null,
            "layout": "IPY_MODEL_812ffc4a514f4a6383f9ee26e0cfbcf5",
            "max": 7,
            "min": 0,
            "orientation": "horizontal",
            "style": "IPY_MODEL_0d270b1dd9c8443990f8495c7d458177",
            "value": 7
          }
        },
        "d562507256af494a9d93ead4728a49ba": {
          "model_module": "@jupyter-widgets/controls",
          "model_name": "HTMLModel",
          "model_module_version": "1.5.0",
          "state": {
            "_dom_classes": [],
            "_model_module": "@jupyter-widgets/controls",
            "_model_module_version": "1.5.0",
            "_model_name": "HTMLModel",
            "_view_count": null,
            "_view_module": "@jupyter-widgets/controls",
            "_view_module_version": "1.5.0",
            "_view_name": "HTMLView",
            "description": "",
            "description_tooltip": null,
            "layout": "IPY_MODEL_9a356946247842e18599954ddfd74bbf",
            "placeholder": "​",
            "style": "IPY_MODEL_9268b5412ebf478996f9216a076c77b7",
            "value": " 7/7 [00:00&lt;00:00, 82.32it/s]"
          }
        },
        "51e6aa55fd384315a06a4ad11e515f3e": {
          "model_module": "@jupyter-widgets/base",
          "model_name": "LayoutModel",
          "model_module_version": "1.2.0",
          "state": {
            "_model_module": "@jupyter-widgets/base",
            "_model_module_version": "1.2.0",
            "_model_name": "LayoutModel",
            "_view_count": null,
            "_view_module": "@jupyter-widgets/base",
            "_view_module_version": "1.2.0",
            "_view_name": "LayoutView",
            "align_content": null,
            "align_items": null,
            "align_self": null,
            "border": null,
            "bottom": null,
            "display": null,
            "flex": null,
            "flex_flow": null,
            "grid_area": null,
            "grid_auto_columns": null,
            "grid_auto_flow": null,
            "grid_auto_rows": null,
            "grid_column": null,
            "grid_gap": null,
            "grid_row": null,
            "grid_template_areas": null,
            "grid_template_columns": null,
            "grid_template_rows": null,
            "height": null,
            "justify_content": null,
            "justify_items": null,
            "left": null,
            "margin": null,
            "max_height": null,
            "max_width": null,
            "min_height": null,
            "min_width": null,
            "object_fit": null,
            "object_position": null,
            "order": null,
            "overflow": null,
            "overflow_x": null,
            "overflow_y": null,
            "padding": null,
            "right": null,
            "top": null,
            "visibility": null,
            "width": null
          }
        },
        "9a4f254a4d384fdb871a7fb0888c637e": {
          "model_module": "@jupyter-widgets/base",
          "model_name": "LayoutModel",
          "model_module_version": "1.2.0",
          "state": {
            "_model_module": "@jupyter-widgets/base",
            "_model_module_version": "1.2.0",
            "_model_name": "LayoutModel",
            "_view_count": null,
            "_view_module": "@jupyter-widgets/base",
            "_view_module_version": "1.2.0",
            "_view_name": "LayoutView",
            "align_content": null,
            "align_items": null,
            "align_self": null,
            "border": null,
            "bottom": null,
            "display": null,
            "flex": null,
            "flex_flow": null,
            "grid_area": null,
            "grid_auto_columns": null,
            "grid_auto_flow": null,
            "grid_auto_rows": null,
            "grid_column": null,
            "grid_gap": null,
            "grid_row": null,
            "grid_template_areas": null,
            "grid_template_columns": null,
            "grid_template_rows": null,
            "height": null,
            "justify_content": null,
            "justify_items": null,
            "left": null,
            "margin": null,
            "max_height": null,
            "max_width": null,
            "min_height": null,
            "min_width": null,
            "object_fit": null,
            "object_position": null,
            "order": null,
            "overflow": null,
            "overflow_x": null,
            "overflow_y": null,
            "padding": null,
            "right": null,
            "top": null,
            "visibility": null,
            "width": null
          }
        },
        "be9f67d6524e4506a8944ddcf3d04259": {
          "model_module": "@jupyter-widgets/controls",
          "model_name": "DescriptionStyleModel",
          "model_module_version": "1.5.0",
          "state": {
            "_model_module": "@jupyter-widgets/controls",
            "_model_module_version": "1.5.0",
            "_model_name": "DescriptionStyleModel",
            "_view_count": null,
            "_view_module": "@jupyter-widgets/base",
            "_view_module_version": "1.2.0",
            "_view_name": "StyleView",
            "description_width": ""
          }
        },
        "812ffc4a514f4a6383f9ee26e0cfbcf5": {
          "model_module": "@jupyter-widgets/base",
          "model_name": "LayoutModel",
          "model_module_version": "1.2.0",
          "state": {
            "_model_module": "@jupyter-widgets/base",
            "_model_module_version": "1.2.0",
            "_model_name": "LayoutModel",
            "_view_count": null,
            "_view_module": "@jupyter-widgets/base",
            "_view_module_version": "1.2.0",
            "_view_name": "LayoutView",
            "align_content": null,
            "align_items": null,
            "align_self": null,
            "border": null,
            "bottom": null,
            "display": null,
            "flex": null,
            "flex_flow": null,
            "grid_area": null,
            "grid_auto_columns": null,
            "grid_auto_flow": null,
            "grid_auto_rows": null,
            "grid_column": null,
            "grid_gap": null,
            "grid_row": null,
            "grid_template_areas": null,
            "grid_template_columns": null,
            "grid_template_rows": null,
            "height": null,
            "justify_content": null,
            "justify_items": null,
            "left": null,
            "margin": null,
            "max_height": null,
            "max_width": null,
            "min_height": null,
            "min_width": null,
            "object_fit": null,
            "object_position": null,
            "order": null,
            "overflow": null,
            "overflow_x": null,
            "overflow_y": null,
            "padding": null,
            "right": null,
            "top": null,
            "visibility": null,
            "width": null
          }
        },
        "0d270b1dd9c8443990f8495c7d458177": {
          "model_module": "@jupyter-widgets/controls",
          "model_name": "ProgressStyleModel",
          "model_module_version": "1.5.0",
          "state": {
            "_model_module": "@jupyter-widgets/controls",
            "_model_module_version": "1.5.0",
            "_model_name": "ProgressStyleModel",
            "_view_count": null,
            "_view_module": "@jupyter-widgets/base",
            "_view_module_version": "1.2.0",
            "_view_name": "StyleView",
            "bar_color": null,
            "description_width": ""
          }
        },
        "9a356946247842e18599954ddfd74bbf": {
          "model_module": "@jupyter-widgets/base",
          "model_name": "LayoutModel",
          "model_module_version": "1.2.0",
          "state": {
            "_model_module": "@jupyter-widgets/base",
            "_model_module_version": "1.2.0",
            "_model_name": "LayoutModel",
            "_view_count": null,
            "_view_module": "@jupyter-widgets/base",
            "_view_module_version": "1.2.0",
            "_view_name": "LayoutView",
            "align_content": null,
            "align_items": null,
            "align_self": null,
            "border": null,
            "bottom": null,
            "display": null,
            "flex": null,
            "flex_flow": null,
            "grid_area": null,
            "grid_auto_columns": null,
            "grid_auto_flow": null,
            "grid_auto_rows": null,
            "grid_column": null,
            "grid_gap": null,
            "grid_row": null,
            "grid_template_areas": null,
            "grid_template_columns": null,
            "grid_template_rows": null,
            "height": null,
            "justify_content": null,
            "justify_items": null,
            "left": null,
            "margin": null,
            "max_height": null,
            "max_width": null,
            "min_height": null,
            "min_width": null,
            "object_fit": null,
            "object_position": null,
            "order": null,
            "overflow": null,
            "overflow_x": null,
            "overflow_y": null,
            "padding": null,
            "right": null,
            "top": null,
            "visibility": null,
            "width": null
          }
        },
        "9268b5412ebf478996f9216a076c77b7": {
          "model_module": "@jupyter-widgets/controls",
          "model_name": "DescriptionStyleModel",
          "model_module_version": "1.5.0",
          "state": {
            "_model_module": "@jupyter-widgets/controls",
            "_model_module_version": "1.5.0",
            "_model_name": "DescriptionStyleModel",
            "_view_count": null,
            "_view_module": "@jupyter-widgets/base",
            "_view_module_version": "1.2.0",
            "_view_name": "StyleView",
            "description_width": ""
          }
        },
        "8eadad46fed44c98abfc25ae8f8f0e90": {
          "model_module": "@jupyter-widgets/controls",
          "model_name": "HBoxModel",
          "model_module_version": "1.5.0",
          "state": {
            "_dom_classes": [],
            "_model_module": "@jupyter-widgets/controls",
            "_model_module_version": "1.5.0",
            "_model_name": "HBoxModel",
            "_view_count": null,
            "_view_module": "@jupyter-widgets/controls",
            "_view_module_version": "1.5.0",
            "_view_name": "HBoxView",
            "box_style": "",
            "children": [
              "IPY_MODEL_d1755fd8f3f04152bae9fe3f3058dbca",
              "IPY_MODEL_2e5574d7f3654abca8d447999fb3d3e7",
              "IPY_MODEL_d4b42dd40e1845078e3d561ff6ef4064"
            ],
            "layout": "IPY_MODEL_523d56043747420cb6468044aa951744"
          }
        },
        "d1755fd8f3f04152bae9fe3f3058dbca": {
          "model_module": "@jupyter-widgets/controls",
          "model_name": "HTMLModel",
          "model_module_version": "1.5.0",
          "state": {
            "_dom_classes": [],
            "_model_module": "@jupyter-widgets/controls",
            "_model_module_version": "1.5.0",
            "_model_name": "HTMLModel",
            "_view_count": null,
            "_view_module": "@jupyter-widgets/controls",
            "_view_module_version": "1.5.0",
            "_view_name": "HTMLView",
            "description": "",
            "description_tooltip": null,
            "layout": "IPY_MODEL_ac3be70e7042442ca5c4d9a63d245bbc",
            "placeholder": "​",
            "style": "IPY_MODEL_3899725c4c464ea49e2b9309ecd3252d",
            "value": " 58%"
          }
        },
        "2e5574d7f3654abca8d447999fb3d3e7": {
          "model_module": "@jupyter-widgets/controls",
          "model_name": "FloatProgressModel",
          "model_module_version": "1.5.0",
          "state": {
            "_dom_classes": [],
            "_model_module": "@jupyter-widgets/controls",
            "_model_module_version": "1.5.0",
            "_model_name": "FloatProgressModel",
            "_view_count": null,
            "_view_module": "@jupyter-widgets/controls",
            "_view_module_version": "1.5.0",
            "_view_name": "ProgressView",
            "bar_style": "",
            "description": "",
            "description_tooltip": null,
            "layout": "IPY_MODEL_8b5165691f994191b51525a8d4739459",
            "max": 39344,
            "min": 0,
            "orientation": "horizontal",
            "style": "IPY_MODEL_15448a511d8b49c0abe4a7dd6ea1db87",
            "value": 22646
          }
        },
        "d4b42dd40e1845078e3d561ff6ef4064": {
          "model_module": "@jupyter-widgets/controls",
          "model_name": "HTMLModel",
          "model_module_version": "1.5.0",
          "state": {
            "_dom_classes": [],
            "_model_module": "@jupyter-widgets/controls",
            "_model_module_version": "1.5.0",
            "_model_name": "HTMLModel",
            "_view_count": null,
            "_view_module": "@jupyter-widgets/controls",
            "_view_module_version": "1.5.0",
            "_view_name": "HTMLView",
            "description": "",
            "description_tooltip": null,
            "layout": "IPY_MODEL_289ad1e3273f45d49b7c567d8fcfaf50",
            "placeholder": "​",
            "style": "IPY_MODEL_618bb92703ce457db09a4ea9d969f292",
            "value": " 22646/39344 [00:58&lt;00:42, 394.29it/s]"
          }
        },
        "523d56043747420cb6468044aa951744": {
          "model_module": "@jupyter-widgets/base",
          "model_name": "LayoutModel",
          "model_module_version": "1.2.0",
          "state": {
            "_model_module": "@jupyter-widgets/base",
            "_model_module_version": "1.2.0",
            "_model_name": "LayoutModel",
            "_view_count": null,
            "_view_module": "@jupyter-widgets/base",
            "_view_module_version": "1.2.0",
            "_view_name": "LayoutView",
            "align_content": null,
            "align_items": null,
            "align_self": null,
            "border": null,
            "bottom": null,
            "display": null,
            "flex": null,
            "flex_flow": null,
            "grid_area": null,
            "grid_auto_columns": null,
            "grid_auto_flow": null,
            "grid_auto_rows": null,
            "grid_column": null,
            "grid_gap": null,
            "grid_row": null,
            "grid_template_areas": null,
            "grid_template_columns": null,
            "grid_template_rows": null,
            "height": null,
            "justify_content": null,
            "justify_items": null,
            "left": null,
            "margin": null,
            "max_height": null,
            "max_width": null,
            "min_height": null,
            "min_width": null,
            "object_fit": null,
            "object_position": null,
            "order": null,
            "overflow": null,
            "overflow_x": null,
            "overflow_y": null,
            "padding": null,
            "right": null,
            "top": null,
            "visibility": null,
            "width": null
          }
        },
        "ac3be70e7042442ca5c4d9a63d245bbc": {
          "model_module": "@jupyter-widgets/base",
          "model_name": "LayoutModel",
          "model_module_version": "1.2.0",
          "state": {
            "_model_module": "@jupyter-widgets/base",
            "_model_module_version": "1.2.0",
            "_model_name": "LayoutModel",
            "_view_count": null,
            "_view_module": "@jupyter-widgets/base",
            "_view_module_version": "1.2.0",
            "_view_name": "LayoutView",
            "align_content": null,
            "align_items": null,
            "align_self": null,
            "border": null,
            "bottom": null,
            "display": null,
            "flex": null,
            "flex_flow": null,
            "grid_area": null,
            "grid_auto_columns": null,
            "grid_auto_flow": null,
            "grid_auto_rows": null,
            "grid_column": null,
            "grid_gap": null,
            "grid_row": null,
            "grid_template_areas": null,
            "grid_template_columns": null,
            "grid_template_rows": null,
            "height": null,
            "justify_content": null,
            "justify_items": null,
            "left": null,
            "margin": null,
            "max_height": null,
            "max_width": null,
            "min_height": null,
            "min_width": null,
            "object_fit": null,
            "object_position": null,
            "order": null,
            "overflow": null,
            "overflow_x": null,
            "overflow_y": null,
            "padding": null,
            "right": null,
            "top": null,
            "visibility": null,
            "width": null
          }
        },
        "3899725c4c464ea49e2b9309ecd3252d": {
          "model_module": "@jupyter-widgets/controls",
          "model_name": "DescriptionStyleModel",
          "model_module_version": "1.5.0",
          "state": {
            "_model_module": "@jupyter-widgets/controls",
            "_model_module_version": "1.5.0",
            "_model_name": "DescriptionStyleModel",
            "_view_count": null,
            "_view_module": "@jupyter-widgets/base",
            "_view_module_version": "1.2.0",
            "_view_name": "StyleView",
            "description_width": ""
          }
        },
        "8b5165691f994191b51525a8d4739459": {
          "model_module": "@jupyter-widgets/base",
          "model_name": "LayoutModel",
          "model_module_version": "1.2.0",
          "state": {
            "_model_module": "@jupyter-widgets/base",
            "_model_module_version": "1.2.0",
            "_model_name": "LayoutModel",
            "_view_count": null,
            "_view_module": "@jupyter-widgets/base",
            "_view_module_version": "1.2.0",
            "_view_name": "LayoutView",
            "align_content": null,
            "align_items": null,
            "align_self": null,
            "border": null,
            "bottom": null,
            "display": null,
            "flex": null,
            "flex_flow": null,
            "grid_area": null,
            "grid_auto_columns": null,
            "grid_auto_flow": null,
            "grid_auto_rows": null,
            "grid_column": null,
            "grid_gap": null,
            "grid_row": null,
            "grid_template_areas": null,
            "grid_template_columns": null,
            "grid_template_rows": null,
            "height": null,
            "justify_content": null,
            "justify_items": null,
            "left": null,
            "margin": null,
            "max_height": null,
            "max_width": null,
            "min_height": null,
            "min_width": null,
            "object_fit": null,
            "object_position": null,
            "order": null,
            "overflow": null,
            "overflow_x": null,
            "overflow_y": null,
            "padding": null,
            "right": null,
            "top": null,
            "visibility": null,
            "width": null
          }
        },
        "15448a511d8b49c0abe4a7dd6ea1db87": {
          "model_module": "@jupyter-widgets/controls",
          "model_name": "ProgressStyleModel",
          "model_module_version": "1.5.0",
          "state": {
            "_model_module": "@jupyter-widgets/controls",
            "_model_module_version": "1.5.0",
            "_model_name": "ProgressStyleModel",
            "_view_count": null,
            "_view_module": "@jupyter-widgets/base",
            "_view_module_version": "1.2.0",
            "_view_name": "StyleView",
            "bar_color": null,
            "description_width": ""
          }
        },
        "289ad1e3273f45d49b7c567d8fcfaf50": {
          "model_module": "@jupyter-widgets/base",
          "model_name": "LayoutModel",
          "model_module_version": "1.2.0",
          "state": {
            "_model_module": "@jupyter-widgets/base",
            "_model_module_version": "1.2.0",
            "_model_name": "LayoutModel",
            "_view_count": null,
            "_view_module": "@jupyter-widgets/base",
            "_view_module_version": "1.2.0",
            "_view_name": "LayoutView",
            "align_content": null,
            "align_items": null,
            "align_self": null,
            "border": null,
            "bottom": null,
            "display": null,
            "flex": null,
            "flex_flow": null,
            "grid_area": null,
            "grid_auto_columns": null,
            "grid_auto_flow": null,
            "grid_auto_rows": null,
            "grid_column": null,
            "grid_gap": null,
            "grid_row": null,
            "grid_template_areas": null,
            "grid_template_columns": null,
            "grid_template_rows": null,
            "height": null,
            "justify_content": null,
            "justify_items": null,
            "left": null,
            "margin": null,
            "max_height": null,
            "max_width": null,
            "min_height": null,
            "min_width": null,
            "object_fit": null,
            "object_position": null,
            "order": null,
            "overflow": null,
            "overflow_x": null,
            "overflow_y": null,
            "padding": null,
            "right": null,
            "top": null,
            "visibility": null,
            "width": null
          }
        },
        "618bb92703ce457db09a4ea9d969f292": {
          "model_module": "@jupyter-widgets/controls",
          "model_name": "DescriptionStyleModel",
          "model_module_version": "1.5.0",
          "state": {
            "_model_module": "@jupyter-widgets/controls",
            "_model_module_version": "1.5.0",
            "_model_name": "DescriptionStyleModel",
            "_view_count": null,
            "_view_module": "@jupyter-widgets/base",
            "_view_module_version": "1.2.0",
            "_view_name": "StyleView",
            "description_width": ""
          }
        },
        "6be54100183548968702cb2127def4e0": {
          "model_module": "@jupyter-widgets/controls",
          "model_name": "HBoxModel",
          "model_module_version": "1.5.0",
          "state": {
            "_dom_classes": [],
            "_model_module": "@jupyter-widgets/controls",
            "_model_module_version": "1.5.0",
            "_model_name": "HBoxModel",
            "_view_count": null,
            "_view_module": "@jupyter-widgets/controls",
            "_view_module_version": "1.5.0",
            "_view_name": "HBoxView",
            "box_style": "",
            "children": [
              "IPY_MODEL_dff3395784bc410da059dc2afdf302c7",
              "IPY_MODEL_96f79c144fe8445690755415599a77aa",
              "IPY_MODEL_0a0205c485754f7890536bb492ae2c79"
            ],
            "layout": "IPY_MODEL_1198108297b144daa336247638026ccc"
          }
        },
        "dff3395784bc410da059dc2afdf302c7": {
          "model_module": "@jupyter-widgets/controls",
          "model_name": "HTMLModel",
          "model_module_version": "1.5.0",
          "state": {
            "_dom_classes": [],
            "_model_module": "@jupyter-widgets/controls",
            "_model_module_version": "1.5.0",
            "_model_name": "HTMLModel",
            "_view_count": null,
            "_view_module": "@jupyter-widgets/controls",
            "_view_module_version": "1.5.0",
            "_view_name": "HTMLView",
            "description": "",
            "description_tooltip": null,
            "layout": "IPY_MODEL_3da0350964da4b369833a0545992b77a",
            "placeholder": "​",
            "style": "IPY_MODEL_e209013a7a504b569e0a6ea06a8a16b6",
            "value": "100%"
          }
        },
        "96f79c144fe8445690755415599a77aa": {
          "model_module": "@jupyter-widgets/controls",
          "model_name": "FloatProgressModel",
          "model_module_version": "1.5.0",
          "state": {
            "_dom_classes": [],
            "_model_module": "@jupyter-widgets/controls",
            "_model_module_version": "1.5.0",
            "_model_name": "FloatProgressModel",
            "_view_count": null,
            "_view_module": "@jupyter-widgets/controls",
            "_view_module_version": "1.5.0",
            "_view_name": "ProgressView",
            "bar_style": "success",
            "description": "",
            "description_tooltip": null,
            "layout": "IPY_MODEL_d4f4669afe3b47de949a9b009dfec811",
            "max": 1050,
            "min": 0,
            "orientation": "horizontal",
            "style": "IPY_MODEL_cb44508742cc40cba3c0c30aab2210fd",
            "value": 1050
          }
        },
        "0a0205c485754f7890536bb492ae2c79": {
          "model_module": "@jupyter-widgets/controls",
          "model_name": "HTMLModel",
          "model_module_version": "1.5.0",
          "state": {
            "_dom_classes": [],
            "_model_module": "@jupyter-widgets/controls",
            "_model_module_version": "1.5.0",
            "_model_name": "HTMLModel",
            "_view_count": null,
            "_view_module": "@jupyter-widgets/controls",
            "_view_module_version": "1.5.0",
            "_view_name": "HTMLView",
            "description": "",
            "description_tooltip": null,
            "layout": "IPY_MODEL_744281c7e7b14e94b1bb1f19768d5067",
            "placeholder": "​",
            "style": "IPY_MODEL_2d6738b0e2b3493a932d23a94d435c5e",
            "value": " 1050/1050 [00:03&lt;00:00, 211.29it/s]"
          }
        },
        "1198108297b144daa336247638026ccc": {
          "model_module": "@jupyter-widgets/base",
          "model_name": "LayoutModel",
          "model_module_version": "1.2.0",
          "state": {
            "_model_module": "@jupyter-widgets/base",
            "_model_module_version": "1.2.0",
            "_model_name": "LayoutModel",
            "_view_count": null,
            "_view_module": "@jupyter-widgets/base",
            "_view_module_version": "1.2.0",
            "_view_name": "LayoutView",
            "align_content": null,
            "align_items": null,
            "align_self": null,
            "border": null,
            "bottom": null,
            "display": null,
            "flex": null,
            "flex_flow": null,
            "grid_area": null,
            "grid_auto_columns": null,
            "grid_auto_flow": null,
            "grid_auto_rows": null,
            "grid_column": null,
            "grid_gap": null,
            "grid_row": null,
            "grid_template_areas": null,
            "grid_template_columns": null,
            "grid_template_rows": null,
            "height": null,
            "justify_content": null,
            "justify_items": null,
            "left": null,
            "margin": null,
            "max_height": null,
            "max_width": null,
            "min_height": null,
            "min_width": null,
            "object_fit": null,
            "object_position": null,
            "order": null,
            "overflow": null,
            "overflow_x": null,
            "overflow_y": null,
            "padding": null,
            "right": null,
            "top": null,
            "visibility": null,
            "width": null
          }
        },
        "3da0350964da4b369833a0545992b77a": {
          "model_module": "@jupyter-widgets/base",
          "model_name": "LayoutModel",
          "model_module_version": "1.2.0",
          "state": {
            "_model_module": "@jupyter-widgets/base",
            "_model_module_version": "1.2.0",
            "_model_name": "LayoutModel",
            "_view_count": null,
            "_view_module": "@jupyter-widgets/base",
            "_view_module_version": "1.2.0",
            "_view_name": "LayoutView",
            "align_content": null,
            "align_items": null,
            "align_self": null,
            "border": null,
            "bottom": null,
            "display": null,
            "flex": null,
            "flex_flow": null,
            "grid_area": null,
            "grid_auto_columns": null,
            "grid_auto_flow": null,
            "grid_auto_rows": null,
            "grid_column": null,
            "grid_gap": null,
            "grid_row": null,
            "grid_template_areas": null,
            "grid_template_columns": null,
            "grid_template_rows": null,
            "height": null,
            "justify_content": null,
            "justify_items": null,
            "left": null,
            "margin": null,
            "max_height": null,
            "max_width": null,
            "min_height": null,
            "min_width": null,
            "object_fit": null,
            "object_position": null,
            "order": null,
            "overflow": null,
            "overflow_x": null,
            "overflow_y": null,
            "padding": null,
            "right": null,
            "top": null,
            "visibility": null,
            "width": null
          }
        },
        "e209013a7a504b569e0a6ea06a8a16b6": {
          "model_module": "@jupyter-widgets/controls",
          "model_name": "DescriptionStyleModel",
          "model_module_version": "1.5.0",
          "state": {
            "_model_module": "@jupyter-widgets/controls",
            "_model_module_version": "1.5.0",
            "_model_name": "DescriptionStyleModel",
            "_view_count": null,
            "_view_module": "@jupyter-widgets/base",
            "_view_module_version": "1.2.0",
            "_view_name": "StyleView",
            "description_width": ""
          }
        },
        "d4f4669afe3b47de949a9b009dfec811": {
          "model_module": "@jupyter-widgets/base",
          "model_name": "LayoutModel",
          "model_module_version": "1.2.0",
          "state": {
            "_model_module": "@jupyter-widgets/base",
            "_model_module_version": "1.2.0",
            "_model_name": "LayoutModel",
            "_view_count": null,
            "_view_module": "@jupyter-widgets/base",
            "_view_module_version": "1.2.0",
            "_view_name": "LayoutView",
            "align_content": null,
            "align_items": null,
            "align_self": null,
            "border": null,
            "bottom": null,
            "display": null,
            "flex": null,
            "flex_flow": null,
            "grid_area": null,
            "grid_auto_columns": null,
            "grid_auto_flow": null,
            "grid_auto_rows": null,
            "grid_column": null,
            "grid_gap": null,
            "grid_row": null,
            "grid_template_areas": null,
            "grid_template_columns": null,
            "grid_template_rows": null,
            "height": null,
            "justify_content": null,
            "justify_items": null,
            "left": null,
            "margin": null,
            "max_height": null,
            "max_width": null,
            "min_height": null,
            "min_width": null,
            "object_fit": null,
            "object_position": null,
            "order": null,
            "overflow": null,
            "overflow_x": null,
            "overflow_y": null,
            "padding": null,
            "right": null,
            "top": null,
            "visibility": null,
            "width": null
          }
        },
        "cb44508742cc40cba3c0c30aab2210fd": {
          "model_module": "@jupyter-widgets/controls",
          "model_name": "ProgressStyleModel",
          "model_module_version": "1.5.0",
          "state": {
            "_model_module": "@jupyter-widgets/controls",
            "_model_module_version": "1.5.0",
            "_model_name": "ProgressStyleModel",
            "_view_count": null,
            "_view_module": "@jupyter-widgets/base",
            "_view_module_version": "1.2.0",
            "_view_name": "StyleView",
            "bar_color": null,
            "description_width": ""
          }
        },
        "744281c7e7b14e94b1bb1f19768d5067": {
          "model_module": "@jupyter-widgets/base",
          "model_name": "LayoutModel",
          "model_module_version": "1.2.0",
          "state": {
            "_model_module": "@jupyter-widgets/base",
            "_model_module_version": "1.2.0",
            "_model_name": "LayoutModel",
            "_view_count": null,
            "_view_module": "@jupyter-widgets/base",
            "_view_module_version": "1.2.0",
            "_view_name": "LayoutView",
            "align_content": null,
            "align_items": null,
            "align_self": null,
            "border": null,
            "bottom": null,
            "display": null,
            "flex": null,
            "flex_flow": null,
            "grid_area": null,
            "grid_auto_columns": null,
            "grid_auto_flow": null,
            "grid_auto_rows": null,
            "grid_column": null,
            "grid_gap": null,
            "grid_row": null,
            "grid_template_areas": null,
            "grid_template_columns": null,
            "grid_template_rows": null,
            "height": null,
            "justify_content": null,
            "justify_items": null,
            "left": null,
            "margin": null,
            "max_height": null,
            "max_width": null,
            "min_height": null,
            "min_width": null,
            "object_fit": null,
            "object_position": null,
            "order": null,
            "overflow": null,
            "overflow_x": null,
            "overflow_y": null,
            "padding": null,
            "right": null,
            "top": null,
            "visibility": null,
            "width": null
          }
        },
        "2d6738b0e2b3493a932d23a94d435c5e": {
          "model_module": "@jupyter-widgets/controls",
          "model_name": "DescriptionStyleModel",
          "model_module_version": "1.5.0",
          "state": {
            "_model_module": "@jupyter-widgets/controls",
            "_model_module_version": "1.5.0",
            "_model_name": "DescriptionStyleModel",
            "_view_count": null,
            "_view_module": "@jupyter-widgets/base",
            "_view_module_version": "1.2.0",
            "_view_name": "StyleView",
            "description_width": ""
          }
        }
      }
    }
  },
  "cells": [
    {
      "cell_type": "markdown",
      "source": [
        "********************************************************************          \n",
        "\n",
        "SEASONALITY OF NEWSPAPER DATA AT THE WEEK LEVEL : EVIDENCES FROM THE GUARDIAN\n",
        " \n",
        "********************************************************************"
      ],
      "metadata": {
        "id": "Ya2z6lgc-awV"
      }
    },
    {
      "cell_type": "markdown",
      "source": [
        "*Data used* : articles from the Guardian, during the first semester 2018, scraped with the API on the following link :\n",
        "\n",
        "Due to Google colab RAM constraint, we were forced to limit our analysis to 6 months. \n",
        "\n",
        "\n",
        "\n",
        "*Research question*\n",
        "The goal of our project is double. On the one hand, we want to focus on the specificity of the vocabulary used with respect to the category to which the article is labelled. Is the vocabulary used to tackle politic issues significantly different from the vocabulary used to talk about lifestyle questions ? We therefore want to establish the list of the words more frequently used for each category, and to determine differences. \n",
        "\n",
        "On the other hand, following Dzogang, Fabon; Lansdall-Welfare, Thomas; Cristianini, Nello (2017), Data from: Discovering periodic patterns in historical news, Dryad, Dataset, https://doi.org/10.5061/dryad.nh775, we would like to determine whether we can observe seasonal variations in the language used for each topic, even if our sample is much more reduced than the one used in the article. Since our sample contains data limited to a 6 month period, we are going to focus to the variations of textual data at the week level : can we predict the day of the week of publication based on the data ? Is there categories of article for which the day of publication is easier to predict ? \n"
      ],
      "metadata": {
        "id": "1iDnTJqSdz6F"
      }
    },
    {
      "cell_type": "code",
      "execution_count": 2,
      "metadata": {
        "id": "iHKtGR8r5oSR",
        "colab": {
          "base_uri": "https://localhost:8080/"
        },
        "outputId": "6e3bc9c1-c4bd-4a87-9957-57a6d77ac468"
      },
      "outputs": [
        {
          "output_type": "stream",
          "name": "stderr",
          "text": [
            "/usr/local/lib/python3.7/dist-packages/statsmodels/tools/_testing.py:19: FutureWarning: pandas.util.testing is deprecated. Use the functions in the public API at pandas.testing instead.\n",
            "  import pandas.util.testing as tm\n"
          ]
        }
      ],
      "source": [
        "import pandas as pd\n",
        "import numpy as np \n",
        "import matplotlib.pyplot as plt\n",
        "import xlrd\n",
        "import seaborn as sns\n",
        "import statsmodels.api as sm\n",
        "from tqdm.notebook import tqdm\n",
        "import re\n",
        "import datetime\n",
        "\n",
        "\n",
        "#Import of packages and functions for tokenization and lda\n",
        "from nltk.tokenize import toktok \n",
        "import pdb # python debugger\n",
        "from collections import Counter\n",
        "\n",
        "from gensim.models import LdaModel\n",
        "from gensim import corpora\n",
        "import nltk\n",
        "from string import punctuation\n",
        "import pdb"
      ]
    },
    {
      "cell_type": "code",
      "source": [
        "#Opening of google drive\n",
        "from google.colab import drive\n",
        "drive.mount('/content/drive')"
      ],
      "metadata": {
        "colab": {
          "base_uri": "https://localhost:8080/"
        },
        "id": "uToRkohv6ifq",
        "outputId": "3e56e843-c9c9-4c99-a4a9-396fa0f2b231"
      },
      "execution_count": 4,
      "outputs": [
        {
          "output_type": "stream",
          "name": "stdout",
          "text": [
            "Mounted at /content/drive\n"
          ]
        }
      ]
    },
    {
      "cell_type": "markdown",
      "source": [
        "\n",
        "# <font color=\"chillipepper\"> I - Import of the data </font>"
      ],
      "metadata": {
        "id": "pUZigqQkXCdc"
      }
    },
    {
      "cell_type": "code",
      "source": [
        "df = pd.read_json('/content/drive/MyDrive/NLP/2018.json')\n",
        "print([\"Number of rows\", len(df)])"
      ],
      "metadata": {
        "id": "K3L3gpxr5p6a",
        "colab": {
          "base_uri": "https://localhost:8080/"
        },
        "outputId": "b64c6c79-cab7-41fa-865d-4bd84ff6fa74"
      },
      "execution_count": 2,
      "outputs": [
        {
          "output_type": "stream",
          "name": "stdout",
          "text": [
            "['Number of rows', 40550]\n"
          ]
        }
      ]
    },
    {
      "cell_type": "markdown",
      "source": [
        "The dataset contains 40, 550 different articles. "
      ],
      "metadata": {
        "id": "QE1SaxwkusIb"
      }
    },
    {
      "cell_type": "markdown",
      "source": [
        "## Descriptive statistics at the articles' level"
      ],
      "metadata": {
        "id": "FYJ6dC5mXmYa"
      }
    },
    {
      "cell_type": "markdown",
      "source": [
        "The articles of the Guardian are divided within 6 differents categories."
      ],
      "metadata": {
        "id": "_QnKet6iG7T8"
      }
    },
    {
      "cell_type": "code",
      "source": [
        "categories = list(df['pillarName'].unique())\n",
        "categories"
      ],
      "metadata": {
        "id": "zes395hM8LSd",
        "colab": {
          "base_uri": "https://localhost:8080/"
        },
        "outputId": "c4592026-9d80-4031-ae67-561a73a3cdaf"
      },
      "execution_count": 3,
      "outputs": [
        {
          "output_type": "execute_result",
          "data": {
            "text/plain": [
              "['News', 'Sport', 'Lifestyle', 'Opinion', 'Arts', None]"
            ]
          },
          "metadata": {},
          "execution_count": 3
        }
      ]
    },
    {
      "cell_type": "code",
      "source": [
        "#Number of articles for each category\n",
        "df.groupby(df.pillarName).size()\n"
      ],
      "metadata": {
        "colab": {
          "base_uri": "https://localhost:8080/"
        },
        "id": "wGaD0XwO92AT",
        "outputId": "f54abc28-9c9a-457b-c92c-240ec1782d6c"
      },
      "execution_count": 4,
      "outputs": [
        {
          "output_type": "execute_result",
          "data": {
            "text/plain": [
              "pillarName\n",
              "Arts          7257\n",
              "Lifestyle     3834\n",
              "News         19361\n",
              "Opinion       3473\n",
              "Sport         6383\n",
              "dtype: int64"
            ]
          },
          "metadata": {},
          "execution_count": 4
        }
      ]
    },
    {
      "cell_type": "code",
      "source": [
        "#Removing of the articles with empty category\n",
        "df = df[df[\"pillarName\"].apply(lambda x: x in categories)]\n",
        "df = df[df['pillarName'].isin(['News', 'Sport', 'Lifestyle', 'Opinion', 'Arts'])]\n",
        "print([\"Number of rows\", len(df)])"
      ],
      "metadata": {
        "id": "8LC8ZkYJ8Roe",
        "colab": {
          "base_uri": "https://localhost:8080/"
        },
        "outputId": "b4904c99-e1f9-49c3-c0de-0b1ab1de4df5"
      },
      "execution_count": 5,
      "outputs": [
        {
          "output_type": "stream",
          "name": "stdout",
          "text": [
            "['Number of rows', 40308]\n"
          ]
        }
      ]
    },
    {
      "cell_type": "markdown",
      "source": [
        "The data set with pillarName (i.e labelled articles) contains  40, 308 articles."
      ],
      "metadata": {
        "id": "e-GiOiGe_mI7"
      }
    },
    {
      "cell_type": "code",
      "source": [
        "df['fields'][0]"
      ],
      "metadata": {
        "colab": {
          "base_uri": "https://localhost:8080/"
        },
        "id": "jWXjKtnSguSj",
        "outputId": "ac6cb9a2-e4a8-466e-a7c4-aeccc5c9eab3"
      },
      "execution_count": 6,
      "outputs": [
        {
          "output_type": "execute_result",
          "data": {
            "text/plain": [
              "{'body': '<p>The Turnbull government is shifting itself on to a pre-election footing, declaring that next week’s budget will demonstrate the Coalition’s economic plan is working and also highlight the risks of a change to a Labor government.<br></p> <p>The treasurer, Scott Morrison, and the finance minister, Mathias Cormann, have emphasised that message before next week’s economic statement, which is expected to deliver income-tax cuts, a significant infrastructure spend, and investments in aged care and health, including a <a href=\"https://www.dailytelegraph.com.au/lifestyle/health/medicare-rebates-for-gps-to-rise-but-knee-mris-sleep-studies-and-back-surgery-restricted-in-budget/news-story/dc7896193fb3436c87bdd690f4fd0c4e\">modest rise in the Medicare levy</a> for GP visits.</p> <p><a href=\"https://www.theguardian.com/info/2015/dec/08/daily-email-au\">Sign up to receive the top stories in Australia every day at noon </a></p>  <figure class=\"element element-embed\" data-alt=\"Sign up to receive the top stories in Australia every day at noon\">  <iframe src=\"https://www.theguardian.com/email/form/plaintone/4150\" height=\"52\" data-form-title=\"Sign up for The Guardian Today - Australia edition\" data-form-description=\"Get our daily email of editors\\' picks and the biggest headlines each afternoon.\" data-form-campaign-code=\"AU_signup_page\" scrolling=\"no\" seamless frameborder=\"0\" class=\"iframed--overflow-hidden email-sub__iframe js-email-sub__iframe js-email-sub__iframe--article\" data-form-success-desc=\"We will send you our picks of the most important headlines tomorrow morning.\"></iframe> </figure>  <p>Following on from a decision last month to dump <a href=\"https://www.theguardian.com/australia-news/2018/apr/25/government-ditches-planned-8bn-rise-in-medicare-levy\">an $8bn increase in the Medicare levy</a> that was supposed to help fund the national disability insurance scheme, there is also speculation the government will use the budget to ditch a decision to scrap an energy supplement implemented at the time Labor legislated the carbon price.</p> <p>Cormann made it clear on Friday the government would persist in trying to land its politically unpopular tax cut for big business, despite the complications posed by <a href=\"https://www.theguardian.com/australia-news/2018/apr/16/banking-royal-commission-told-90-of-financial-advisers-ignored-clients-best-interests\">damaging revelations in the banking royal commission</a>.</p> <h2>Tax measures</h2> <p>The centrepiece of next Tuesday’s budget is expected to be personal income-tax cuts, with <a href=\"http://www.afr.com/news/politics/budget-to-unveil-10year-income-tax-cut-plan-20180421-h0z2ge\">speculative reports</a> saying these will be spread over 10 years with a modest start. Labor has already indicated it will offer voters something similar by way of tax relief.<br></p> <p>Australia’s resources groups expect the Coalition will – apart from keeping the proposed tax cuts for big companies despite the lack of parliamentary support – use the budget to adjust the uplift rate of the Petroleum Resources Rent Tax – a shift that could affect deductions that gas companies can carry forward.</p> <aside class=\"element element-rich-link element--thumbnail\"> <p> <span>Related: </span><a href=\"https://www.theguardian.com/australia-news/2018/apr/30/federal-budget-7bn-better-than-forecast-as-rivers-of-gold-flow-deloitte-predicts\">Federal budget $7bn better than forecast as \\'rivers of gold\\' flow, Deloitte predicts</a> </p> </aside>  <p>The government has also confirmed it will change the rules so that all beer kegs larger than eight litres will be taxed at the same rate, a decision costing the budget $85m over the forward estimates. Large beer producers have previously enjoyed more advantageous tax treatment than craft brewers.</p> <p>On Friday, Morrison could not guarantee the price of craft beer would decrease as a result of the change, but he said he was “taking the tax monkey off the brewer’s back and the distiller’s back all around the country because I want to see those businesses grow”.</p> <h2>Infrastructure </h2> <p>In the countdown to the budget, there has been a debate inside the government about winding back current levels of migration on the basis that Australia’s big cities are too congested, and infrastructure is not keeping pace.</p> <p>The prime minister and the treasurer have been resisting calls to cut the immigration rate, and have stepped up the public focus on infrastructure projects, including $5bn to help construct the <a href=\"https://www.theguardian.com/australia-news/2018/apr/12/turnbull-puts-up-5bn-for-melbourne-airport-rail-link\">long-awaited rail link</a> from Melbourne’s Tullamarine rail link to the city.</p> <p>In the run-up to Tuesday night’s budget, Malcolm Turnbull has unveiled a <a href=\"https://thewest.com.au/politics/budget/prime-minister-malcolm-turnbull-promises-wa-record-rail-road-and-dam-funding-package-ng-b88817683z\">$3.2bn infrastructure package for Western Australia</a>, where the Coalition has been in trouble politically. It includes $1.67bn for road projects, an extra $1.05bn for Metronet, $189m for hospital infrastructure and $140m for a water project.</p> <aside class=\"element element-rich-link element--thumbnail\"> <p> <span>Related: </span><a href=\"https://www.theguardian.com/australia-news/2018/apr/30/scott-morrison-refuses-to-guarantee-budget-surpluses-of-at-least-1-gdp\">Scott Morrison refuses to guarantee budget surpluses of at least 1% GDP</a> </p> </aside>  <p>With Queensland being critical to the government’s electoral fortunes federally, given the swag of marginal seats in the state, there has also been <a href=\"http://www.afr.com/news/politics/malcolm-turnbull-spends-big-on-queensland-infrastructure-20180503-h0zkqy\">a Queensland package</a>, including $800m for a rail upgrade on the Sunshine Coast, and $1bn for an upgrade of the M1 motorway on the Gold Coast.</p> <p>As well as road and rail investments, on Friday, the government confirmed that $140m would be set aside from 2019-20 for a location incentive to attract blockbuster films for production in facilities on the Gold Cast. The \\u200b proposal will increase the location offset rate from 16.5% to 30% for eligible large budget international productions that film in Australia from 1 July 2018.</p> <p>The government also committed $155m this week for a four-lane bridge over the Shoalhaven river at Nowra, in the marginal seat of Gilmore in New South Wales. The Liberals \\u200b hold that seat with a wafer-thin margin of 0.73%.</p> <h2>Aged care</h2> <p>\\u200bThe budget is expected to confirm $100bn for aged care over five years, with a focus on 103,000 people on the waiting list for in-house care, increased focus on training to build the aged care workforce, and improvements to how services are accessed.</p> <aside class=\"element element-rich-link\"> <p> <span>Related: </span><a href=\"https://www.theguardian.com/australia-news/2018/may/04/budget-to-focus-on-funding-more-at-home-care-for-elderly\">Budget to focus on funding more at-home care for elderly</a> </p> </aside>  <p>In health, <a href=\"https://www.dailytelegraph.com.au/lifestyle/health/medicare-rebates-for-gps-to-rise-but-knee-mris-sleep-studies-and-back-surgery-restricted-in-budget/news-story/dc7896193fb3436c87bdd690f4fd0c4e\">a report</a> in the Daily Telegraph suggests the Medicare rebate for GP visits will go up by 55 cents per visit from July 1, ending a four-year freeze – but there will also be cuts to some services.</p> <h2>Rivers of revenue ‘gold’ and return to surplus</h2> <p>With the economy finally turning a corner, Morrison used a speech delivered in late April to confirm the 2018 budget would benefit from stronger than expected revenue collections.</p> <p>He noted that tax receipts until February were running $4.8bn higher than forecast by the Treasury last December, including a $1.2bn boost to income-tax receipts and a $3bn increase on company tax. “Our economy is finally shaking off the dulling effects of the downturn in the mining investment boom,” he said.</p> <p>The respected forecaster Chris Richardson <a href=\"https://www.theguardian.com/australia-news/2018/apr/30/federal-budget-7bn-better-than-forecast-as-rivers-of-gold-flow-deloitte-predicts\">predicts</a> that revenue in 2017-18 will beat the official forecasts by $7.6bn and in 2018-19 by $6.7bn. This improvement translates to underlying cash deficits of $16.6bn in 2017-18 and $13.3bn in 2018-19.</p> <p>While there has been speculation that the budget may include an earlier return to surplus than the forecast time of 2020-21 despite the big outlay on personal tax cuts – Morrison has <a href=\"https://www.theguardian.com/australia-news/2018/apr/30/scott-morrison-refuses-to-guarantee-budget-surpluses-of-at-least-1-gdp\">refused to guarantee</a> that the government will run budget surpluses of at least 1% of GDP, which has been the Coalition’s previous commitment.</p> <p>\\u200b</p>',\n",
              " 'bodyText': 'The Turnbull government is shifting itself on to a pre-election footing, declaring that next week’s budget will demonstrate the Coalition’s economic plan is working and also highlight the risks of a change to a Labor government. The treasurer, Scott Morrison, and the finance minister, Mathias Cormann, have emphasised that message before next week’s economic statement, which is expected to deliver income-tax cuts, a significant infrastructure spend, and investments in aged care and health, including a modest rise in the Medicare levy for GP visits. Sign up to receive the top stories in Australia every day at noon Following on from a decision last month to dump an $8bn increase in the Medicare levy that was supposed to help fund the national disability insurance scheme, there is also speculation the government will use the budget to ditch a decision to scrap an energy supplement implemented at the time Labor legislated the carbon price. Cormann made it clear on Friday the government would persist in trying to land its politically unpopular tax cut for big business, despite the complications posed by damaging revelations in the banking royal commission. Tax measures The centrepiece of next Tuesday’s budget is expected to be personal income-tax cuts, with speculative reports saying these will be spread over 10 years with a modest start. Labor has already indicated it will offer voters something similar by way of tax relief. Australia’s resources groups expect the Coalition will – apart from keeping the proposed tax cuts for big companies despite the lack of parliamentary support – use the budget to adjust the uplift rate of the Petroleum Resources Rent Tax – a shift that could affect deductions that gas companies can carry forward. The government has also confirmed it will change the rules so that all beer kegs larger than eight litres will be taxed at the same rate, a decision costing the budget $85m over the forward estimates. Large beer producers have previously enjoyed more advantageous tax treatment than craft brewers. On Friday, Morrison could not guarantee the price of craft beer would decrease as a result of the change, but he said he was “taking the tax monkey off the brewer’s back and the distiller’s back all around the country because I want to see those businesses grow”. Infrastructure In the countdown to the budget, there has been a debate inside the government about winding back current levels of migration on the basis that Australia’s big cities are too congested, and infrastructure is not keeping pace. The prime minister and the treasurer have been resisting calls to cut the immigration rate, and have stepped up the public focus on infrastructure projects, including $5bn to help construct the long-awaited rail link from Melbourne’s Tullamarine rail link to the city. In the run-up to Tuesday night’s budget, Malcolm Turnbull has unveiled a $3.2bn infrastructure package for Western Australia, where the Coalition has been in trouble politically. It includes $1.67bn for road projects, an extra $1.05bn for Metronet, $189m for hospital infrastructure and $140m for a water project. With Queensland being critical to the government’s electoral fortunes federally, given the swag of marginal seats in the state, there has also been a Queensland package, including $800m for a rail upgrade on the Sunshine Coast, and $1bn for an upgrade of the M1 motorway on the Gold Coast. As well as road and rail investments, on Friday, the government confirmed that $140m would be set aside from 2019-20 for a location incentive to attract blockbuster films for production in facilities on the Gold Cast. The proposal will increase the location offset rate from 16.5% to 30% for eligible large budget international productions that film in Australia from 1 July 2018. The government also committed $155m this week for a four-lane bridge over the Shoalhaven river at Nowra, in the marginal seat of Gilmore in New South Wales. The Liberals hold that seat with a wafer-thin margin of 0.73%. Aged care The budget is expected to confirm $100bn for aged care over five years, with a focus on 103,000 people on the waiting list for in-house care, increased focus on training to build the aged care workforce, and improvements to how services are accessed. In health, a report in the Daily Telegraph suggests the Medicare rebate for GP visits will go up by 55 cents per visit from July 1, ending a four-year freeze – but there will also be cuts to some services. Rivers of revenue ‘gold’ and return to surplus With the economy finally turning a corner, Morrison used a speech delivered in late April to confirm the 2018 budget would benefit from stronger than expected revenue collections. He noted that tax receipts until February were running $4.8bn higher than forecast by the Treasury last December, including a $1.2bn boost to income-tax receipts and a $3bn increase on company tax. “Our economy is finally shaking off the dulling effects of the downturn in the mining investment boom,” he said. The respected forecaster Chris Richardson predicts that revenue in 2017-18 will beat the official forecasts by $7.6bn and in 2018-19 by $6.7bn. This improvement translates to underlying cash deficits of $16.6bn in 2017-18 and $13.3bn in 2018-19. While there has been speculation that the budget may include an earlier return to surplus than the forecast time of 2020-21 despite the big outlay on personal tax cuts – Morrison has refused to guarantee that the government will run budget surpluses of at least 1% of GDP, which has been the Coalition’s previous commitment.',\n",
              " 'byline': 'Katharine Murphy and Amy Remeikis',\n",
              " 'bylineHtml': '<a href=\"profile/katharine-murphy\">Katharine Murphy</a> and <a href=\"profile/amy-remeikis\">Amy Remeikis</a>',\n",
              " 'charCount': '5609',\n",
              " 'firstPublicationDate': '2018-05-04T23:54:15Z',\n",
              " 'headline': 'Australian budget 2018: what to expect from Scott Morrison',\n",
              " 'isInappropriateForSponsorship': 'false',\n",
              " 'isLive': 'true',\n",
              " 'isPremoderated': 'false',\n",
              " 'lang': 'en',\n",
              " 'lastModified': '2018-08-15T22:55:03Z',\n",
              " 'legallySensitive': 'false',\n",
              " 'main': '<figure class=\"element element-image\" data-media-id=\"c4ae98ae7eaf63aebe247e0c361451d2aa6e4a6d\"> <img src=\"https://media.guim.co.uk/c4ae98ae7eaf63aebe247e0c361451d2aa6e4a6d/0_150_4500_2700/1000.jpg\" alt=\"Scott Morrison and Mathias Cormann at a brewery\" width=\"1000\" height=\"600\" class=\"gu-image\" /> <figcaption> <span class=\"element-image__caption\">Scott Morrison and Mathias Cormann toast with Dan Watters of Capital Brewery and Andy Orrell from Hairyman Brewery in Canberra on Friday.</span> <span class=\"element-image__credit\">Photograph: Lukas Coch/AAP</span> </figcaption> </figure>',\n",
              " 'productionOffice': 'AUS',\n",
              " 'publication': 'theguardian.com',\n",
              " 'shortUrl': 'https://www.theguardian.com/p/8h8bx',\n",
              " 'shouldHideAdverts': 'false',\n",
              " 'shouldHideReaderRevenue': 'false',\n",
              " 'showInRelatedContent': 'true',\n",
              " 'standfirst': '<p>Measures likely to include income-tax cuts, boost in infrastructure spending and strong focus on aged care</p><p><a href=\"https://www.theguardian.com/info/2015/dec/08/daily-email-au\">Sign up to receive the top stories in Australia every day at noon </a></p>',\n",
              " 'thumbnail': 'https://media.guim.co.uk/c4ae98ae7eaf63aebe247e0c361451d2aa6e4a6d/0_150_4500_2700/500.jpg',\n",
              " 'trailText': 'Measures likely to include income-tax cuts, boost in infrastructure spending and strong focus on aged care',\n",
              " 'wordcount': '918'}"
            ]
          },
          "metadata": {},
          "execution_count": 6
        }
      ]
    },
    {
      "cell_type": "code",
      "source": [
        "#We want to restrict our analysis to few columns of the scraped dataset, and therefore exclude others. \n",
        "df = df[['fields','pillarName']]\n"
      ],
      "metadata": {
        "id": "cnOpv2HN9dcI"
      },
      "execution_count": 7,
      "outputs": []
    },
    {
      "cell_type": "code",
      "source": [
        "#Creation of new variables to simplify the analysis\n",
        "\n",
        "df['headline'] = df['fields'].apply(lambda x : x['headline'])\n",
        "df['bodyText'] = df['fields'].apply(lambda x : x['bodyText'])\n",
        "df['title_len'] = df.headline.apply(lambda x: len(x.split(' ')) )\n",
        "df['content_len'] = df.bodyText.apply(lambda x: len(x.split(' ')) )"
      ],
      "metadata": {
        "id": "h2TARVii9P0B"
      },
      "execution_count": 8,
      "outputs": []
    },
    {
      "cell_type": "code",
      "source": [
        "print([\"Mean number of words by article \" , np.mean(df[\"bodyText\"].apply(lambda x : len(x)))])\n",
        "\n",
        "categories = ['News', 'Sport', 'Opinion', 'Arts', 'Lifestyle']\n",
        "\n",
        "liste_df= []\n",
        "for category in categories:\n",
        "  locals()[\"df_\"+ str(category)] = df[df['pillarName'] == category]\n",
        "  print([\"Mean number of words for articles from \"+str(category), np.mean(locals()[\"df_\"+ str(category)].apply(lambda x : len(x)))])\n"
      ],
      "metadata": {
        "colab": {
          "base_uri": "https://localhost:8080/"
        },
        "id": "ZQf47ONNq3Qo",
        "outputId": "35c21a91-7aa3-4c04-ab96-7a9fb78dbe35"
      },
      "execution_count": 9,
      "outputs": [
        {
          "output_type": "stream",
          "name": "stdout",
          "text": [
            "['Mean number of words by article ', 4877.409596109954]\n",
            "['Mean number of words for articles from News', 19361.0]\n",
            "['Mean number of words for articles from Sport', 6383.0]\n",
            "['Mean number of words for articles from Opinion', 3473.0]\n",
            "['Mean number of words for articles from Arts', 7257.0]\n",
            "['Mean number of words for articles from Lifestyle', 3834.0]\n"
          ]
        }
      ]
    },
    {
      "cell_type": "markdown",
      "source": [
        "The shortest articles belong to the category Opinion, and the longest to th category News. "
      ],
      "metadata": {
        "id": "a8GijsCNrjn7"
      }
    },
    {
      "cell_type": "markdown",
      "source": [
        "\n",
        "# <font color=\"chillipepper\"> II- Characterization of the words used with respect to the category and sequence classification </font>"
      ],
      "metadata": {
        "id": "yWpwH1Ml-e8I"
      }
    },
    {
      "cell_type": "markdown",
      "source": [
        "### Counting of words"
      ],
      "metadata": {
        "id": "yIhrhx_Qu1qs"
      }
    },
    {
      "cell_type": "code",
      "source": [
        "# Number of words in the articles content\n",
        "arr_bodyText = df.bodyText.apply(lambda x: x.split(' ')).array\n",
        "arr_bodyText = [ x for X in arr_bodyText for x in X]\n",
        "print('%s \"words\" in the contents' % (len(set(arr_bodyText)) ) )"
      ],
      "metadata": {
        "colab": {
          "base_uri": "https://localhost:8080/"
        },
        "id": "hxW1FKc-9jQA",
        "outputId": "105c0bf9-1f14-4de4-85fa-29c0187cba16"
      },
      "execution_count": 35,
      "outputs": [
        {
          "output_type": "stream",
          "name": "stdout",
          "text": [
            "755388 \"words\" in the contents\n"
          ]
        }
      ]
    },
    {
      "cell_type": "code",
      "source": [
        "# Number of words in the title content\n",
        "arr_headline = df.headline.apply(lambda x: x.split(' ')).array\n",
        "arr_headline = [ x for X in arr_headline for x in X]\n",
        "print('%s \"words\" in the title contents' % (len(set(arr_headline)) ) )"
      ],
      "metadata": {
        "colab": {
          "base_uri": "https://localhost:8080/"
        },
        "id": "p2w5OPoY9pdA",
        "outputId": "67bdfdea-0bfe-4dd9-c89c-71666242b7e5"
      },
      "execution_count": 36,
      "outputs": [
        {
          "output_type": "stream",
          "name": "stdout",
          "text": [
            "60025 \"words\" in the title contents\n"
          ]
        }
      ]
    },
    {
      "cell_type": "markdown",
      "source": [
        "### Tokenization at the word level"
      ],
      "metadata": {
        "id": "RNGVQkl_AdZL"
      }
    },
    {
      "cell_type": "markdown",
      "source": [
        " Due to limited RAM, we can not test various tokenizers, and therefore choose the  tokenizer Toktok Tokenizer because of its generality. In the following cell, we also lower all the characters in the whole dataset, both for contents and headlines, and remove punctuation signs and stopwords."
      ],
      "metadata": {
        "id": "6-6AowVjasXw"
      }
    },
    {
      "cell_type": "code",
      "source": [
        "#We want to remove the punctuation signs and the stopwords (set of articles that are not meaningful to analyze the text).\n",
        "nltk.download('stopwords')\n",
        "en_stop = set(nltk.corpus.stopwords.words('english'))\n",
        "\n",
        "#supplementary is the list of characters that we need to exclude and is not included in the list punctuation\n",
        "supplementary = [\"’\", \"”\" , \"–\" ]\n",
        "to_be_removed = list(en_stop) + list(punctuation) + supplementary"
      ],
      "metadata": {
        "colab": {
          "base_uri": "https://localhost:8080/"
        },
        "id": "F2hpkc2JwE-Q",
        "outputId": "85ee4f74-072b-4ef5-91b8-ab6170fa3cf4"
      },
      "execution_count": 14,
      "outputs": [
        {
          "output_type": "stream",
          "name": "stdout",
          "text": [
            "[nltk_data] Downloading package stopwords to /root/nltk_data...\n",
            "[nltk_data]   Unzipping corpora/stopwords.zip.\n"
          ]
        }
      ]
    },
    {
      "cell_type": "code",
      "source": [
        "tokenizer = toktok.ToktokTokenizer()\n",
        "\n",
        "\n",
        "df['tokenized_headline'] = df.headline.apply(lambda x: tokenizer.tokenize(x.lower())).array\n",
        "df['tokenized_bodyText'] = df.bodyText.apply(lambda x: tokenizer.tokenize(x.lower())).array\n",
        "\n",
        "#We keep only rows with bodyText which are not empty (it corresponds to errors due to scrapping).\n",
        "df = df[df[\"tokenized_bodyText\"].map(lambda d: len(d)) > 0].reset_index()\n",
        "\n",
        "\n",
        "for k in tqdm(range(0,len(df))) :\n",
        "    df.tokenized_headline[k] = [x for x in df.tokenized_headline[k] if x not in to_be_removed]\n",
        "    df.tokenized_bodyText[k] = [x for x in df.tokenized_bodyText[k] if x not in to_be_removed]"
      ],
      "metadata": {
        "colab": {
          "base_uri": "https://localhost:8080/",
          "height": 380
        },
        "id": "gTpMspo1RGL_",
        "outputId": "41653bbd-47f1-4950-9f7b-724babb07ee6"
      },
      "execution_count": 15,
      "outputs": [
        {
          "output_type": "error",
          "ename": "KeyboardInterrupt",
          "evalue": "ignored",
          "traceback": [
            "\u001b[0;31m---------------------------------------------------------------------------\u001b[0m",
            "\u001b[0;31mKeyboardInterrupt\u001b[0m                         Traceback (most recent call last)",
            "\u001b[0;32m<ipython-input-15-2775f25757a5>\u001b[0m in \u001b[0;36m<module>\u001b[0;34m()\u001b[0m\n\u001b[1;32m      3\u001b[0m \u001b[0;34m\u001b[0m\u001b[0m\n\u001b[1;32m      4\u001b[0m \u001b[0mdf\u001b[0m\u001b[0;34m[\u001b[0m\u001b[0;34m'tokenized_headline'\u001b[0m\u001b[0;34m]\u001b[0m \u001b[0;34m=\u001b[0m \u001b[0mdf\u001b[0m\u001b[0;34m.\u001b[0m\u001b[0mheadline\u001b[0m\u001b[0;34m.\u001b[0m\u001b[0mapply\u001b[0m\u001b[0;34m(\u001b[0m\u001b[0;32mlambda\u001b[0m \u001b[0mx\u001b[0m\u001b[0;34m:\u001b[0m \u001b[0mtokenizer\u001b[0m\u001b[0;34m.\u001b[0m\u001b[0mtokenize\u001b[0m\u001b[0;34m(\u001b[0m\u001b[0mx\u001b[0m\u001b[0;34m.\u001b[0m\u001b[0mlower\u001b[0m\u001b[0;34m(\u001b[0m\u001b[0;34m)\u001b[0m\u001b[0;34m)\u001b[0m\u001b[0;34m)\u001b[0m\u001b[0;34m.\u001b[0m\u001b[0marray\u001b[0m\u001b[0;34m\u001b[0m\u001b[0;34m\u001b[0m\u001b[0m\n\u001b[0;32m----> 5\u001b[0;31m \u001b[0mdf\u001b[0m\u001b[0;34m[\u001b[0m\u001b[0;34m'tokenized_bodyText'\u001b[0m\u001b[0;34m]\u001b[0m \u001b[0;34m=\u001b[0m \u001b[0mdf\u001b[0m\u001b[0;34m.\u001b[0m\u001b[0mbodyText\u001b[0m\u001b[0;34m.\u001b[0m\u001b[0mapply\u001b[0m\u001b[0;34m(\u001b[0m\u001b[0;32mlambda\u001b[0m \u001b[0mx\u001b[0m\u001b[0;34m:\u001b[0m \u001b[0mtokenizer\u001b[0m\u001b[0;34m.\u001b[0m\u001b[0mtokenize\u001b[0m\u001b[0;34m(\u001b[0m\u001b[0mx\u001b[0m\u001b[0;34m.\u001b[0m\u001b[0mlower\u001b[0m\u001b[0;34m(\u001b[0m\u001b[0;34m)\u001b[0m\u001b[0;34m)\u001b[0m\u001b[0;34m)\u001b[0m\u001b[0;34m.\u001b[0m\u001b[0marray\u001b[0m\u001b[0;34m\u001b[0m\u001b[0;34m\u001b[0m\u001b[0m\n\u001b[0m\u001b[1;32m      6\u001b[0m \u001b[0;34m\u001b[0m\u001b[0m\n\u001b[1;32m      7\u001b[0m \u001b[0;31m#We keep only rows with bodyText which are not empty (it corresponds to errors due to scrapping).\u001b[0m\u001b[0;34m\u001b[0m\u001b[0;34m\u001b[0m\u001b[0;34m\u001b[0m\u001b[0m\n",
            "\u001b[0;32m/usr/local/lib/python3.7/dist-packages/pandas/core/series.py\u001b[0m in \u001b[0;36mapply\u001b[0;34m(self, func, convert_dtype, args, **kwargs)\u001b[0m\n\u001b[1;32m   4355\u001b[0m         \u001b[0mdtype\u001b[0m\u001b[0;34m:\u001b[0m \u001b[0mfloat64\u001b[0m\u001b[0;34m\u001b[0m\u001b[0;34m\u001b[0m\u001b[0m\n\u001b[1;32m   4356\u001b[0m         \"\"\"\n\u001b[0;32m-> 4357\u001b[0;31m         \u001b[0;32mreturn\u001b[0m \u001b[0mSeriesApply\u001b[0m\u001b[0;34m(\u001b[0m\u001b[0mself\u001b[0m\u001b[0;34m,\u001b[0m \u001b[0mfunc\u001b[0m\u001b[0;34m,\u001b[0m \u001b[0mconvert_dtype\u001b[0m\u001b[0;34m,\u001b[0m \u001b[0margs\u001b[0m\u001b[0;34m,\u001b[0m \u001b[0mkwargs\u001b[0m\u001b[0;34m)\u001b[0m\u001b[0;34m.\u001b[0m\u001b[0mapply\u001b[0m\u001b[0;34m(\u001b[0m\u001b[0;34m)\u001b[0m\u001b[0;34m\u001b[0m\u001b[0;34m\u001b[0m\u001b[0m\n\u001b[0m\u001b[1;32m   4358\u001b[0m \u001b[0;34m\u001b[0m\u001b[0m\n\u001b[1;32m   4359\u001b[0m     def _reduce(\n",
            "\u001b[0;32m/usr/local/lib/python3.7/dist-packages/pandas/core/apply.py\u001b[0m in \u001b[0;36mapply\u001b[0;34m(self)\u001b[0m\n\u001b[1;32m   1041\u001b[0m             \u001b[0;32mreturn\u001b[0m \u001b[0mself\u001b[0m\u001b[0;34m.\u001b[0m\u001b[0mapply_str\u001b[0m\u001b[0;34m(\u001b[0m\u001b[0;34m)\u001b[0m\u001b[0;34m\u001b[0m\u001b[0;34m\u001b[0m\u001b[0m\n\u001b[1;32m   1042\u001b[0m \u001b[0;34m\u001b[0m\u001b[0m\n\u001b[0;32m-> 1043\u001b[0;31m         \u001b[0;32mreturn\u001b[0m \u001b[0mself\u001b[0m\u001b[0;34m.\u001b[0m\u001b[0mapply_standard\u001b[0m\u001b[0;34m(\u001b[0m\u001b[0;34m)\u001b[0m\u001b[0;34m\u001b[0m\u001b[0;34m\u001b[0m\u001b[0m\n\u001b[0m\u001b[1;32m   1044\u001b[0m \u001b[0;34m\u001b[0m\u001b[0m\n\u001b[1;32m   1045\u001b[0m     \u001b[0;32mdef\u001b[0m \u001b[0magg\u001b[0m\u001b[0;34m(\u001b[0m\u001b[0mself\u001b[0m\u001b[0;34m)\u001b[0m\u001b[0;34m:\u001b[0m\u001b[0;34m\u001b[0m\u001b[0;34m\u001b[0m\u001b[0m\n",
            "\u001b[0;32m/usr/local/lib/python3.7/dist-packages/pandas/core/apply.py\u001b[0m in \u001b[0;36mapply_standard\u001b[0;34m(self)\u001b[0m\n\u001b[1;32m   1099\u001b[0m                     \u001b[0mvalues\u001b[0m\u001b[0;34m,\u001b[0m\u001b[0;34m\u001b[0m\u001b[0;34m\u001b[0m\u001b[0m\n\u001b[1;32m   1100\u001b[0m                     \u001b[0mf\u001b[0m\u001b[0;34m,\u001b[0m  \u001b[0;31m# type: ignore[arg-type]\u001b[0m\u001b[0;34m\u001b[0m\u001b[0;34m\u001b[0m\u001b[0m\n\u001b[0;32m-> 1101\u001b[0;31m                     \u001b[0mconvert\u001b[0m\u001b[0;34m=\u001b[0m\u001b[0mself\u001b[0m\u001b[0;34m.\u001b[0m\u001b[0mconvert_dtype\u001b[0m\u001b[0;34m,\u001b[0m\u001b[0;34m\u001b[0m\u001b[0;34m\u001b[0m\u001b[0m\n\u001b[0m\u001b[1;32m   1102\u001b[0m                 )\n\u001b[1;32m   1103\u001b[0m \u001b[0;34m\u001b[0m\u001b[0m\n",
            "\u001b[0;32m/usr/local/lib/python3.7/dist-packages/pandas/_libs/lib.pyx\u001b[0m in \u001b[0;36mpandas._libs.lib.map_infer\u001b[0;34m()\u001b[0m\n",
            "\u001b[0;32m<ipython-input-15-2775f25757a5>\u001b[0m in \u001b[0;36m<lambda>\u001b[0;34m(x)\u001b[0m\n\u001b[1;32m      3\u001b[0m \u001b[0;34m\u001b[0m\u001b[0m\n\u001b[1;32m      4\u001b[0m \u001b[0mdf\u001b[0m\u001b[0;34m[\u001b[0m\u001b[0;34m'tokenized_headline'\u001b[0m\u001b[0;34m]\u001b[0m \u001b[0;34m=\u001b[0m \u001b[0mdf\u001b[0m\u001b[0;34m.\u001b[0m\u001b[0mheadline\u001b[0m\u001b[0;34m.\u001b[0m\u001b[0mapply\u001b[0m\u001b[0;34m(\u001b[0m\u001b[0;32mlambda\u001b[0m \u001b[0mx\u001b[0m\u001b[0;34m:\u001b[0m \u001b[0mtokenizer\u001b[0m\u001b[0;34m.\u001b[0m\u001b[0mtokenize\u001b[0m\u001b[0;34m(\u001b[0m\u001b[0mx\u001b[0m\u001b[0;34m.\u001b[0m\u001b[0mlower\u001b[0m\u001b[0;34m(\u001b[0m\u001b[0;34m)\u001b[0m\u001b[0;34m)\u001b[0m\u001b[0;34m)\u001b[0m\u001b[0;34m.\u001b[0m\u001b[0marray\u001b[0m\u001b[0;34m\u001b[0m\u001b[0;34m\u001b[0m\u001b[0m\n\u001b[0;32m----> 5\u001b[0;31m \u001b[0mdf\u001b[0m\u001b[0;34m[\u001b[0m\u001b[0;34m'tokenized_bodyText'\u001b[0m\u001b[0;34m]\u001b[0m \u001b[0;34m=\u001b[0m \u001b[0mdf\u001b[0m\u001b[0;34m.\u001b[0m\u001b[0mbodyText\u001b[0m\u001b[0;34m.\u001b[0m\u001b[0mapply\u001b[0m\u001b[0;34m(\u001b[0m\u001b[0;32mlambda\u001b[0m \u001b[0mx\u001b[0m\u001b[0;34m:\u001b[0m \u001b[0mtokenizer\u001b[0m\u001b[0;34m.\u001b[0m\u001b[0mtokenize\u001b[0m\u001b[0;34m(\u001b[0m\u001b[0mx\u001b[0m\u001b[0;34m.\u001b[0m\u001b[0mlower\u001b[0m\u001b[0;34m(\u001b[0m\u001b[0;34m)\u001b[0m\u001b[0;34m)\u001b[0m\u001b[0;34m)\u001b[0m\u001b[0;34m.\u001b[0m\u001b[0marray\u001b[0m\u001b[0;34m\u001b[0m\u001b[0;34m\u001b[0m\u001b[0m\n\u001b[0m\u001b[1;32m      6\u001b[0m \u001b[0;34m\u001b[0m\u001b[0m\n\u001b[1;32m      7\u001b[0m \u001b[0;31m#We keep only rows with bodyText which are not empty (it corresponds to errors due to scrapping).\u001b[0m\u001b[0;34m\u001b[0m\u001b[0;34m\u001b[0m\u001b[0;34m\u001b[0m\u001b[0m\n",
            "\u001b[0;32m/usr/local/lib/python3.7/dist-packages/nltk/tokenize/toktok.py\u001b[0m in \u001b[0;36mtokenize\u001b[0;34m(self, text, return_str)\u001b[0m\n\u001b[1;32m    149\u001b[0m         \u001b[0mtext\u001b[0m \u001b[0;34m=\u001b[0m \u001b[0mtext_type\u001b[0m\u001b[0;34m(\u001b[0m\u001b[0mtext\u001b[0m\u001b[0;34m)\u001b[0m \u001b[0;31m# Converts input string into unicode.\u001b[0m\u001b[0;34m\u001b[0m\u001b[0;34m\u001b[0m\u001b[0m\n\u001b[1;32m    150\u001b[0m         \u001b[0;32mfor\u001b[0m \u001b[0mregexp\u001b[0m\u001b[0;34m,\u001b[0m \u001b[0msubsitution\u001b[0m \u001b[0;32min\u001b[0m \u001b[0mself\u001b[0m\u001b[0;34m.\u001b[0m\u001b[0mTOKTOK_REGEXES\u001b[0m\u001b[0;34m:\u001b[0m\u001b[0;34m\u001b[0m\u001b[0;34m\u001b[0m\u001b[0m\n\u001b[0;32m--> 151\u001b[0;31m             \u001b[0mtext\u001b[0m \u001b[0;34m=\u001b[0m \u001b[0mregexp\u001b[0m\u001b[0;34m.\u001b[0m\u001b[0msub\u001b[0m\u001b[0;34m(\u001b[0m\u001b[0msubsitution\u001b[0m\u001b[0;34m,\u001b[0m \u001b[0mtext\u001b[0m\u001b[0;34m)\u001b[0m\u001b[0;34m\u001b[0m\u001b[0;34m\u001b[0m\u001b[0m\n\u001b[0m\u001b[1;32m    152\u001b[0m         \u001b[0;31m# Finally, strips heading and trailing spaces\u001b[0m\u001b[0;34m\u001b[0m\u001b[0;34m\u001b[0m\u001b[0;34m\u001b[0m\u001b[0m\n\u001b[1;32m    153\u001b[0m         \u001b[0;31m# and converts output string into unicode.\u001b[0m\u001b[0;34m\u001b[0m\u001b[0;34m\u001b[0m\u001b[0;34m\u001b[0m\u001b[0m\n",
            "\u001b[0;31mKeyboardInterrupt\u001b[0m: "
          ]
        }
      ]
    },
    {
      "cell_type": "markdown",
      "source": [
        "### Words frequence with respect to the category"
      ],
      "metadata": {
        "id": "9EGeYUucH1Gi"
      }
    },
    {
      "cell_type": "code",
      "source": [
        "#Removing on articles with null pillarName\n",
        "df = df[df[\"pillarName\"].map(lambda d: len(d)) > 0]"
      ],
      "metadata": {
        "id": "hgEbNqEM2eXT"
      },
      "execution_count": 12,
      "outputs": []
    },
    {
      "cell_type": "code",
      "source": [
        "#Creation of one dataframe for each category\n",
        "liste_df= []\n",
        "for category in categories:\n",
        "  locals()[\"df_\"+ str(category)] = df[df['pillarName'] == category]\n",
        "  liste_df.append(locals()[\"df_\"+ str(category)])"
      ],
      "metadata": {
        "id": "qwrNhuq_Hwrs"
      },
      "execution_count": 13,
      "outputs": []
    },
    {
      "cell_type": "code",
      "source": [
        "#Creation of a liste of most common words for each category\n",
        "liste_count = []\n",
        "for dataset in tqdm(liste_df):\n",
        "  #words is the list of words by topics\n",
        "  words = [x for X in dataset['tokenized_bodyText'] for x in X] \n",
        "  locals()[\"L_\" + str(dataset)] = Counter(words).most_common()\n",
        "  liste_count.append(locals()[\"L_\" + str(dataset)])"
      ],
      "metadata": {
        "id": "ih27lCa0Ktwl",
        "colab": {
          "base_uri": "https://localhost:8080/",
          "height": 49,
          "referenced_widgets": [
            "eb7e48000fa84c388a581a174122f41a",
            "ec48d3c76c5f4ecc97896203917300cb",
            "e4aa1c1fc076422da27b153f8ceab7c3",
            "cf500068c525404cb1310d5fc4201689",
            "8901b1690e934aab88881f4de9f2a0e1",
            "ec38854aa7fb420eb81b4cb752579a8e",
            "77e49c6b36ba4dcbb0bbe6371c923480",
            "b8004ddf0d92404b99a0374e421163df",
            "7e4c6be9dc734d759da920500e321924",
            "a57913a0a1ca424dbafc9f097b17db32",
            "00146dc6202c4593880faefd755be70a"
          ]
        },
        "outputId": "89f82dbd-3052-4a0f-a910-65684b5d0926"
      },
      "execution_count": 15,
      "outputs": [
        {
          "output_type": "display_data",
          "data": {
            "text/plain": [
              "  0%|          | 0/5 [00:00<?, ?it/s]"
            ],
            "application/vnd.jupyter.widget-view+json": {
              "version_major": 2,
              "version_minor": 0,
              "model_id": "eb7e48000fa84c388a581a174122f41a"
            }
          },
          "metadata": {}
        }
      ]
    },
    {
      "cell_type": "code",
      "source": [
        "#Representation of most common words by category \n",
        "def representation_most_commmon(liste):\n",
        "  mots_cles_news = {}\n",
        "  for (i,j) in liste[:50] :\n",
        "    mots_cles_news[i] = j\n",
        "\n",
        "  figure = plt.figure(figsize = (15, 7))\n",
        "  plt.bar(list(mots_cles_news.keys()), mots_cles_news.values(),orientation = 'vertical')\n",
        "  plt.tick_params(axis = 'x', rotation = 90)\n",
        "  plt.show()\n",
        "\n",
        "for liste in liste_count:\n",
        "    representation_most_commmon(liste)"
      ],
      "metadata": {
        "id": "8l47b6GUtC2Y"
      },
      "execution_count": 32,
      "outputs": []
    },
    {
      "cell_type": "markdown",
      "source": [
        "### Topic modelling"
      ],
      "metadata": {
        "id": "v1BRbHuPP97w"
      }
    },
    {
      "cell_type": "markdown",
      "source": [
        "We use a LDA model (Latent Dirichlet Allocation), which allows to extract and represent the topics contained in the articles. We choose to extract 3 topics because for num_topics ≽ 4, the topics are overlapping."
      ],
      "metadata": {
        "id": "tqXfTFqXmHcA"
      }
    },
    {
      "cell_type": "code",
      "source": [
        "#preprocessing of the data to use LdaModel, and training of the model on the corpus\n",
        "text_data = list(df['tokenized_bodyText'])\n",
        "dictionary = corpora.Dictionary(text_data)\n",
        "corpus = [dictionary.doc2bow(text) for text in text_data]\n",
        "ldamodel = LdaModel(corpus, id2word=dictionary, num_topics=3)"
      ],
      "metadata": {
        "id": "xo39PO-JQh6M"
      },
      "execution_count": 17,
      "outputs": []
    },
    {
      "cell_type": "code",
      "source": [
        "#installation and import of packages for representation of the LDA model\n",
        "!pip install pyLDAvis\n",
        "import pyLDAvis.gensim_models as gensimvis\n",
        "import pyLDAvis"
      ],
      "metadata": {
        "colab": {
          "base_uri": "https://localhost:8080/"
        },
        "id": "Lt19zmn3c2fC",
        "outputId": "834487e0-d311-4921-f29f-dc739f6e1c2c"
      },
      "execution_count": null,
      "outputs": [
        {
          "output_type": "stream",
          "name": "stdout",
          "text": [
            "Collecting pyLDAvis\n",
            "  Downloading pyLDAvis-3.3.1.tar.gz (1.7 MB)\n",
            "\u001b[?25l\r\u001b[K     |▏                               | 10 kB 15.7 MB/s eta 0:00:01\r\u001b[K     |▍                               | 20 kB 16.6 MB/s eta 0:00:01\r\u001b[K     |▋                               | 30 kB 10.8 MB/s eta 0:00:01\r\u001b[K     |▉                               | 40 kB 9.3 MB/s eta 0:00:01\r\u001b[K     |█                               | 51 kB 3.8 MB/s eta 0:00:01\r\u001b[K     |█▏                              | 61 kB 4.4 MB/s eta 0:00:01\r\u001b[K     |█▍                              | 71 kB 5.0 MB/s eta 0:00:01\r\u001b[K     |█▋                              | 81 kB 5.6 MB/s eta 0:00:01\r\u001b[K     |█▉                              | 92 kB 6.3 MB/s eta 0:00:01\r\u001b[K     |██                              | 102 kB 5.1 MB/s eta 0:00:01\r\u001b[K     |██▏                             | 112 kB 5.1 MB/s eta 0:00:01\r\u001b[K     |██▍                             | 122 kB 5.1 MB/s eta 0:00:01\r\u001b[K     |██▋                             | 133 kB 5.1 MB/s eta 0:00:01\r\u001b[K     |██▊                             | 143 kB 5.1 MB/s eta 0:00:01\r\u001b[K     |███                             | 153 kB 5.1 MB/s eta 0:00:01\r\u001b[K     |███▏                            | 163 kB 5.1 MB/s eta 0:00:01\r\u001b[K     |███▍                            | 174 kB 5.1 MB/s eta 0:00:01\r\u001b[K     |███▋                            | 184 kB 5.1 MB/s eta 0:00:01\r\u001b[K     |███▊                            | 194 kB 5.1 MB/s eta 0:00:01\r\u001b[K     |████                            | 204 kB 5.1 MB/s eta 0:00:01\r\u001b[K     |████▏                           | 215 kB 5.1 MB/s eta 0:00:01\r\u001b[K     |████▍                           | 225 kB 5.1 MB/s eta 0:00:01\r\u001b[K     |████▋                           | 235 kB 5.1 MB/s eta 0:00:01\r\u001b[K     |████▊                           | 245 kB 5.1 MB/s eta 0:00:01\r\u001b[K     |█████                           | 256 kB 5.1 MB/s eta 0:00:01\r\u001b[K     |█████▏                          | 266 kB 5.1 MB/s eta 0:00:01\r\u001b[K     |█████▍                          | 276 kB 5.1 MB/s eta 0:00:01\r\u001b[K     |█████▌                          | 286 kB 5.1 MB/s eta 0:00:01\r\u001b[K     |█████▊                          | 296 kB 5.1 MB/s eta 0:00:01\r\u001b[K     |██████                          | 307 kB 5.1 MB/s eta 0:00:01\r\u001b[K     |██████▏                         | 317 kB 5.1 MB/s eta 0:00:01\r\u001b[K     |██████▍                         | 327 kB 5.1 MB/s eta 0:00:01\r\u001b[K     |██████▌                         | 337 kB 5.1 MB/s eta 0:00:01\r\u001b[K     |██████▊                         | 348 kB 5.1 MB/s eta 0:00:01\r\u001b[K     |███████                         | 358 kB 5.1 MB/s eta 0:00:01\r\u001b[K     |███████▏                        | 368 kB 5.1 MB/s eta 0:00:01\r\u001b[K     |███████▎                        | 378 kB 5.1 MB/s eta 0:00:01\r\u001b[K     |███████▌                        | 389 kB 5.1 MB/s eta 0:00:01\r\u001b[K     |███████▊                        | 399 kB 5.1 MB/s eta 0:00:01\r\u001b[K     |████████                        | 409 kB 5.1 MB/s eta 0:00:01\r\u001b[K     |████████▏                       | 419 kB 5.1 MB/s eta 0:00:01\r\u001b[K     |████████▎                       | 430 kB 5.1 MB/s eta 0:00:01\r\u001b[K     |████████▌                       | 440 kB 5.1 MB/s eta 0:00:01\r\u001b[K     |████████▊                       | 450 kB 5.1 MB/s eta 0:00:01\r\u001b[K     |█████████                       | 460 kB 5.1 MB/s eta 0:00:01\r\u001b[K     |█████████▏                      | 471 kB 5.1 MB/s eta 0:00:01\r\u001b[K     |█████████▎                      | 481 kB 5.1 MB/s eta 0:00:01\r\u001b[K     |█████████▌                      | 491 kB 5.1 MB/s eta 0:00:01\r\u001b[K     |█████████▊                      | 501 kB 5.1 MB/s eta 0:00:01\r\u001b[K     |██████████                      | 512 kB 5.1 MB/s eta 0:00:01\r\u001b[K     |██████████                      | 522 kB 5.1 MB/s eta 0:00:01\r\u001b[K     |██████████▎                     | 532 kB 5.1 MB/s eta 0:00:01\r\u001b[K     |██████████▌                     | 542 kB 5.1 MB/s eta 0:00:01\r\u001b[K     |██████████▊                     | 552 kB 5.1 MB/s eta 0:00:01\r\u001b[K     |███████████                     | 563 kB 5.1 MB/s eta 0:00:01\r\u001b[K     |███████████                     | 573 kB 5.1 MB/s eta 0:00:01\r\u001b[K     |███████████▎                    | 583 kB 5.1 MB/s eta 0:00:01\r\u001b[K     |███████████▌                    | 593 kB 5.1 MB/s eta 0:00:01\r\u001b[K     |███████████▊                    | 604 kB 5.1 MB/s eta 0:00:01\r\u001b[K     |███████████▉                    | 614 kB 5.1 MB/s eta 0:00:01\r\u001b[K     |████████████                    | 624 kB 5.1 MB/s eta 0:00:01\r\u001b[K     |████████████▎                   | 634 kB 5.1 MB/s eta 0:00:01\r\u001b[K     |████████████▌                   | 645 kB 5.1 MB/s eta 0:00:01\r\u001b[K     |████████████▊                   | 655 kB 5.1 MB/s eta 0:00:01\r\u001b[K     |████████████▉                   | 665 kB 5.1 MB/s eta 0:00:01\r\u001b[K     |█████████████                   | 675 kB 5.1 MB/s eta 0:00:01\r\u001b[K     |█████████████▎                  | 686 kB 5.1 MB/s eta 0:00:01\r\u001b[K     |█████████████▌                  | 696 kB 5.1 MB/s eta 0:00:01\r\u001b[K     |█████████████▊                  | 706 kB 5.1 MB/s eta 0:00:01\r\u001b[K     |█████████████▉                  | 716 kB 5.1 MB/s eta 0:00:01\r\u001b[K     |██████████████                  | 727 kB 5.1 MB/s eta 0:00:01\r\u001b[K     |██████████████▎                 | 737 kB 5.1 MB/s eta 0:00:01\r\u001b[K     |██████████████▌                 | 747 kB 5.1 MB/s eta 0:00:01\r\u001b[K     |██████████████▋                 | 757 kB 5.1 MB/s eta 0:00:01\r\u001b[K     |██████████████▉                 | 768 kB 5.1 MB/s eta 0:00:01\r\u001b[K     |███████████████                 | 778 kB 5.1 MB/s eta 0:00:01\r\u001b[K     |███████████████▎                | 788 kB 5.1 MB/s eta 0:00:01\r\u001b[K     |███████████████▌                | 798 kB 5.1 MB/s eta 0:00:01\r\u001b[K     |███████████████▋                | 808 kB 5.1 MB/s eta 0:00:01\r\u001b[K     |███████████████▉                | 819 kB 5.1 MB/s eta 0:00:01\r\u001b[K     |████████████████                | 829 kB 5.1 MB/s eta 0:00:01\r\u001b[K     |████████████████▎               | 839 kB 5.1 MB/s eta 0:00:01\r\u001b[K     |████████████████▍               | 849 kB 5.1 MB/s eta 0:00:01\r\u001b[K     |████████████████▋               | 860 kB 5.1 MB/s eta 0:00:01\r\u001b[K     |████████████████▉               | 870 kB 5.1 MB/s eta 0:00:01\r\u001b[K     |█████████████████               | 880 kB 5.1 MB/s eta 0:00:01\r\u001b[K     |█████████████████▎              | 890 kB 5.1 MB/s eta 0:00:01\r\u001b[K     |█████████████████▍              | 901 kB 5.1 MB/s eta 0:00:01\r\u001b[K     |█████████████████▋              | 911 kB 5.1 MB/s eta 0:00:01\r\u001b[K     |█████████████████▉              | 921 kB 5.1 MB/s eta 0:00:01\r\u001b[K     |██████████████████              | 931 kB 5.1 MB/s eta 0:00:01\r\u001b[K     |██████████████████▎             | 942 kB 5.1 MB/s eta 0:00:01\r\u001b[K     |██████████████████▍             | 952 kB 5.1 MB/s eta 0:00:01\r\u001b[K     |██████████████████▋             | 962 kB 5.1 MB/s eta 0:00:01\r\u001b[K     |██████████████████▉             | 972 kB 5.1 MB/s eta 0:00:01\r\u001b[K     |███████████████████             | 983 kB 5.1 MB/s eta 0:00:01\r\u001b[K     |███████████████████▏            | 993 kB 5.1 MB/s eta 0:00:01\r\u001b[K     |███████████████████▍            | 1.0 MB 5.1 MB/s eta 0:00:01\r\u001b[K     |███████████████████▋            | 1.0 MB 5.1 MB/s eta 0:00:01\r\u001b[K     |███████████████████▉            | 1.0 MB 5.1 MB/s eta 0:00:01\r\u001b[K     |████████████████████            | 1.0 MB 5.1 MB/s eta 0:00:01\r\u001b[K     |████████████████████▏           | 1.0 MB 5.1 MB/s eta 0:00:01\r\u001b[K     |████████████████████▍           | 1.1 MB 5.1 MB/s eta 0:00:01\r\u001b[K     |████████████████████▋           | 1.1 MB 5.1 MB/s eta 0:00:01\r\u001b[K     |████████████████████▉           | 1.1 MB 5.1 MB/s eta 0:00:01\r\u001b[K     |█████████████████████           | 1.1 MB 5.1 MB/s eta 0:00:01\r\u001b[K     |█████████████████████▏          | 1.1 MB 5.1 MB/s eta 0:00:01\r\u001b[K     |█████████████████████▍          | 1.1 MB 5.1 MB/s eta 0:00:01\r\u001b[K     |█████████████████████▋          | 1.1 MB 5.1 MB/s eta 0:00:01\r\u001b[K     |█████████████████████▉          | 1.1 MB 5.1 MB/s eta 0:00:01\r\u001b[K     |██████████████████████          | 1.1 MB 5.1 MB/s eta 0:00:01\r\u001b[K     |██████████████████████▏         | 1.1 MB 5.1 MB/s eta 0:00:01\r\u001b[K     |██████████████████████▍         | 1.2 MB 5.1 MB/s eta 0:00:01\r\u001b[K     |██████████████████████▋         | 1.2 MB 5.1 MB/s eta 0:00:01\r\u001b[K     |██████████████████████▉         | 1.2 MB 5.1 MB/s eta 0:00:01\r\u001b[K     |███████████████████████         | 1.2 MB 5.1 MB/s eta 0:00:01\r\u001b[K     |███████████████████████▏        | 1.2 MB 5.1 MB/s eta 0:00:01\r\u001b[K     |███████████████████████▍        | 1.2 MB 5.1 MB/s eta 0:00:01\r\u001b[K     |███████████████████████▋        | 1.2 MB 5.1 MB/s eta 0:00:01\r\u001b[K     |███████████████████████▊        | 1.2 MB 5.1 MB/s eta 0:00:01\r\u001b[K     |████████████████████████        | 1.2 MB 5.1 MB/s eta 0:00:01\r\u001b[K     |████████████████████████▏       | 1.2 MB 5.1 MB/s eta 0:00:01\r\u001b[K     |████████████████████████▍       | 1.3 MB 5.1 MB/s eta 0:00:01\r\u001b[K     |████████████████████████▋       | 1.3 MB 5.1 MB/s eta 0:00:01\r\u001b[K     |████████████████████████▊       | 1.3 MB 5.1 MB/s eta 0:00:01\r\u001b[K     |█████████████████████████       | 1.3 MB 5.1 MB/s eta 0:00:01\r\u001b[K     |█████████████████████████▏      | 1.3 MB 5.1 MB/s eta 0:00:01\r\u001b[K     |█████████████████████████▍      | 1.3 MB 5.1 MB/s eta 0:00:01\r\u001b[K     |█████████████████████████▌      | 1.3 MB 5.1 MB/s eta 0:00:01\r\u001b[K     |█████████████████████████▊      | 1.3 MB 5.1 MB/s eta 0:00:01\r\u001b[K     |██████████████████████████      | 1.3 MB 5.1 MB/s eta 0:00:01\r\u001b[K     |██████████████████████████▏     | 1.4 MB 5.1 MB/s eta 0:00:01\r\u001b[K     |██████████████████████████▍     | 1.4 MB 5.1 MB/s eta 0:00:01\r\u001b[K     |██████████████████████████▌     | 1.4 MB 5.1 MB/s eta 0:00:01\r\u001b[K     |██████████████████████████▊     | 1.4 MB 5.1 MB/s eta 0:00:01\r\u001b[K     |███████████████████████████     | 1.4 MB 5.1 MB/s eta 0:00:01\r\u001b[K     |███████████████████████████▏    | 1.4 MB 5.1 MB/s eta 0:00:01\r\u001b[K     |███████████████████████████▍    | 1.4 MB 5.1 MB/s eta 0:00:01\r\u001b[K     |███████████████████████████▌    | 1.4 MB 5.1 MB/s eta 0:00:01\r\u001b[K     |███████████████████████████▊    | 1.4 MB 5.1 MB/s eta 0:00:01\r\u001b[K     |████████████████████████████    | 1.4 MB 5.1 MB/s eta 0:00:01\r\u001b[K     |████████████████████████████▏   | 1.5 MB 5.1 MB/s eta 0:00:01\r\u001b[K     |████████████████████████████▎   | 1.5 MB 5.1 MB/s eta 0:00:01\r\u001b[K     |████████████████████████████▌   | 1.5 MB 5.1 MB/s eta 0:00:01\r\u001b[K     |████████████████████████████▊   | 1.5 MB 5.1 MB/s eta 0:00:01\r\u001b[K     |█████████████████████████████   | 1.5 MB 5.1 MB/s eta 0:00:01\r\u001b[K     |█████████████████████████████▏  | 1.5 MB 5.1 MB/s eta 0:00:01\r\u001b[K     |█████████████████████████████▎  | 1.5 MB 5.1 MB/s eta 0:00:01\r\u001b[K     |█████████████████████████████▌  | 1.5 MB 5.1 MB/s eta 0:00:01\r\u001b[K     |█████████████████████████████▊  | 1.5 MB 5.1 MB/s eta 0:00:01\r\u001b[K     |██████████████████████████████  | 1.5 MB 5.1 MB/s eta 0:00:01\r\u001b[K     |██████████████████████████████▏ | 1.6 MB 5.1 MB/s eta 0:00:01\r\u001b[K     |██████████████████████████████▎ | 1.6 MB 5.1 MB/s eta 0:00:01\r\u001b[K     |██████████████████████████████▌ | 1.6 MB 5.1 MB/s eta 0:00:01\r\u001b[K     |██████████████████████████████▊ | 1.6 MB 5.1 MB/s eta 0:00:01\r\u001b[K     |███████████████████████████████ | 1.6 MB 5.1 MB/s eta 0:00:01\r\u001b[K     |███████████████████████████████ | 1.6 MB 5.1 MB/s eta 0:00:01\r\u001b[K     |███████████████████████████████▎| 1.6 MB 5.1 MB/s eta 0:00:01\r\u001b[K     |███████████████████████████████▌| 1.6 MB 5.1 MB/s eta 0:00:01\r\u001b[K     |███████████████████████████████▊| 1.6 MB 5.1 MB/s eta 0:00:01\r\u001b[K     |████████████████████████████████| 1.6 MB 5.1 MB/s eta 0:00:01\r\u001b[K     |████████████████████████████████| 1.7 MB 5.1 MB/s \n",
            "\u001b[?25h  Installing build dependencies ... \u001b[?25l\u001b[?25hdone\n",
            "  Getting requirements to build wheel ... \u001b[?25l\u001b[?25hdone\n",
            "  Installing backend dependencies ... \u001b[?25l\u001b[?25hdone\n",
            "    Preparing wheel metadata ... \u001b[?25l\u001b[?25hdone\n",
            "Requirement already satisfied: scipy in /usr/local/lib/python3.7/dist-packages (from pyLDAvis) (1.4.1)\n",
            "Requirement already satisfied: numpy>=1.20.0 in /usr/local/lib/python3.7/dist-packages (from pyLDAvis) (1.21.6)\n",
            "Requirement already satisfied: joblib in /usr/local/lib/python3.7/dist-packages (from pyLDAvis) (1.1.0)\n",
            "Requirement already satisfied: scikit-learn in /usr/local/lib/python3.7/dist-packages (from pyLDAvis) (1.0.2)\n",
            "Requirement already satisfied: jinja2 in /usr/local/lib/python3.7/dist-packages (from pyLDAvis) (2.11.3)\n",
            "Requirement already satisfied: gensim in /usr/local/lib/python3.7/dist-packages (from pyLDAvis) (3.6.0)\n",
            "Requirement already satisfied: pandas>=1.2.0 in /usr/local/lib/python3.7/dist-packages (from pyLDAvis) (1.3.5)\n",
            "Collecting funcy\n",
            "  Downloading funcy-1.17-py2.py3-none-any.whl (33 kB)\n",
            "Requirement already satisfied: numexpr in /usr/local/lib/python3.7/dist-packages (from pyLDAvis) (2.8.1)\n",
            "Requirement already satisfied: setuptools in /usr/local/lib/python3.7/dist-packages (from pyLDAvis) (57.4.0)\n",
            "Requirement already satisfied: future in /usr/local/lib/python3.7/dist-packages (from pyLDAvis) (0.16.0)\n",
            "Requirement already satisfied: sklearn in /usr/local/lib/python3.7/dist-packages (from pyLDAvis) (0.0)\n",
            "Requirement already satisfied: python-dateutil>=2.7.3 in /usr/local/lib/python3.7/dist-packages (from pandas>=1.2.0->pyLDAvis) (2.8.2)\n",
            "Requirement already satisfied: pytz>=2017.3 in /usr/local/lib/python3.7/dist-packages (from pandas>=1.2.0->pyLDAvis) (2022.1)\n",
            "Requirement already satisfied: six>=1.5 in /usr/local/lib/python3.7/dist-packages (from python-dateutil>=2.7.3->pandas>=1.2.0->pyLDAvis) (1.15.0)\n",
            "Requirement already satisfied: smart-open>=1.2.1 in /usr/local/lib/python3.7/dist-packages (from gensim->pyLDAvis) (5.2.1)\n",
            "Requirement already satisfied: MarkupSafe>=0.23 in /usr/local/lib/python3.7/dist-packages (from jinja2->pyLDAvis) (2.0.1)\n",
            "Requirement already satisfied: packaging in /usr/local/lib/python3.7/dist-packages (from numexpr->pyLDAvis) (21.3)\n",
            "Requirement already satisfied: pyparsing!=3.0.5,>=2.0.2 in /usr/local/lib/python3.7/dist-packages (from packaging->numexpr->pyLDAvis) (3.0.8)\n",
            "Requirement already satisfied: threadpoolctl>=2.0.0 in /usr/local/lib/python3.7/dist-packages (from scikit-learn->pyLDAvis) (3.1.0)\n",
            "Building wheels for collected packages: pyLDAvis\n",
            "  Building wheel for pyLDAvis (PEP 517) ... \u001b[?25l\u001b[?25hdone\n",
            "  Created wheel for pyLDAvis: filename=pyLDAvis-3.3.1-py2.py3-none-any.whl size=136898 sha256=08a3b7251b16185c5028c9e649d91a4912d1a570d6693a0da90c2f77edd08f83\n",
            "  Stored in directory: /root/.cache/pip/wheels/c9/21/f6/17bcf2667e8a68532ba2fbf6d5c72fdf4c7f7d9abfa4852d2f\n",
            "Successfully built pyLDAvis\n",
            "Installing collected packages: funcy, pyLDAvis\n",
            "Successfully installed funcy-1.17 pyLDAvis-3.3.1\n"
          ]
        },
        {
          "output_type": "stream",
          "name": "stderr",
          "text": [
            "/usr/local/lib/python3.7/dist-packages/past/types/oldstr.py:5: DeprecationWarning: Using or importing the ABCs from 'collections' instead of from 'collections.abc' is deprecated since Python 3.3,and in 3.9 it will stop working\n",
            "  from collections import Iterable\n"
          ]
        }
      ]
    },
    {
      "cell_type": "code",
      "source": [
        "lda_display = gensimvis.prepare(ldamodel, corpus, dictionary)\n",
        "pyLDAvis.display(lda_display)"
      ],
      "metadata": {
        "colab": {
          "base_uri": "https://localhost:8080/",
          "height": 916
        },
        "id": "9X8Xo4PCc3WR",
        "outputId": "74064600-d457-4adb-8bc3-3905d9940c05"
      },
      "execution_count": null,
      "outputs": [
        {
          "output_type": "stream",
          "name": "stderr",
          "text": [
            "/usr/local/lib/python3.7/dist-packages/pyLDAvis/_prepare.py:247: FutureWarning: In a future version of pandas all arguments of DataFrame.drop except for the argument 'labels' will be keyword-only\n",
            "  by='saliency', ascending=False).head(R).drop('saliency', 1)\n"
          ]
        },
        {
          "output_type": "execute_result",
          "data": {
            "text/plain": [
              "<IPython.core.display.HTML object>"
            ],
            "text/html": [
              "\n",
              "<link rel=\"stylesheet\" type=\"text/css\" href=\"https://cdn.jsdelivr.net/gh/bmabey/pyLDAvis@3.3.1/pyLDAvis/js/ldavis.v1.0.0.css\">\n",
              "\n",
              "\n",
              "<div id=\"ldavis_el541397983616863528372019656\"></div>\n",
              "<script type=\"text/javascript\">\n",
              "\n",
              "var ldavis_el541397983616863528372019656_data = {\"mdsDat\": {\"x\": [0.12135915515593242, 0.013255875891598512, -0.13461503104753117], \"y\": [0.06091330075588768, -0.10544489726010572, 0.044531596504217924], \"topics\": [1, 2, 3], \"cluster\": [1, 1, 1], \"Freq\": [46.17062253664776, 34.830194485335326, 18.9991829780169]}, \"tinfo\": {\"Term\": [\"government\", \"ball\", \"england\", \"team\", \"game\", \"min\", \"league\", \"players\", \"said\", \"first\", \"win\", \"cup\", \"season\", \"back\", \"football\", \"one\", \"second\", \"like\", \"play\", \"two\", \"club\", \"last\", \"uk\", \"games\", \"film\", \"minister\", \"final\", \"goal\", \"eu\", \"player\", \"tariffs\", \"ftse\", \"carillion\", \"rbs\", \"dow\", \"eurozone\", \"wpp\", \"economist\", \"worboys\", \"regulators\", \"draghi\", \"sorrell\", \"gkn\", \"slowdown\", \"imf\", \"comcast\", \"tariffs.\", \"ons\", \"vice-chancellor\", \"economists\", \"audit\", \"investors\", \"vice-chancellors\", \"monetary\", \"fiscal\", \"pmi\", \"ofs\", \"zuckerberg\", \"inflation\", \"ucu\", \"government\", \"eu\", \"tax\", \"minister\", \"sector\", \"federal\", \"labor\", \"nhs\", \"secretary\", \"ministers\", \"data\", \"mps\", \"committee\", \"growth\", \"labour\", \"customs\", \"legislation\", \"brexit\", \"economy\", \"economic\", \"universities\", \"policies\", \"commons\", \"policy\", \"coalition\", \"companies\", \"services\", \"funding\", \"income\", \"parliament\", \"trade\", \"financial\", \"health\", \"vote\", \"theresa\", \"commission\", \"prime\", \"legal\", \"said\", \"uk\", \"pay\", \"party\", \"report\", \"public\", \"council\", \"trump\", \"staff\", \"chief\", \"company\", \"would\", \"support\", \"said.\", \"people\", \"may\", \"police\", \"also\", \"us\", \"told\", \"president\", \"could\", \"new\", \"says\", \"national\", \"year\", \"\\u00a3\", \"\\u201cthe\", \"last\", \"one\", \"many\", \"years\", \"since\", \"women\", \"time\", \"two\", \"first\", \"tbsp\", \"tsp\", \"sauce\", \"chilli\", \"novels\", \"onion\", \"album\", \"slime\", \"\\u00bd\", \"toro\", \"mcdormand\", \"gerwig\", \"composer\", \"bourdain\", \"0330\", \"6846.\", \"guardianbookshop.com\", \"oscars\", \"rockwell\", \"tonya\", \"spielberg\", \"mon\\u00e1e\", \"anag\", \"p&amp\", \"coriander\", \"styling\", \"screenplay\", \"sculpture\", \"vocals\", \"narrator\", \"film\", \"novel\", \"artists\", \"artist\", \"movie\", \"art\", \"music\", \"theatre\", \"literary\", \"films\", \"musical\", \"songs\", \"fiction\", \"comedy\", \"characters\", \"paintings\", \"opera\", \"actress\", \"genre\", \"movies\", \"1.99\", \"festival\", \"song\", \"cinema\", \"poetry\", \"comic\", \"book\", \"writer\", \"museum\", \"band\", \"painting\", \"writers\", \"pop\", \"exhibition\", \"hollywood\", \"actor\", \"books\", \"love\", \"black\", \"mother\", \"writing\", \"like\", \"life\", \"father\", \"woman\", \"story\", \"show\", \"one\", \"something\", \"feel\", \"never\", \"\\u2022\", \"man\", \"\\u201ci\", \"even\", \"always\", \"women\", \"people\", \"really\", \"white\", \"time\", \"new\", \"first\", \"much\", \"way\", \"years\", \"world\", \"also\", \"get\", \"us\", \"two\", \"many\", \"work\", \"would\", \"still\", \"says\", \"think\", \"made\", \"\\u00a3\", \"could\", \"make\", \"said\", \"messi\", \"bairstow\", \"buttler\", \"sevilla\", \"free-kick\", \"stoinis\", \"cecchinato\", \"pogba\", \"guardiola\", \"brom\", \"klopp\", \"iniesta\", \"everton\", \"goalkeeper\", \"woakes\", \"mourinho\", \"midfield\", \"bayern\", \"var\", \"moeen\", \"suarez\", \"midfielder\", \"lingard\", \"lukaku\", \"striker\", \"bruyne\", \"juventus\", \"header\", \"wozniacki\", \"wenger\", \"ball\", \"fa\", \"mins\", \"arsenal\", \"championship\", \"referee\", \"spurs\", \"league\", \"kyrgios\", \"salah\", \"1-0\", \"ronaldo\", \"cilic\", \"players\", \"cup\", \"tournament\", \"*denotes\", \"coach\", \"football\", \"champions\", \"min\", \"scored\", \"barcelona\", \"yards\", \"chelsea\", \"player\", \"cricket\", \"squad\", \"game\", \"match\", \"games\", \"stadium\", \"goal\", \"liverpool\", \"rugby\", \"premier\", \"team\", \"win\", \"season\", \"club\", \"england\", \"v\", \"teams\", \"game.\", \"goals\", \"final\", \"play\", \"manager\", \"manchester\", \"second\", \"first\", \"back\", \"two\", \"side\", \"last\", \"one\", \"city\", \"time\", \"three\", \"get\", \"good\", \"would\", \"world\", \"another\", \"like\", \"could\", \"\\u201ci\"], \"Freq\": [37009.0, 12219.0, 17206.0, 16454.0, 13522.0, 12817.0, 10938.0, 10276.0, 95668.0, 48157.0, 10828.0, 8151.0, 9788.0, 31076.0, 7798.0, 78252.0, 16545.0, 47118.0, 13010.0, 40361.0, 8704.0, 44907.0, 28948.0, 6950.0, 9812.0, 15039.0, 10226.0, 6539.0, 12886.0, 5577.0, 2070.7641985393266, 901.7267524537342, 2021.237163260822, 485.40483982481027, 725.7725880272193, 741.411162060474, 391.8098296941471, 892.8789091966842, 515.6942561655319, 602.8535189158497, 297.4675094172933, 351.6740467740832, 497.60991394272634, 302.6176959964802, 356.9115155326211, 434.96229107043746, 262.31556109100717, 424.66666494864904, 311.1422344151512, 622.1591470644469, 629.4354047426103, 2038.3551037755635, 220.7156180299852, 557.7121125040808, 600.7715952571176, 240.92035073132013, 213.41624228365055, 1692.561717570435, 1815.3331221970868, 252.0844471964149, 36578.274965421144, 12802.00472763736, 8088.342720908057, 14771.421847067446, 4373.122514029298, 4089.404416318807, 5473.988907000157, 4934.834922617019, 9461.168485498165, 3494.7090911848745, 8127.8309763909565, 5386.882431296669, 6725.158883855012, 5919.542975981493, 12897.575359454153, 4187.104505454006, 2688.8863391038726, 11484.798534960975, 5289.197279503259, 6574.383887591171, 2496.602242235799, 2716.3267423205657, 2583.6745392758717, 8708.924965712642, 3170.4515542100044, 7232.006689227559, 7553.897796817677, 4579.717090681662, 3189.9252907475475, 5205.4787954577105, 8857.73025826263, 7077.816358375046, 10914.78147068922, 6677.377618751169, 4436.26645540005, 4477.392754974032, 8485.235993847, 6210.074780125263, 78658.57951965882, 25562.812772971633, 11057.730312556841, 13861.958500974402, 11174.520071322911, 16875.280106102906, 7261.624146716156, 19135.27561392912, 8231.779178373734, 7883.268715014741, 11671.80899065173, 48433.69983754829, 11911.22673024575, 20356.285325485285, 38505.542450777066, 23909.80906067499, 10940.326856901007, 30257.134213363068, 26340.43559598227, 15120.762219009217, 10497.547589038413, 23100.006646296042, 25225.178213486633, 19590.375403839385, 12745.165863553211, 18978.61074784535, 17935.39894972548, 14942.86506086137, 21881.85477735195, 25425.56138770768, 15762.641568750721, 16440.84853372272, 13476.99332839207, 14177.403765819703, 15563.273121070179, 13997.12270919247, 13733.90446744783, 573.5836715779766, 551.1785432243705, 635.3437986271201, 444.0150388660032, 853.6505692322513, 351.14093283348444, 2635.914664968407, 301.32679998636684, 239.93967713484952, 373.51418966866817, 432.52840038380106, 298.3379916460421, 387.1835854975662, 304.219182062341, 728.3617920315727, 665.0333952856759, 757.687074554454, 573.1989214724373, 223.16771432496563, 287.12883830138543, 309.40946480587337, 215.91091575024188, 239.24046138087618, 1339.7692924882049, 191.88294220092112, 237.46921666567573, 246.7489852666452, 325.55684134986507, 202.96799955100138, 303.15350353100183, 9689.177664501449, 3089.4705801484774, 2110.593162343853, 2608.0115445072643, 2316.594232254022, 5132.702775020022, 6402.692875433642, 2567.682017435696, 1147.0639218692072, 2487.1369845449826, 1335.269941291236, 1888.5670452233226, 1322.1351513889535, 2115.4870996505488, 2154.5690776084994, 695.5600549996061, 1016.0505424839392, 680.8645872678803, 719.2865502458275, 991.0681422953005, 625.5906842615361, 2706.236365196273, 2621.4326289780265, 1173.7393562154796, 801.7808308789753, 984.0522064541823, 8296.314671857363, 2773.9928737301707, 1854.9185523745734, 2494.819763271924, 1045.7326427703717, 1637.9145271007324, 1890.5019686878143, 1495.0205915898396, 1768.77062591419, 2517.347650687498, 3408.194549929331, 7464.710503311441, 7958.506180087973, 5101.323820768504, 3770.575863033387, 29501.528056706695, 11672.06797908295, 4110.6854068114835, 6222.243643507925, 7075.851048915976, 8490.041554484043, 35219.043352531524, 9693.698024639401, 7404.661602252918, 10297.514087514774, 8799.863081018733, 8119.133667187039, 13909.27419812328, 13445.288298697242, 7892.1843912328095, 13302.39999740234, 21494.308636152888, 9370.210754966689, 7344.213913296472, 16819.51368294228, 18290.87448267352, 17374.92590975538, 11908.029708737944, 12190.36008104512, 13757.345176552473, 12175.148843812274, 15980.486864556857, 11915.526462842003, 13753.950131689697, 12947.665174854437, 11374.943492516615, 10558.96615625425, 16129.541863001252, 10310.894873016923, 10784.816855585465, 9902.261039407203, 10304.473012729679, 10357.557640842864, 10847.616018008976, 9956.24255830997, 9910.317777283635, 1445.0938426211635, 1079.5914735786826, 966.9860928902064, 893.6999468569933, 906.0671213894182, 604.0628404424343, 577.0663990112527, 788.8089960281474, 1375.1233762107977, 901.4623001951163, 1200.590964069586, 567.7144968185581, 1479.2360914215117, 1104.9895628206566, 536.4314565084139, 1476.6936467059973, 1084.8853510485299, 782.591966508465, 658.4942231330062, 554.353639377734, 462.7918227305795, 982.0506299914472, 452.114107087236, 494.26067070135804, 1249.7023197400897, 566.1310425802733, 864.3303556071464, 860.2724871565117, 502.56794524438595, 2051.8731108423362, 12126.529493891923, 2245.897564408667, 3304.918301570244, 3916.1241364820203, 2128.993656062343, 1502.9160197780463, 1422.69336695891, 10688.676784689536, 1323.5022888079247, 1100.429748023548, 958.8048258411718, 979.0769781509731, 927.911267975256, 10008.010034961542, 7899.567841743433, 1803.252772036433, 1516.155714163464, 3300.651028354891, 7480.554950067765, 3353.761910850038, 11952.948154435842, 2631.5652997490906, 2206.023980125013, 1856.5586822527505, 3997.062307671348, 5266.343556186694, 2174.050477089411, 2178.064380957602, 12278.850311385027, 5156.247073778787, 6287.058640263129, 2083.708885968009, 5868.024495566565, 4919.025855239756, 2166.7454804264685, 3788.1626147438224, 13014.343187412309, 8832.886336633319, 8058.417920636747, 7167.506286776232, 12941.770371938312, 3134.1046471785935, 3463.843807851447, 2491.0880406951405, 2855.967404517216, 6829.701187947151, 8160.266564033105, 4305.123595392439, 4443.814558876309, 9295.754628566538, 17048.946664505365, 12363.950740862923, 13416.958748377263, 5883.361675587839, 13362.36015441934, 17607.57606788866, 7232.127972079434, 11257.708499987057, 8487.48807518149, 9495.57469758624, 8161.365886957138, 10268.229522466287, 7948.6423171717925, 7250.331392840473, 8283.014844763093, 8073.729263652226, 7288.66684182746], \"Total\": [37009.0, 12219.0, 17206.0, 16454.0, 13522.0, 12817.0, 10938.0, 10276.0, 95668.0, 48157.0, 10828.0, 8151.0, 9788.0, 31076.0, 7798.0, 78252.0, 16545.0, 47118.0, 13010.0, 40361.0, 8704.0, 44907.0, 28948.0, 6950.0, 9812.0, 15039.0, 10226.0, 6539.0, 12886.0, 5577.0, 2072.2004829548227, 902.6583428113761, 2023.7161948983673, 486.16080729738826, 726.9146485617747, 742.6324449534994, 392.5541508364986, 894.7533565752949, 516.8342838095468, 604.186883146658, 298.12842926355825, 352.4996381769037, 498.88256028832654, 303.42781253885806, 357.9012992459942, 436.18878381768104, 263.1021320973803, 425.9436928025798, 312.09803999331035, 624.0955469865229, 631.528223092787, 2045.413338193967, 221.48505599521388, 559.6677849912951, 602.8883641313558, 241.7734329963517, 214.1734741959684, 1698.6085871864032, 1821.834468004645, 252.99141347630774, 37009.93568937265, 12886.43286463339, 8164.357200219572, 15039.03698488373, 4399.449816503965, 4123.165204242735, 5537.987500203047, 4988.312938293337, 9628.07075846533, 3522.129748721118, 8261.847127137604, 5453.381659032766, 6825.374793640402, 6006.032461850006, 13190.848337360767, 4235.647293618995, 2709.266764573295, 11743.592472896176, 5375.2136493335875, 6698.2594399294485, 2519.6566170255874, 2745.6117401729484, 2610.363066420874, 8908.205719506626, 3210.290151299368, 7392.133321601905, 7759.858890984305, 4672.019283368245, 3233.2053934561995, 5331.77932240123, 9185.050161332236, 7300.7233576780345, 11558.724110203033, 6946.687560490868, 4548.03158848494, 4592.595310192845, 8987.51567968039, 6476.227089280871, 95668.43975669799, 28948.076358568873, 11926.230295475756, 15417.807203922086, 12222.661472796066, 19179.93552650281, 7670.132186911652, 22538.903577217883, 8850.717711768115, 8445.979667776954, 13541.008844680284, 74831.47122301582, 13884.129266871794, 26790.037747805833, 62193.151800241045, 34039.870688933916, 13053.55151637037, 52874.33816850994, 43886.61558719917, 20760.989451914607, 12480.776853447951, 42021.35192795724, 49944.56185881654, 33572.67779053959, 16942.849195244184, 32682.498295813053, 30358.60728475144, 22687.07045607202, 44907.55389074869, 78252.18080812786, 30205.43612451858, 34768.59334524221, 23807.678872449396, 29346.39845532297, 43640.495303999516, 40361.74663242417, 48157.77704170857, 574.2750808442861, 551.9046705651721, 636.3455817093222, 444.75318819640086, 855.5294872777889, 351.96179839244235, 2642.1462912320217, 302.1214488950827, 240.62013210021124, 374.6003720246846, 433.79219629270216, 299.2262275220327, 388.3931487627104, 305.1703669546717, 730.639487665804, 667.1455980647264, 760.1330354216308, 575.0541404501553, 223.90447968666717, 288.09740465525056, 310.4587742528701, 216.6444009220088, 240.0617975320031, 1344.538720804672, 192.56870640116975, 238.3187131125751, 247.64148709659614, 326.75847063692953, 203.73016767230047, 304.31143598051005, 9812.769070706376, 3107.6507189811887, 2122.709277637845, 2630.63619590061, 2338.000577460119, 5228.54708487507, 6538.2434228271795, 2599.207130898297, 1152.4954940343441, 2518.6091620645702, 1344.9235277256128, 1910.438794321219, 1333.898397401453, 2146.4753220795233, 2187.8811353408287, 698.3243925677795, 1024.0204421707494, 683.9577958059225, 723.0393934958917, 999.5066918096664, 628.0022682647659, 2759.638701050379, 2691.120040874702, 1190.2361703484357, 807.5794745978858, 995.4204625228962, 8840.46058291151, 2870.0919051341093, 1908.8999863119122, 2594.678453935019, 1060.0058305775333, 1687.5187790811406, 1964.8122223299195, 1539.7104991481733, 1838.6569650462493, 2693.2995324631693, 3741.848713932597, 8823.300230136878, 9693.82003331675, 6096.46311576149, 4409.0870571766145, 47118.719676935376, 16465.4949109525, 4991.234470339921, 8323.549531926219, 9815.328300560348, 12791.348851809726, 78252.18080812786, 15714.023321383955, 11337.974621437352, 17852.13461027066, 14503.223750054345, 13323.20669991661, 30327.330403945136, 29487.555925437213, 13485.34052775328, 29346.39845532297, 62193.151800241045, 17860.66725362148, 12370.303428347743, 43640.495303999516, 49944.56185881654, 48157.77704170857, 26769.731954032497, 28058.745094433703, 34768.59334524221, 28994.79084226089, 52874.33816850994, 31996.408417404302, 43886.61558719917, 40361.74663242417, 30205.43612451858, 25543.795566471017, 74831.47122301582, 27186.10136559567, 33572.67779053959, 23738.188532681594, 28155.567802501195, 30358.60728475144, 42021.35192795724, 27825.901481476172, 95668.43975669799, 1446.2449059073128, 1080.5465821861062, 967.8480540243708, 894.5634380449471, 906.9632806920888, 604.737054426626, 577.7540984431146, 789.7611865398364, 1376.796320349053, 902.5689861405612, 1202.2160280126286, 568.4891740679897, 1481.3093978860118, 1106.6094635899788, 537.2379684575102, 1478.9376875860603, 1086.5552027104682, 783.8042449400074, 659.5325887087427, 555.2292620328647, 463.5357340222648, 983.6494759027553, 452.85744596052297, 495.07785248897767, 1251.8715872261946, 567.1137887084942, 865.8433928182728, 861.8056751312117, 503.4705775343147, 2055.6196749619994, 12219.096861547905, 2254.267288079252, 3331.7832235057404, 3957.7785070379377, 2139.259103904872, 1505.941466665322, 1426.5099351908655, 10938.357385720883, 1327.3366388745562, 1102.4602831874647, 960.6781708195341, 981.2538968284402, 930.0375826111841, 10276.158996677215, 8151.9711520688925, 1821.6191834845006, 1528.2508780541898, 3381.006003029231, 7798.63548989268, 3443.474092831412, 12817.804202912148, 2695.5883623332315, 2250.1078790449606, 1885.763060067291, 4181.197163505731, 5577.157696562285, 2225.528059000751, 2230.4454036583197, 13522.200116768325, 5599.328027215137, 6950.911707032899, 2146.9264182113475, 6539.898403098119, 5447.06185811011, 2242.330717740743, 4174.290951489287, 16454.237148248078, 10828.682581695912, 9788.191813059091, 8704.690768214437, 17206.904102813107, 3441.324298239551, 3915.750720424549, 2644.95692810753, 3170.2758948930687, 10226.499025630568, 13010.319276611186, 5558.482739817101, 5823.612020085026, 16545.196210256774, 48157.77704170857, 31076.288843049348, 40361.74663242417, 9670.797779905475, 44907.55389074869, 78252.18080812786, 16307.069846441216, 43640.495303999516, 23740.47822942702, 31996.408417404302, 23133.8423882152, 74831.47122301582, 28994.79084226089, 20806.898757281466, 47118.719676935376, 42021.35192795724, 30327.330403945136], \"Category\": [\"Default\", \"Default\", \"Default\", \"Default\", \"Default\", \"Default\", \"Default\", \"Default\", \"Default\", \"Default\", \"Default\", \"Default\", \"Default\", \"Default\", \"Default\", \"Default\", \"Default\", \"Default\", \"Default\", \"Default\", \"Default\", \"Default\", \"Default\", \"Default\", \"Default\", \"Default\", \"Default\", \"Default\", \"Default\", \"Default\", \"Topic1\", \"Topic1\", \"Topic1\", \"Topic1\", \"Topic1\", \"Topic1\", \"Topic1\", \"Topic1\", \"Topic1\", \"Topic1\", \"Topic1\", \"Topic1\", \"Topic1\", \"Topic1\", \"Topic1\", \"Topic1\", \"Topic1\", \"Topic1\", \"Topic1\", \"Topic1\", \"Topic1\", \"Topic1\", \"Topic1\", \"Topic1\", \"Topic1\", \"Topic1\", \"Topic1\", \"Topic1\", \"Topic1\", \"Topic1\", \"Topic1\", \"Topic1\", \"Topic1\", \"Topic1\", \"Topic1\", \"Topic1\", \"Topic1\", \"Topic1\", \"Topic1\", \"Topic1\", \"Topic1\", \"Topic1\", \"Topic1\", \"Topic1\", \"Topic1\", \"Topic1\", \"Topic1\", \"Topic1\", \"Topic1\", \"Topic1\", \"Topic1\", \"Topic1\", \"Topic1\", \"Topic1\", \"Topic1\", \"Topic1\", \"Topic1\", \"Topic1\", \"Topic1\", \"Topic1\", \"Topic1\", \"Topic1\", \"Topic1\", \"Topic1\", \"Topic1\", \"Topic1\", \"Topic1\", \"Topic1\", \"Topic1\", \"Topic1\", \"Topic1\", \"Topic1\", \"Topic1\", \"Topic1\", \"Topic1\", \"Topic1\", \"Topic1\", \"Topic1\", \"Topic1\", \"Topic1\", \"Topic1\", \"Topic1\", \"Topic1\", \"Topic1\", \"Topic1\", \"Topic1\", \"Topic1\", \"Topic1\", \"Topic1\", \"Topic1\", \"Topic1\", \"Topic1\", \"Topic1\", \"Topic1\", \"Topic1\", \"Topic1\", \"Topic1\", \"Topic1\", \"Topic1\", \"Topic1\", \"Topic1\", \"Topic1\", \"Topic1\", \"Topic1\", \"Topic1\", \"Topic2\", \"Topic2\", \"Topic2\", \"Topic2\", \"Topic2\", \"Topic2\", \"Topic2\", \"Topic2\", \"Topic2\", \"Topic2\", \"Topic2\", \"Topic2\", \"Topic2\", \"Topic2\", \"Topic2\", \"Topic2\", \"Topic2\", \"Topic2\", \"Topic2\", \"Topic2\", \"Topic2\", \"Topic2\", \"Topic2\", \"Topic2\", \"Topic2\", \"Topic2\", \"Topic2\", \"Topic2\", \"Topic2\", \"Topic2\", \"Topic2\", \"Topic2\", \"Topic2\", \"Topic2\", \"Topic2\", \"Topic2\", \"Topic2\", \"Topic2\", \"Topic2\", \"Topic2\", \"Topic2\", \"Topic2\", \"Topic2\", \"Topic2\", \"Topic2\", \"Topic2\", \"Topic2\", \"Topic2\", \"Topic2\", \"Topic2\", \"Topic2\", \"Topic2\", \"Topic2\", \"Topic2\", \"Topic2\", \"Topic2\", \"Topic2\", \"Topic2\", \"Topic2\", \"Topic2\", \"Topic2\", \"Topic2\", \"Topic2\", \"Topic2\", \"Topic2\", \"Topic2\", \"Topic2\", \"Topic2\", \"Topic2\", \"Topic2\", \"Topic2\", \"Topic2\", \"Topic2\", \"Topic2\", \"Topic2\", \"Topic2\", \"Topic2\", \"Topic2\", \"Topic2\", \"Topic2\", \"Topic2\", \"Topic2\", \"Topic2\", \"Topic2\", \"Topic2\", \"Topic2\", \"Topic2\", \"Topic2\", \"Topic2\", \"Topic2\", \"Topic2\", \"Topic2\", \"Topic2\", \"Topic2\", \"Topic2\", \"Topic2\", \"Topic2\", \"Topic2\", \"Topic2\", \"Topic2\", \"Topic2\", \"Topic2\", \"Topic2\", \"Topic2\", \"Topic2\", \"Topic2\", \"Topic2\", \"Topic2\", \"Topic2\", \"Topic2\", \"Topic2\", \"Topic2\", \"Topic3\", \"Topic3\", \"Topic3\", \"Topic3\", \"Topic3\", \"Topic3\", \"Topic3\", \"Topic3\", \"Topic3\", \"Topic3\", \"Topic3\", \"Topic3\", \"Topic3\", \"Topic3\", \"Topic3\", \"Topic3\", \"Topic3\", \"Topic3\", \"Topic3\", \"Topic3\", \"Topic3\", \"Topic3\", \"Topic3\", \"Topic3\", \"Topic3\", \"Topic3\", \"Topic3\", \"Topic3\", \"Topic3\", \"Topic3\", \"Topic3\", \"Topic3\", \"Topic3\", \"Topic3\", \"Topic3\", \"Topic3\", \"Topic3\", \"Topic3\", \"Topic3\", \"Topic3\", \"Topic3\", \"Topic3\", \"Topic3\", \"Topic3\", \"Topic3\", \"Topic3\", \"Topic3\", \"Topic3\", \"Topic3\", \"Topic3\", \"Topic3\", \"Topic3\", \"Topic3\", \"Topic3\", \"Topic3\", \"Topic3\", \"Topic3\", \"Topic3\", \"Topic3\", \"Topic3\", \"Topic3\", \"Topic3\", \"Topic3\", \"Topic3\", \"Topic3\", \"Topic3\", \"Topic3\", \"Topic3\", \"Topic3\", \"Topic3\", \"Topic3\", \"Topic3\", \"Topic3\", \"Topic3\", \"Topic3\", \"Topic3\", \"Topic3\", \"Topic3\", \"Topic3\", \"Topic3\", \"Topic3\", \"Topic3\", \"Topic3\", \"Topic3\", \"Topic3\", \"Topic3\", \"Topic3\", \"Topic3\", \"Topic3\", \"Topic3\", \"Topic3\", \"Topic3\", \"Topic3\", \"Topic3\", \"Topic3\", \"Topic3\", \"Topic3\"], \"logprob\": [30.0, 29.0, 28.0, 27.0, 26.0, 25.0, 24.0, 23.0, 22.0, 21.0, 20.0, 19.0, 18.0, 17.0, 16.0, 15.0, 14.0, 13.0, 12.0, 11.0, 10.0, 9.0, 8.0, 7.0, 6.0, 5.0, 4.0, 3.0, 2.0, 1.0, -8.343, -9.1744, -8.3673, -9.7937, -9.3915, -9.3702, -10.0079, -9.1843, -9.7332, -9.577, -10.2834, -10.116, -9.7689, -10.2663, -10.1012, -9.9035, -10.4092, -9.9274, -10.2385, -9.5455, -9.5339, -8.3588, -10.5818, -9.6549, -9.5805, -10.4943, -10.6155, -8.5447, -8.4747, -10.449, -5.4715, -6.5214, -6.9805, -6.3783, -7.5955, -7.6626, -7.371, -7.4746, -6.8238, -7.8197, -6.9757, -7.387, -7.1651, -7.2927, -6.5139, -7.639, -8.0818, -6.6299, -7.4053, -7.1878, -8.156, -8.0717, -8.1218, -6.9066, -7.9171, -7.0925, -7.0489, -7.5493, -7.911, -7.4213, -6.8897, -7.114, -6.6808, -7.1722, -7.5812, -7.5719, -6.9326, -7.2448, -4.7059, -5.8298, -6.6678, -6.4418, -6.6573, -6.2451, -7.0884, -6.1194, -6.963, -7.0062, -6.6138, -5.1908, -6.5935, -6.0576, -5.4202, -5.8967, -6.6785, -5.6612, -5.7999, -6.3549, -6.7198, -5.9311, -5.8431, -6.0959, -6.5258, -6.1277, -6.1842, -6.3667, -5.9853, -5.8352, -6.3133, -6.2712, -6.47, -6.4193, -6.3261, -6.4321, -6.4511, -9.345, -9.3848, -9.2427, -9.601, -8.9473, -9.8357, -7.8199, -9.9887, -10.2165, -9.7739, -9.6272, -9.9986, -9.738, -9.9791, -9.1061, -9.197, -9.0666, -9.3456, -10.2889, -10.0369, -9.9622, -10.322, -10.2194, -8.4966, -10.44, -10.2268, -10.1885, -9.9113, -10.3838, -9.9826, -6.5181, -7.6611, -8.0421, -7.8305, -7.949, -7.1535, -6.9324, -7.8461, -8.6519, -7.878, -8.5, -8.1533, -8.5099, -8.0398, -8.0215, -9.1521, -8.7732, -9.1735, -9.1186, -8.7981, -9.2582, -7.7935, -7.8254, -8.6289, -9.01, -8.8052, -6.6733, -7.7688, -8.1713, -7.8749, -8.7444, -8.2957, -8.1523, -8.387, -8.2188, -7.8659, -7.5629, -6.7789, -6.7149, -7.1596, -7.4619, -5.4047, -6.3319, -7.3755, -6.961, -6.8324, -6.6502, -5.2275, -6.5176, -6.787, -6.4572, -6.6144, -6.6949, -6.1566, -6.1905, -6.7232, -6.2012, -5.7213, -6.5516, -6.7952, -5.9666, -5.8827, -5.9341, -6.3119, -6.2885, -6.1675, -6.2897, -6.0177, -6.3113, -6.1678, -6.2282, -6.3577, -6.4321, -6.0085, -6.4559, -6.411, -6.4963, -6.4565, -6.4514, -6.4052, -6.4909, -6.4955, -7.8148, -8.1064, -8.2166, -8.2954, -8.2817, -8.6871, -8.7328, -8.4203, -7.8645, -8.2868, -8.0002, -8.7492, -7.7915, -8.0832, -8.8058, -7.7932, -8.1015, -8.4282, -8.6008, -8.773, -8.9535, -8.2011, -8.9768, -8.8877, -7.9601, -8.7519, -8.3288, -8.3335, -8.871, -7.4643, -5.6876, -7.3739, -6.9876, -6.8179, -7.4274, -7.7756, -7.8305, -5.8138, -7.9027, -8.0873, -8.2251, -8.2042, -8.2578, -5.8796, -6.1162, -7.5934, -7.7668, -6.9889, -6.1707, -6.9729, -5.702, -7.2154, -7.3918, -7.5643, -6.7975, -6.5217, -7.4064, -7.4046, -5.6751, -6.5428, -6.3445, -7.4489, -6.4135, -6.5899, -7.4098, -6.8511, -5.617, -6.0045, -6.0963, -6.2135, -5.6226, -7.0407, -6.9406, -7.2703, -7.1336, -6.2617, -6.0837, -6.7232, -6.6915, -5.9535, -5.3469, -5.6682, -5.5865, -6.4109, -5.5906, -5.3147, -6.2045, -5.762, -6.0444, -5.9322, -6.0836, -5.854, -6.11, -6.202, -6.0688, -6.0944, -6.1967], \"loglift\": [30.0, 29.0, 28.0, 27.0, 26.0, 25.0, 24.0, 23.0, 22.0, 21.0, 20.0, 19.0, 18.0, 17.0, 16.0, 15.0, 14.0, 13.0, 12.0, 11.0, 10.0, 9.0, 8.0, 7.0, 6.0, 5.0, 4.0, 3.0, 2.0, 1.0, 0.7721, 0.7718, 0.7716, 0.7713, 0.7713, 0.7712, 0.7709, 0.7707, 0.7706, 0.7706, 0.7706, 0.7705, 0.7703, 0.7702, 0.7701, 0.77, 0.7698, 0.7698, 0.7698, 0.7697, 0.7695, 0.7694, 0.7693, 0.7693, 0.7693, 0.7693, 0.7693, 0.7693, 0.7693, 0.7692, 0.7611, 0.7663, 0.7635, 0.7549, 0.7668, 0.7646, 0.7612, 0.762, 0.7553, 0.765, 0.7565, 0.7606, 0.758, 0.7583, 0.7503, 0.7613, 0.7653, 0.7505, 0.7567, 0.7542, 0.7636, 0.7621, 0.7625, 0.7502, 0.7603, 0.7509, 0.7459, 0.7529, 0.7593, 0.7489, 0.7365, 0.7418, 0.7155, 0.7333, 0.7479, 0.7474, 0.7153, 0.7309, 0.5771, 0.6485, 0.6972, 0.6665, 0.6832, 0.6448, 0.7181, 0.6091, 0.7003, 0.7039, 0.6243, 0.3378, 0.6196, 0.4982, 0.2934, 0.4196, 0.5962, 0.2146, 0.2623, 0.4558, 0.5998, 0.1745, 0.0898, 0.2342, 0.4881, 0.2293, 0.2465, 0.3553, 0.0539, -0.3514, 0.1224, 0.0239, 0.2038, 0.0453, -0.2582, -0.2862, -0.4818, 1.0535, 1.0534, 1.0531, 1.053, 1.0525, 1.0524, 1.0523, 1.0521, 1.0519, 1.0518, 1.0518, 1.0517, 1.0516, 1.0516, 1.0516, 1.0515, 1.0515, 1.0515, 1.0514, 1.0513, 1.0513, 1.0513, 1.0513, 1.0511, 1.0511, 1.0511, 1.0511, 1.051, 1.0509, 1.0509, 1.042, 1.0488, 1.049, 1.046, 1.0455, 1.0362, 1.0337, 1.0425, 1.05, 1.0421, 1.0475, 1.0432, 1.0458, 1.0401, 1.0393, 1.0507, 1.0469, 1.0502, 1.0495, 1.0462, 1.0508, 1.0351, 1.0284, 1.0407, 1.0475, 1.0432, 0.9912, 1.0206, 1.026, 1.0154, 1.0411, 1.0248, 1.0161, 1.0252, 1.0159, 0.9871, 0.9613, 0.8875, 0.8574, 0.8765, 0.8982, 0.5865, 0.7106, 0.8606, 0.7637, 0.7274, 0.6448, 0.2563, 0.5716, 0.6286, 0.5045, 0.5551, 0.5594, 0.2752, 0.2693, 0.519, 0.2635, -0.0078, 0.4096, 0.5333, 0.1012, 0.0502, 0.0352, 0.2446, 0.221, 0.1275, 0.187, -0.1419, 0.0669, -0.1056, -0.0823, 0.0781, 0.1713, -0.4799, 0.0852, -0.0809, 0.1804, 0.0495, -0.0207, -0.2995, 0.0269, -1.2126, 1.66, 1.6599, 1.6599, 1.6598, 1.6598, 1.6597, 1.6596, 1.6596, 1.6596, 1.6595, 1.6594, 1.6594, 1.6594, 1.6593, 1.6593, 1.6593, 1.6592, 1.6592, 1.6592, 1.6592, 1.6592, 1.6591, 1.6591, 1.6591, 1.659, 1.659, 1.659, 1.659, 1.659, 1.6589, 1.6532, 1.6571, 1.6527, 1.6502, 1.656, 1.6588, 1.6581, 1.6377, 1.6579, 1.6589, 1.6588, 1.6586, 1.6585, 1.6343, 1.6293, 1.6506, 1.6528, 1.6367, 1.6191, 1.6344, 1.5909, 1.6367, 1.641, 1.6452, 1.6157, 1.6034, 1.6374, 1.637, 1.5643, 1.5783, 1.5604, 1.6309, 1.5524, 1.5588, 1.6265, 1.5637, 1.4262, 1.4571, 1.4663, 1.4665, 1.3759, 1.5673, 1.5381, 1.6008, 1.5564, 1.2571, 1.1943, 1.4053, 1.3904, 1.0842, 0.6224, 0.7391, 0.5594, 1.1638, 0.4486, 0.1692, 0.8477, 0.3058, 0.6322, 0.446, 0.6189, -0.3254, 0.3667, 0.6065, -0.0777, 0.0112, 0.235]}, \"token.table\": {\"Topic\": [1, 2, 3, 1, 2, 3, 1, 2, 3, 1, 2, 3, 1, 2, 3, 1, 2, 3, 1, 2, 1, 2, 3, 1, 2, 3, 1, 2, 3, 2, 1, 2, 3, 1, 2, 3, 1, 2, 3, 1, 2, 3, 1, 2, 3, 1, 2, 3, 1, 2, 3, 1, 3, 1, 2, 3, 1, 2, 3, 1, 2, 3, 1, 3, 1, 2, 3, 1, 2, 3, 1, 2, 3, 1, 2, 1, 2, 3, 2, 3, 2, 3, 3, 1, 3, 3, 1, 2, 3, 1, 2, 3, 1, 2, 3, 1, 2, 3, 1, 2, 3, 2, 1, 2, 3, 1, 2, 3, 1, 2, 3, 1, 2, 3, 1, 2, 3, 1, 2, 3, 1, 3, 1, 2, 3, 1, 2, 3, 1, 2, 3, 1, 2, 3, 1, 2, 3, 1, 2, 3, 1, 2, 3, 1, 2, 2, 1, 2, 3, 1, 2, 3, 1, 2, 3, 1, 2, 3, 1, 2, 3, 1, 2, 3, 1, 2, 3, 1, 1, 2, 3, 1, 2, 3, 1, 2, 3, 1, 2, 3, 1, 2, 3, 1, 2, 3, 1, 3, 1, 2, 3, 1, 2, 3, 1, 2, 3, 1, 2, 3, 1, 2, 3, 1, 2, 3, 1, 2, 3, 1, 2, 3, 1, 2, 3, 1, 2, 3, 1, 2, 3, 1, 2, 3, 1, 2, 3, 1, 2, 3, 1, 2, 3, 1, 2, 3, 3, 1, 1, 2, 3, 1, 2, 3, 1, 2, 3, 1, 2, 3, 1, 2, 3, 1, 2, 1, 2, 3, 1, 3, 1, 2, 3, 1, 2, 3, 1, 2, 3, 1, 2, 3, 1, 2, 3, 1, 2, 3, 1, 2, 3, 1, 2, 3, 1, 2, 3, 1, 2, 3, 1, 2, 3, 1, 3, 1, 2, 3, 1, 2, 3, 3, 1, 2, 3, 1, 2, 3, 1, 2, 3, 1, 2, 3, 1, 2, 3, 1, 2, 3, 1, 2, 3, 1, 2, 3, 1, 2, 3, 1, 2, 3, 1, 2, 3, 1, 2, 3, 3, 1, 2, 3, 1, 2, 3, 1, 2, 3, 3, 1, 2, 3, 1, 2, 3, 1, 2, 3, 1, 2, 3, 1, 2, 3, 1, 2, 3, 1, 2, 3, 1, 2, 3, 1, 2, 1, 3, 1, 2, 3, 1, 2, 3, 1, 2, 3, 1, 2, 3, 1, 2, 3, 1, 2, 3, 3, 1, 2, 3, 2, 1, 2, 3, 1, 2, 3, 1, 2, 3, 1, 2, 3, 1, 2, 3, 1, 2, 3, 1, 2, 3, 1, 2, 3, 1, 2, 3, 1, 2, 1, 2, 3, 1, 2, 3, 1, 2, 3, 1, 2, 3, 1, 2, 3, 1, 2, 3, 1, 1, 2, 3, 2, 1, 2, 1, 2, 3, 1, 2, 3, 1, 2, 3, 1, 2, 3, 1, 2, 3, 1, 2, 3, 1, 2, 3, 1, 2, 3, 1, 2, 3, 1, 2, 3, 1, 2, 3, 1, 2, 3, 1, 1, 2, 3, 1, 3, 1, 2, 3, 1, 2, 3, 1, 2, 3, 1, 2, 3, 1, 2, 3, 1, 2, 3, 1, 2, 3, 1, 2, 3, 1, 1, 2, 3, 1, 2, 3, 1, 2, 3, 1, 2, 3, 2, 1, 2, 3, 1, 2, 3, 1, 2, 3, 1, 2, 3, 1, 2, 3, 2, 3, 1, 2, 3, 1, 2, 3, 2, 1, 2, 3, 1, 2, 3, 1, 2, 3, 1, 2, 3, 1, 2, 3, 1, 2, 3, 3, 1, 2, 3, 1, 2, 3, 1, 2, 3, 2, 1, 1, 2, 3, 1, 2, 3, 1, 2, 3, 1, 1, 2, 1, 2, 3, 1, 2, 3, 1, 2, 3, 1, 2, 3, 1, 2, 3, 3, 1, 2, 3, 1, 2, 3, 2, 3, 1, 2, 3, 1, 2, 3, 1, 1, 2, 3, 2, 1, 2, 3, 1, 2, 3, 1, 2, 3, 1, 2, 3, 1, 2, 3, 1, 2, 3, 1, 2, 3, 1, 2, 3, 1, 2, 2, 3, 1, 2, 3, 1, 2, 3, 1, 2, 3, 2, 1, 2, 3, 1, 2, 1, 2, 3, 1, 2, 3, 1, 2, 3, 1, 2, 3, 1, 3, 1, 2, 1, 2, 1, 2, 3, 1, 2, 3, 1, 2, 3, 1, 2, 3, 1, 2, 3, 3, 1, 2, 3, 1, 2, 3, 1, 3, 1, 2, 3, 1, 2, 3, 1, 2, 3, 3, 1, 1, 2, 3, 1, 2, 3, 1, 2, 3, 1, 2, 3, 1, 2, 3, 1, 2, 3, 1, 2, 3, 1, 2, 3, 2, 1, 2, 3, 1, 2, 3, 1, 2, 3], \"Freq\": [0.007197771097639084, 0.0006543428270580986, 0.9919837258200774, 0.002737328099237368, 0.9963874281224021, 0.001368664049618684, 0.001040931323699092, 0.001040931323699092, 0.9982531394274292, 0.003184701873014254, 0.9968116862534615, 0.001592350936507127, 0.0029978463558804147, 0.996783913330238, 0.0014989231779402074, 0.061634436867920125, 0.9345414313045479, 0.003712917883609646, 0.0043862355519539535, 0.9956754702935475, 0.0007569603570540405, 0.9976737505972254, 0.0018924008926351013, 0.5722435693392751, 0.30222600515720716, 0.1255240298015259, 0.19814108472091863, 0.5852280840634317, 0.21660557951714193, 0.9955769824981772, 0.33690748831787437, 0.31460719237215484, 0.3484421241518672, 0.004548005899772162, 0.006064007866362883, 0.989443950194877, 0.014153071359740492, 0.9817258822911885, 0.004207669863706633, 0.005321906549380173, 0.9913951629131066, 0.0034212256388872543, 0.0037687685658501554, 0.9944838053137097, 0.0018843842829250777, 0.9959966585809807, 0.0015834605064880456, 0.0015834605064880456, 0.291765855498153, 0.31036524498507617, 0.39785960487252275, 0.0009254575568383655, 0.9994941613854348, 0.002455173270162589, 0.005074024758336018, 0.992462874908724, 0.015030764193865198, 0.9615835041972737, 0.023509656816045568, 0.005333077632301479, 0.014221540352803944, 0.9803974380714218, 0.0012758287626734406, 0.998973921173304, 0.1410176788202947, 0.8210385557649785, 0.03806548901586595, 0.0471694880701188, 0.9384126451551693, 0.014365767349892297, 0.07162235047133644, 0.9107797403220693, 0.017371092465062944, 0.0032768581365848486, 0.9961648735217941, 0.9779801220543884, 0.01251746433974707, 0.009537115687426339, 0.0011079485505878723, 0.9982616440796728, 0.0017633145585779725, 0.9980360401551324, 0.9991237735914801, 0.9986578182725351, 0.000988280869146497, 0.9986947761250908, 0.02090911621780133, 0.005227279054450333, 0.9740163304792454, 0.00140235467247702, 0.00327216090244638, 0.9952043659011918, 0.006855948322651128, 0.9849712423542121, 0.008227137987181353, 0.019611608061851592, 0.024394927101327592, 0.9559463100392782, 0.9333434734723752, 0.036230255344735104, 0.030428678508486674, 0.998306502985498, 0.002150450731662668, 0.001075225365831334, 0.997809139491478, 0.010922202100608583, 0.9863588666241905, 0.002520508177063519, 0.2579862623767517, 0.2985208284407006, 0.44348862598256916, 0.0681241891056447, 0.10844727574321855, 0.8234640598807104, 0.005323859225293537, 0.018337737331566628, 0.9763366279274425, 0.9874496854176684, 0.006852963116463314, 0.005606969822560893, 0.9972746116778236, 0.0022925853142018934, 0.006522320501889899, 0.9853362758212241, 0.007919960609437735, 0.004018402424501088, 0.9885269964272676, 0.008036804849002176, 0.9748300683196945, 0.020685471630639038, 0.004354836132766113, 0.985293878112902, 0.006300020335889188, 0.00835118974757404, 0.9899006131522459, 0.0019154423629106924, 0.00804485792422491, 0.9783373331303495, 0.019074331301352224, 0.002570299962593562, 0.861974180349602, 0.11513174667280926, 0.022893419800237888, 0.002574710710489263, 0.9964130449593447, 0.9970467351014708, 0.5497205334945764, 0.2581544739112192, 0.19214041504048526, 0.9467894194042588, 0.03937350656294218, 0.01395021590143978, 0.016175936247761258, 0.0071893049990050025, 0.9768468167398048, 0.014352356972007502, 0.016560411890777886, 0.96909076990478, 0.9885147911885199, 0.004485737051010718, 0.006846651288384781, 0.9837993701556208, 0.011135524366918937, 0.005083608950115167, 0.9987417387122624, 0.0013756773260499482, 0.0013756773260499482, 0.9962149558619897, 0.9814489956616614, 0.01612359165370542, 0.0023886802449933956, 0.9980404023495302, 0.0011176264304026094, 0.0011176264304026094, 0.9966422657610019, 0.0016023187552427684, 0.0016023187552427684, 0.9839608888208051, 0.013766894644117901, 0.0022324694017488485, 0.23066322542886258, 0.017202397260504744, 0.7521399504913931, 0.9934479257743145, 0.0029488377737403493, 0.0035696457261067387, 0.9978018130441343, 0.001346561151206659, 0.36208494278054315, 0.45595504876691983, 0.18194115556969317, 0.0006750784146965569, 0.0006750784146965569, 0.9984409753362076, 0.011041036616562042, 0.970961749515309, 0.017535764038069127, 0.002661618713862587, 0.0008872062379541956, 0.9963326052225616, 0.13323357256640983, 0.8236439350684372, 0.043275867179465445, 0.9917138405689933, 0.005093174529701359, 0.0031529175660056034, 0.19350898844416883, 0.6531148857926482, 0.15337836413145378, 0.01521938360409784, 0.9805631436354466, 0.003986029039168482, 0.007496822861082109, 0.9910799822350548, 0.0014993645722164218, 0.010394619425468401, 0.9873869373859151, 0.002241976738826518, 0.011911336007135068, 0.9874497549914972, 0.0007940890671423379, 0.19997068350318498, 0.13210777184000141, 0.6678727473480457, 0.9694929739470541, 0.016162781990075217, 0.014382136516592354, 0.28518758222800095, 0.3607932314847471, 0.3540238160335801, 0.9968678046489143, 0.0016586818712960305, 0.0016586818712960305, 0.020131726916007012, 0.02064463715590528, 0.9592703761697354, 0.9989379055220915, 0.9992706622426757, 0.9803041730380221, 0.011772211684954414, 0.007919487860787515, 0.016787209036975177, 0.0752096545841575, 0.9080622897137365, 0.021172367460844842, 0.036673565066106244, 0.9417922740172232, 0.017839386432507463, 0.07768765059317767, 0.9044856653320518, 0.002766101014676407, 0.9944133147761685, 0.002766101014676407, 0.0033419530376105414, 0.9959020052079413, 0.3308183800480037, 0.37241679892791796, 0.2967833100553465, 0.99823092575572, 0.0020044797705938153, 0.08685150211674905, 0.015902387711517432, 0.8972616451075413, 0.0009036611676497647, 0.0009036611676497647, 0.9985455902529901, 0.09147468851753722, 0.007885749010132519, 0.9008679669175389, 0.2795903893291379, 0.3675999800332388, 0.3527732169627542, 0.9883291964353054, 0.006944081236914907, 0.00470144021487624, 0.9856756581992389, 0.012154446460902777, 0.0021644904656402206, 0.002631118379022482, 0.9971938656495206, 0.001315559189511241, 0.0007263238470498486, 0.0007263238470498486, 0.9986952896935418, 0.0011603543917806621, 0.0011603543917806621, 0.9979047769313694, 0.9443083765936753, 0.047237047514443124, 0.00847844442566928, 0.0342641401836559, 0.9621153013474174, 0.0038071266870728783, 0.997481710047175, 0.002794066414697969, 0.9866369784166374, 0.008660136487669544, 0.004639358832680113, 0.9962485790423482, 0.0016466918661856996, 0.002195589154914266, 0.9991395191143408, 0.9963756283116287, 0.001955594952525277, 0.0014666962143939579, 0.0011549432706820743, 0.0011549432706820743, 0.9978709858693121, 0.0008317972616394827, 0.0008317972616394827, 0.9989885112290187, 0.0015067767598849623, 0.0007533883799424811, 0.9974862150438449, 0.9884457124179676, 0.001444568085375181, 0.010111976597626268, 0.9777991278596294, 0.009855317616820578, 0.012357052088782725, 0.4872676889334617, 0.21517538059428024, 0.29754459645045767, 0.019198495038582078, 0.0035654347928795287, 0.9772033974638278, 0.9588916377374233, 0.031191000132521657, 0.010036707963435186, 0.9925194651046159, 0.0033219320141099082, 0.0040601391283565545, 0.23467256957030477, 0.7088763540436329, 0.056421018926193875, 0.1980953655786406, 0.6261205780266825, 0.1757900056875809, 0.9981065874743336, 0.0034707294047613873, 0.9952316568153278, 0.0008676823511903468, 0.06370406818188654, 0.03322892317268433, 0.9030556524112389, 0.03604093612431307, 0.8460553087043933, 0.11798306448242107, 0.997822862639565, 0.4526990927481033, 0.3659666916425903, 0.1813140489941211, 0.446310787388771, 0.3577961348935183, 0.19586068051121686, 0.14223302562827167, 0.6093878285361148, 0.24836363155881316, 0.1727090008075816, 0.05289213149732186, 0.7744919254964987, 0.13015976981051236, 0.10680656572841517, 0.7631002863297058, 0.5218597054854223, 0.37658784177483207, 0.10157112075298329, 0.04232650754663386, 0.036790128922390614, 0.9208247802128448, 0.7024115989892096, 0.18786792871334151, 0.10972427110935583, 0.0023052512436743974, 0.9981737885110141, 0.0006914458235361198, 0.999139215009693, 0.0009203398018853053, 0.0009203398018853053, 0.9985686850455563, 0.0010166223075371832, 0.0010166223075371832, 0.998323106001514, 0.000468098896270925, 0.0670161586494541, 0.9325310178543944, 0.9821772507672436, 0.00817871517462399, 0.009641574799353484, 0.9922973454538496, 0.001987433882167939, 0.005962301646503817, 0.0003001395747913601, 0.007803628944575362, 0.9919612946854451, 0.9977860280123494, 0.9970200446836135, 0.0017867742736265475, 0.0017867742736265475, 0.9970255362277247, 0.1451661370199986, 0.836714649648602, 0.018043248669152367, 0.0013523220192355931, 0.0006761610096177966, 0.9986898112054856, 0.006415738364057725, 0.9910177193014499, 0.0025662953456230897, 0.0070034548616438805, 0.9914891096984407, 0.0010004935516634114, 0.9878274320076582, 0.0023838419558380466, 0.009902112739634962, 0.33952525246076903, 0.44483075215126394, 0.21565400841192867, 0.02619309568784818, 0.9717638500191675, 0.0020954476550278543, 0.014071057629759921, 0.9793150217755736, 0.0065766899791269194, 0.0044612201930518255, 0.9926214929540311, 0.0029741467953678835, 0.0032861071973123153, 0.9956904807856316, 0.7522347542099053, 0.1677403822255434, 0.08003376435532614, 0.2422119312002232, 0.5768497843431772, 0.1809867598769475, 0.5050599917425669, 0.3662260578379897, 0.12872272296979037, 0.9893124310858539, 0.0040093715545525994, 0.006815931642739419, 0.0035396513298013867, 0.9939984507051348, 0.0022525053916917915, 0.0011688667835189435, 0.9982122331251777, 0.0011688667835189435, 0.9945209172126765, 0.32492385180093364, 0.4500705237385779, 0.22501609307444503, 0.9972673216330997, 0.9977844658377952, 0.002347728154912459, 0.004882715026079801, 0.9921676932994156, 0.0029296290156478806, 0.0017389666983654705, 0.9964279181634145, 0.0017389666983654705, 0.0029749979960458873, 0.9966243286753722, 0.0007437494990114718, 0.012264083484255067, 0.9867870249639077, 0.0018867820745007795, 0.0028639984816309846, 0.9966714716075826, 0.0014319992408154923, 0.976221948671324, 0.013503934736663847, 0.010127951052497884, 0.8990902413459737, 0.06751932919067657, 0.03340293422977755, 0.9271999387933066, 0.04460755719280513, 0.0281731940165085, 0.6191356907538292, 0.3456007514949049, 0.035261116964191236, 0.07094368557574822, 0.30191418953579524, 0.6271944466935053, 0.016316554946275173, 0.03926731355202486, 0.9442085532646709, 0.015472707268485479, 0.01060707605198061, 0.9739047442956144, 0.9968010008925863, 0.006191341109170248, 0.9930911139109078, 0.0012382682218340494, 0.0012662055530752003, 0.999036181376333, 0.8380860937561875, 0.1015815503035379, 0.06029010564772573, 0.989214884340827, 0.00764856869335691, 0.0029137404546121562, 0.9776379524924511, 0.011225605149758308, 0.011225605149758308, 0.006107453864354592, 0.9624329381245444, 0.03155517829916539, 0.08887736966864662, 0.0035934246496757394, 0.90745950486478, 0.8411335386626845, 0.14510314712498779, 0.013861316649708936, 0.9440873654533352, 0.03171065399578085, 0.024144603217840156, 0.8798256895432285, 0.10406708600463906, 0.016110585959636006, 0.9976122976596133, 0.19612929070663482, 0.5246164584416695, 0.27927288097193675, 0.0013280728662241404, 0.0006640364331120702, 0.9980467589674415, 0.9980355694905579, 0.0016551170306642752, 0.0016551170306642752, 0.9142853236074776, 0.01750846167803134, 0.06823391139943054, 0.9959604216586783, 0.0010191042330961945, 0.0010191042330961945, 0.9977030442011745, 0.02274419183419339, 0.011149113644212444, 0.9664051706803347, 0.8222042734264712, 0.10358693028968496, 0.07421465237706995, 0.7598346889849831, 0.08439704420294, 0.15576685778808874, 0.0009070621547551549, 0.0009070621547551549, 0.9977683702306703, 0.99788545446374, 0.001571473156635811, 0.5835102020226771, 0.3212433654320864, 0.09522624379104129, 0.006306600902997385, 0.01743589661416924, 0.9764102103934775, 0.9974096137762817, 0.0030603644277400477, 0.9976788034432555, 0.0030603644277400477, 0.013179145082536321, 0.16356442850496627, 0.8232368300393619, 0.22381118682076548, 0.2143824681753322, 0.5618549264612034, 0.9826475352480729, 0.012982870933940292, 0.0043622446338039385, 0.9939879263073438, 0.0038641195397266966, 0.0022730114939568803, 0.9734713099972115, 0.013273437242482497, 0.013273437242482497, 0.9993701530590402, 0.2501690820157143, 0.6637298457229419, 0.08607379978103169, 0.13866487858803178, 0.2529263930099372, 0.6083262347005153, 0.5660778638775991, 0.21434260884227854, 0.21959301568242842, 0.996288085803957, 0.9985900681441215, 0.19383960031769476, 0.6169012099408184, 0.18925770562863564, 0.0026011474381219986, 0.9739439193311084, 0.023410326943097987, 0.0010468799136329318, 0.988778078426304, 0.010468799136329318, 0.9985825852772848, 0.00322103958055795, 0.9953012303924065, 0.0007010115915289444, 0.002103034774586833, 0.9975394947456879, 0.009415159844556757, 0.014346910239324584, 0.9764865781640294, 0.010247207269603908, 0.019562850241971096, 0.9706899977206611, 0.9300940633384507, 0.03231376361938738, 0.037624067430965025, 0.3609932835908473, 0.37927468382975615, 0.2597650874993442, 0.9987811985039932, 0.22169406191698898, 0.7209132270793263, 0.057359263262529776, 0.000798803974947404, 0.000798803974947404, 0.998504968684255, 0.994466598550521, 0.9988442443959691, 0.8578859913397827, 0.06143705403516369, 0.08066764421967565, 0.9994206723892319, 0.00048257878917876964, 0.00048257878917876964, 0.9958110103913091, 0.9906474939365075, 0.003429541274755466, 0.0058792136138665135, 0.9995209946357385, 0.13966007535297215, 0.06940461534077205, 0.7909208967117404, 0.10240692746562867, 0.012768943574267914, 0.8846324108252811, 0.010772515844215572, 0.9879935959980567, 0.001538930834887939, 0.975367016190347, 0.0164906506344175, 0.008135387646312633, 0.3659925435354421, 0.4171337668149111, 0.21686574748163626, 0.3432112833304392, 0.2992778802237077, 0.35749069239389264, 0.3566183172667543, 0.38542184003256486, 0.2579714075556846, 0.7283371553664327, 0.20543336866859568, 0.06627815129847307, 0.0034710482768723376, 0.9961908554623609, 0.9983972999774676, 0.002669511497265956, 0.0071365080681313605, 0.0027448107954351386, 0.989778772833911, 0.9643932090094542, 0.021447895933039342, 0.014262306432630222, 0.8489765233896064, 0.14951925183292256, 0.0014641351069692714, 0.9983608209652481, 0.34678875836249523, 0.3207988028347209, 0.3324187162213044, 0.9960812366606245, 0.003952703320081843, 0.8830638583151705, 0.11068092954824575, 0.0062525743596231215, 0.9910080536877548, 0.007540710060099056, 0.001587517907389275, 0.6001829862606867, 0.31339851150453624, 0.08640447547078679, 0.027896237517954905, 0.06131360537800506, 0.9106959206382362, 0.0015162253042838067, 0.9976762502187447, 0.9964817465904819, 0.0032041213716735755, 0.997809983192616, 0.9964160061288766, 0.9611775312848803, 0.018857908731214516, 0.01986558324356949, 0.3319107810650988, 0.4344456588836631, 0.23361700524876222, 0.0004864713118775175, 0.0014594139356325525, 0.9982391319726659, 0.33717847134143464, 0.5936798593937895, 0.06911714049314951, 0.10887751036242428, 0.07544777435631946, 0.8157040280163644, 0.9976956795122568, 0.24160365626305325, 0.747517627682107, 0.010812694710927296, 0.4830916482505715, 0.453275383016795, 0.06361939107595521, 0.9983857808282427, 0.0019348561643958192, 0.4998082593785734, 0.4133684820849343, 0.08683126179225158, 0.30595150860927117, 0.419903011759427, 0.27415269326288993, 0.6472410499007163, 0.21555102066520532, 0.13721499567206003, 0.9990653326027127, 0.9985883454924174, 0.030312618158453986, 0.9665195720867973, 0.003484208983730343, 0.015407235950379813, 0.9706558648739283, 0.014222063954196751, 0.1288248548133051, 0.8552790977129816, 0.01610310685166314, 0.002121157257082587, 0.013257232856766166, 0.9847472566005908, 0.5807083604263936, 0.276355862341071, 0.14295112808430954, 0.4728692885773538, 0.39567318307637345, 0.1314404627941431, 0.9966981285572721, 0.0023548685848960946, 0.0011774342924480473, 0.5907715012015197, 0.34118824697214056, 0.06805318770461888, 0.9974227754976339, 0.30101561457623227, 0.4586292236981942, 0.24034426713179508, 0.6586570984972906, 0.2594429285789368, 0.0818968673631778, 0.32089417361312933, 0.606761651868401, 0.07239769709793421], \"Term\": [\"*denotes\", \"*denotes\", \"*denotes\", \"0330\", \"0330\", \"0330\", \"1-0\", \"1-0\", \"1-0\", \"1.99\", \"1.99\", \"1.99\", \"6846.\", \"6846.\", \"6846.\", \"actor\", \"actor\", \"actor\", \"actress\", \"actress\", \"album\", \"album\", \"album\", \"also\", \"also\", \"also\", \"always\", \"always\", \"always\", \"anag\", \"another\", \"another\", \"another\", \"arsenal\", \"arsenal\", \"arsenal\", \"art\", \"art\", \"art\", \"artist\", \"artist\", \"artist\", \"artists\", \"artists\", \"artists\", \"audit\", \"audit\", \"audit\", \"back\", \"back\", \"back\", \"bairstow\", \"bairstow\", \"ball\", \"ball\", \"ball\", \"band\", \"band\", \"band\", \"barcelona\", \"barcelona\", \"barcelona\", \"bayern\", \"bayern\", \"black\", \"black\", \"black\", \"book\", \"book\", \"book\", \"books\", \"books\", \"books\", \"bourdain\", \"bourdain\", \"brexit\", \"brexit\", \"brexit\", \"brom\", \"brom\", \"bruyne\", \"bruyne\", \"buttler\", \"carillion\", \"carillion\", \"cecchinato\", \"champions\", \"champions\", \"champions\", \"championship\", \"championship\", \"championship\", \"characters\", \"characters\", \"characters\", \"chelsea\", \"chelsea\", \"chelsea\", \"chief\", \"chief\", \"chief\", \"chilli\", \"cilic\", \"cilic\", \"cilic\", \"cinema\", \"cinema\", \"cinema\", \"city\", \"city\", \"city\", \"club\", \"club\", \"club\", \"coach\", \"coach\", \"coach\", \"coalition\", \"coalition\", \"coalition\", \"comcast\", \"comcast\", \"comedy\", \"comedy\", \"comedy\", \"comic\", \"comic\", \"comic\", \"commission\", \"commission\", \"commission\", \"committee\", \"committee\", \"committee\", \"commons\", \"commons\", \"commons\", \"companies\", \"companies\", \"companies\", \"company\", \"company\", \"company\", \"composer\", \"composer\", \"coriander\", \"could\", \"could\", \"could\", \"council\", \"council\", \"council\", \"cricket\", \"cricket\", \"cricket\", \"cup\", \"cup\", \"cup\", \"customs\", \"customs\", \"customs\", \"data\", \"data\", \"data\", \"dow\", \"dow\", \"dow\", \"draghi\", \"economic\", \"economic\", \"economic\", \"economist\", \"economist\", \"economist\", \"economists\", \"economists\", \"economists\", \"economy\", \"economy\", \"economy\", \"england\", \"england\", \"england\", \"eu\", \"eu\", \"eu\", \"eurozone\", \"eurozone\", \"even\", \"even\", \"even\", \"everton\", \"everton\", \"everton\", \"exhibition\", \"exhibition\", \"exhibition\", \"fa\", \"fa\", \"fa\", \"father\", \"father\", \"father\", \"federal\", \"federal\", \"federal\", \"feel\", \"feel\", \"feel\", \"festival\", \"festival\", \"festival\", \"fiction\", \"fiction\", \"fiction\", \"film\", \"film\", \"film\", \"films\", \"films\", \"films\", \"final\", \"final\", \"final\", \"financial\", \"financial\", \"financial\", \"first\", \"first\", \"first\", \"fiscal\", \"fiscal\", \"fiscal\", \"football\", \"football\", \"football\", \"free-kick\", \"ftse\", \"funding\", \"funding\", \"funding\", \"game\", \"game\", \"game\", \"game.\", \"game.\", \"game.\", \"games\", \"games\", \"games\", \"genre\", \"genre\", \"genre\", \"gerwig\", \"gerwig\", \"get\", \"get\", \"get\", \"gkn\", \"gkn\", \"goal\", \"goal\", \"goal\", \"goalkeeper\", \"goalkeeper\", \"goalkeeper\", \"goals\", \"goals\", \"goals\", \"good\", \"good\", \"good\", \"government\", \"government\", \"government\", \"growth\", \"growth\", \"growth\", \"guardianbookshop.com\", \"guardianbookshop.com\", \"guardianbookshop.com\", \"guardiola\", \"guardiola\", \"guardiola\", \"header\", \"header\", \"header\", \"health\", \"health\", \"health\", \"hollywood\", \"hollywood\", \"hollywood\", \"imf\", \"imf\", \"income\", \"income\", \"income\", \"inflation\", \"inflation\", \"inflation\", \"iniesta\", \"investors\", \"investors\", \"investors\", \"juventus\", \"juventus\", \"juventus\", \"klopp\", \"klopp\", \"klopp\", \"kyrgios\", \"kyrgios\", \"kyrgios\", \"labor\", \"labor\", \"labor\", \"labour\", \"labour\", \"labour\", \"last\", \"last\", \"last\", \"league\", \"league\", \"league\", \"legal\", \"legal\", \"legal\", \"legislation\", \"legislation\", \"legislation\", \"life\", \"life\", \"life\", \"like\", \"like\", \"like\", \"lingard\", \"literary\", \"literary\", \"literary\", \"liverpool\", \"liverpool\", \"liverpool\", \"love\", \"love\", \"love\", \"lukaku\", \"made\", \"made\", \"made\", \"make\", \"make\", \"make\", \"man\", \"man\", \"man\", \"manager\", \"manager\", \"manager\", \"manchester\", \"manchester\", \"manchester\", \"many\", \"many\", \"many\", \"match\", \"match\", \"match\", \"may\", \"may\", \"may\", \"mcdormand\", \"mcdormand\", \"messi\", \"messi\", \"midfield\", \"midfield\", \"midfield\", \"midfielder\", \"midfielder\", \"midfielder\", \"min\", \"min\", \"min\", \"minister\", \"minister\", \"minister\", \"ministers\", \"ministers\", \"ministers\", \"mins\", \"mins\", \"mins\", \"moeen\", \"monetary\", \"monetary\", \"monetary\", \"mon\\u00e1e\", \"mother\", \"mother\", \"mother\", \"mourinho\", \"mourinho\", \"mourinho\", \"movie\", \"movie\", \"movie\", \"movies\", \"movies\", \"movies\", \"mps\", \"mps\", \"mps\", \"much\", \"much\", \"much\", \"museum\", \"museum\", \"museum\", \"music\", \"music\", \"music\", \"musical\", \"musical\", \"musical\", \"narrator\", \"narrator\", \"national\", \"national\", \"national\", \"never\", \"never\", \"never\", \"new\", \"new\", \"new\", \"nhs\", \"nhs\", \"nhs\", \"novel\", \"novel\", \"novel\", \"novels\", \"novels\", \"novels\", \"ofs\", \"one\", \"one\", \"one\", \"onion\", \"ons\", \"ons\", \"opera\", \"opera\", \"opera\", \"oscars\", \"oscars\", \"oscars\", \"p&amp\", \"p&amp\", \"p&amp\", \"painting\", \"painting\", \"painting\", \"paintings\", \"paintings\", \"paintings\", \"parliament\", \"parliament\", \"parliament\", \"party\", \"party\", \"party\", \"pay\", \"pay\", \"pay\", \"people\", \"people\", \"people\", \"play\", \"play\", \"play\", \"player\", \"player\", \"player\", \"players\", \"players\", \"players\", \"pmi\", \"poetry\", \"poetry\", \"poetry\", \"pogba\", \"pogba\", \"police\", \"police\", \"police\", \"policies\", \"policies\", \"policies\", \"policy\", \"policy\", \"policy\", \"pop\", \"pop\", \"pop\", \"premier\", \"premier\", \"premier\", \"president\", \"president\", \"president\", \"prime\", \"prime\", \"prime\", \"public\", \"public\", \"public\", \"rbs\", \"really\", \"really\", \"really\", \"referee\", \"referee\", \"referee\", \"regulators\", \"regulators\", \"regulators\", \"report\", \"report\", \"report\", \"rockwell\", \"ronaldo\", \"ronaldo\", \"ronaldo\", \"rugby\", \"rugby\", \"rugby\", \"said\", \"said\", \"said\", \"said.\", \"said.\", \"said.\", \"salah\", \"salah\", \"salah\", \"sauce\", \"sauce\", \"says\", \"says\", \"says\", \"scored\", \"scored\", \"scored\", \"screenplay\", \"sculpture\", \"sculpture\", \"sculpture\", \"season\", \"season\", \"season\", \"second\", \"second\", \"second\", \"secretary\", \"secretary\", \"secretary\", \"sector\", \"sector\", \"sector\", \"services\", \"services\", \"services\", \"sevilla\", \"show\", \"show\", \"show\", \"side\", \"side\", \"side\", \"since\", \"since\", \"since\", \"slime\", \"slowdown\", \"something\", \"something\", \"something\", \"song\", \"song\", \"song\", \"songs\", \"songs\", \"songs\", \"sorrell\", \"spielberg\", \"spielberg\", \"spurs\", \"spurs\", \"spurs\", \"squad\", \"squad\", \"squad\", \"stadium\", \"stadium\", \"stadium\", \"staff\", \"staff\", \"staff\", \"still\", \"still\", \"still\", \"stoinis\", \"story\", \"story\", \"story\", \"striker\", \"striker\", \"striker\", \"styling\", \"suarez\", \"support\", \"support\", \"support\", \"tariffs\", \"tariffs\", \"tariffs\", \"tariffs.\", \"tax\", \"tax\", \"tax\", \"tbsp\", \"team\", \"team\", \"team\", \"teams\", \"teams\", \"teams\", \"theatre\", \"theatre\", \"theatre\", \"theresa\", \"theresa\", \"theresa\", \"think\", \"think\", \"think\", \"three\", \"three\", \"three\", \"time\", \"time\", \"time\", \"told\", \"told\", \"told\", \"tonya\", \"tonya\", \"toro\", \"toro\", \"tournament\", \"tournament\", \"tournament\", \"trade\", \"trade\", \"trade\", \"trump\", \"trump\", \"trump\", \"tsp\", \"two\", \"two\", \"two\", \"ucu\", \"ucu\", \"uk\", \"uk\", \"uk\", \"universities\", \"universities\", \"universities\", \"us\", \"us\", \"us\", \"v\", \"v\", \"v\", \"var\", \"var\", \"vice-chancellor\", \"vice-chancellor\", \"vice-chancellors\", \"vocals\", \"vote\", \"vote\", \"vote\", \"way\", \"way\", \"way\", \"wenger\", \"wenger\", \"wenger\", \"white\", \"white\", \"white\", \"win\", \"win\", \"win\", \"woakes\", \"woman\", \"woman\", \"woman\", \"women\", \"women\", \"women\", \"worboys\", \"worboys\", \"work\", \"work\", \"work\", \"world\", \"world\", \"world\", \"would\", \"would\", \"would\", \"wozniacki\", \"wpp\", \"writer\", \"writer\", \"writer\", \"writers\", \"writers\", \"writers\", \"writing\", \"writing\", \"writing\", \"yards\", \"yards\", \"yards\", \"year\", \"year\", \"year\", \"years\", \"years\", \"years\", \"zuckerberg\", \"zuckerberg\", \"zuckerberg\", \"\\u00a3\", \"\\u00a3\", \"\\u00a3\", \"\\u00bd\", \"\\u201ci\", \"\\u201ci\", \"\\u201ci\", \"\\u201cthe\", \"\\u201cthe\", \"\\u201cthe\", \"\\u2022\", \"\\u2022\", \"\\u2022\"]}, \"R\": 30, \"lambda.step\": 0.01, \"plot.opts\": {\"xlab\": \"PC1\", \"ylab\": \"PC2\"}, \"topic.order\": [3, 1, 2]};\n",
              "\n",
              "function LDAvis_load_lib(url, callback){\n",
              "  var s = document.createElement('script');\n",
              "  s.src = url;\n",
              "  s.async = true;\n",
              "  s.onreadystatechange = s.onload = callback;\n",
              "  s.onerror = function(){console.warn(\"failed to load library \" + url);};\n",
              "  document.getElementsByTagName(\"head\")[0].appendChild(s);\n",
              "}\n",
              "\n",
              "if(typeof(LDAvis) !== \"undefined\"){\n",
              "   // already loaded: just create the visualization\n",
              "   !function(LDAvis){\n",
              "       new LDAvis(\"#\" + \"ldavis_el541397983616863528372019656\", ldavis_el541397983616863528372019656_data);\n",
              "   }(LDAvis);\n",
              "}else if(typeof define === \"function\" && define.amd){\n",
              "   // require.js is available: use it to load d3/LDAvis\n",
              "   require.config({paths: {d3: \"https://d3js.org/d3.v5\"}});\n",
              "   require([\"d3\"], function(d3){\n",
              "      window.d3 = d3;\n",
              "      LDAvis_load_lib(\"https://cdn.jsdelivr.net/gh/bmabey/pyLDAvis@3.3.1/pyLDAvis/js/ldavis.v3.0.0.js\", function(){\n",
              "        new LDAvis(\"#\" + \"ldavis_el541397983616863528372019656\", ldavis_el541397983616863528372019656_data);\n",
              "      });\n",
              "    });\n",
              "}else{\n",
              "    // require.js not available: dynamically load d3 & LDAvis\n",
              "    LDAvis_load_lib(\"https://d3js.org/d3.v5.js\", function(){\n",
              "         LDAvis_load_lib(\"https://cdn.jsdelivr.net/gh/bmabey/pyLDAvis@3.3.1/pyLDAvis/js/ldavis.v3.0.0.js\", function(){\n",
              "                 new LDAvis(\"#\" + \"ldavis_el541397983616863528372019656\", ldavis_el541397983616863528372019656_data);\n",
              "            })\n",
              "         });\n",
              "}\n",
              "</script>"
            ]
          },
          "metadata": {},
          "execution_count": 11
        }
      ]
    },
    {
      "cell_type": "markdown",
      "source": [
        "### TF-IDF : search engine"
      ],
      "metadata": {
        "id": "gL3YEDMnQnzK"
      }
    },
    {
      "cell_type": "markdown",
      "source": [
        "TF gives us information on how often a term appears in a document and its relative rarity in the collection of document\n",
        " "
      ],
      "metadata": {
        "id": "BmQ3GrTINO3N"
      }
    },
    {
      "cell_type": "code",
      "source": [
        "df['lowercontent'] = df.bodyText.apply(lambda x: x.lower(), 1)"
      ],
      "metadata": {
        "id": "omd5bzxlsi0J"
      },
      "execution_count": 18,
      "outputs": []
    },
    {
      "cell_type": "code",
      "source": [
        "df = df.reset_index()"
      ],
      "metadata": {
        "id": "QhcCutlrafNa"
      },
      "execution_count": 19,
      "outputs": []
    },
    {
      "cell_type": "code",
      "source": [
        "from sklearn.feature_extraction.text import TfidfVectorizer\n",
        "from sklearn.metrics.pairwise import cosine_similarity\n",
        "\n",
        "vectorizer = TfidfVectorizer()\n",
        "X = vectorizer.fit_transform(df['lowercontent'])\n",
        "\n",
        "query = df['lowercontent'][0] # on prend le contenu du premier article et on regarde les similarités avec les autres \n",
        "query_vec = vectorizer.transform([query])\n",
        "results = cosine_similarity(X,query_vec)"
      ],
      "metadata": {
        "id": "v8gbw7X0RQ5F"
      },
      "execution_count": 21,
      "outputs": []
    },
    {
      "cell_type": "code",
      "source": [
        "from termcolor import colored"
      ],
      "metadata": {
        "id": "_ulcAWCHTBYS"
      },
      "execution_count": 49,
      "outputs": []
    },
    {
      "cell_type": "markdown",
      "source": [
        "##### Search engine by topic"
      ],
      "metadata": {
        "id": "0NqznR_UkRCZ"
      }
    },
    {
      "cell_type": "code",
      "source": [
        "#Definition of the search engine function\n",
        "def search_engine():\n",
        "  query = input('Welcome to the search engine.\\nEnter some keywords or type \"exit\" to stop the engine:')\n",
        "  while query != \"exit\":\n",
        "    query_vector = vectorizer.transform([query])\n",
        "    results = cosine_similarity(X, query_vector)\n",
        "    first_candidates = np.argsort(results.flatten())[-10:]\n",
        "    first_candidates = np.flip(first_candidates, 0) \n",
        "\n",
        "#we print pillarName for the articles where the pillarName is non empty\n",
        "    j = 0\n",
        "    i = 0 \n",
        "    while j < 5 :\n",
        "      if len(df[df[\"index\"] == first_candidates[i]][\"pillarName\"]) > 0:\n",
        "        print(colored(df[df[\"index\"] == first_candidates[i]][\"pillarName\"].values[0], 'cyan'))\n",
        "        j = j + 1\n",
        "      i = i + 1\n",
        "    query = input('Enter some keywords:')"
      ],
      "metadata": {
        "id": "JQ6oTkWdSaBW"
      },
      "execution_count": 50,
      "outputs": []
    },
    {
      "cell_type": "code",
      "source": [
        "search_engine()"
      ],
      "metadata": {
        "colab": {
          "base_uri": "https://localhost:8080/"
        },
        "id": "dVkFLtdDaQu3",
        "outputId": "c21872b3-83b5-4cca-e0ec-4ae5520da343"
      },
      "execution_count": null,
      "outputs": [
        {
          "name": "stdout",
          "output_type": "stream",
          "text": [
            "Welcome to the search engine.\n",
            "Enter some keywords or type \"exit\" to stop the engine:crisp\n",
            "\u001b[36mNews\u001b[0m\n",
            "\u001b[36mNews\u001b[0m\n",
            "\u001b[36mArts\u001b[0m\n",
            "\u001b[36mSport\u001b[0m\n",
            "\u001b[36mArts\u001b[0m\n",
            "Enter some keywords:exit\n"
          ]
        }
      ]
    },
    {
      "cell_type": "markdown",
      "source": [
        "Based on descriptive analysis of the frequence of words within each category of the paper, we can not observe meaningful results (in particular, for the categories Arts and Lifestyle, the most common words used are almost the same). Hence, we would like to use TF-IDF to extract the most important words for each category. \n",
        "Besides, our goal is to see if the keyword words by categories change over time. "
      ],
      "metadata": {
        "id": "_mNxyrtLmGfC"
      }
    },
    {
      "cell_type": "markdown",
      "source": [
        "### TF-IDF : keyword extraction"
      ],
      "metadata": {
        "id": "T1WabRAzj6fS"
      }
    },
    {
      "cell_type": "markdown",
      "source": [
        "To use TF-IDF as a keyword extraction method, but at a search engine method, we have to remove all the stopwords, the punctuation signs, and the stopwords. \n",
        "\n",
        "We would like to keep as the test sample few articles for each category, and then see to what extent the keywords are distinct with respect to the considered category. We hope to recreate graphs like in the section 'Words frequence with respect to the category' that are more meaningful than the only frequence graph. \n",
        "\n",
        "\n",
        "There is 3,432 articles among the Opinion category (which is the minimum of number for categories), therefore we decided to keep approximately 10% of the articles of each category. We keep therefore 300 articles in the test sample for each category. \n",
        "For each article, we extract 50 keywords. "
      ],
      "metadata": {
        "id": "FBbCb8GDlRtY"
      }
    },
    {
      "cell_type": "code",
      "source": [
        "#definition of a function\n",
        "def preprocess_raw_text(x):\n",
        "  querywords = x.split()\n",
        "  resultwords  = [word for word in querywords if word not in to_be_removed]\n",
        "  result = ' '.join(resultwords)\n",
        "  return(result)"
      ],
      "metadata": {
        "id": "hyZOXkGhw4-a"
      },
      "execution_count": 20,
      "outputs": []
    },
    {
      "cell_type": "code",
      "source": [
        "df['lowercontent'] = df['lowercontent'].apply(preprocess_raw_text)"
      ],
      "metadata": {
        "id": "eRolz5CzqQwL"
      },
      "execution_count": 23,
      "outputs": []
    },
    {
      "cell_type": "code",
      "source": [
        "#Definition of the functions to extract keywords (the code comes from the Kaggle tutorial keyword extraction using TF-IDF method, https://www.kaggle.com/code/rowhitswami/keywords-extraction-using-tf-idf-method/notebook)\n",
        "\n",
        "TOP_K_KEYWORDS = 50\n",
        "\n",
        "def sort_coo(coo_matrix):\n",
        "    tuples = zip(coo_matrix.col, coo_matrix.data)\n",
        "    return sorted(tuples, key=lambda x: (x[1], x[0]), reverse=True)\n",
        "\n",
        "def extract_topn_from_vector(feature_names, sorted_items, topn=10):\n",
        "    \"\"\"get the feature names and tf-idf score of top n items\"\"\"\n",
        "    \n",
        "    #use only topn items from vector\n",
        "    sorted_items = sorted_items[:topn]\n",
        "\n",
        "    score_vals = []\n",
        "    feature_vals = []\n",
        "    \n",
        "    # word index and corresponding tf-idf score\n",
        "    for idx, score in sorted_items:\n",
        "        \n",
        "        #keep track of feature name and its corresponding score\n",
        "        score_vals.append(round(score, 3))\n",
        "        feature_vals.append(feature_names[idx])\n",
        "\n",
        "    #create a tuples of feature, score\n",
        "    results= {}\n",
        "    for idx in range(len(feature_vals)):\n",
        "        results[feature_vals[idx]]=score_vals[idx]\n",
        "    \n",
        "    return results\n",
        "\n",
        "\n",
        "def get_keywords(vectorizer, feature_names, doc):\n",
        "    \"\"\"Return top k keywords from a doc using TF-IDF method\"\"\"\n",
        "\n",
        "    #generate tf-idf for the given document\n",
        "    tf_idf_vector = vectorizer.transform([doc])\n",
        "    \n",
        "\n",
        "      #sort the tf-idf vectors by descending order of scores\n",
        "    sorted_items=sort_coo(tf_idf_vector.tocoo())\n",
        "\n",
        "    #extract only TOP_K_KEYWORDS\n",
        "    keywords=extract_topn_from_vector(feature_names,sorted_items,TOP_K_KEYWORDS)\n",
        "    \n",
        "    return list(keywords.keys())"
      ],
      "metadata": {
        "id": "pg6FenS4oRkC"
      },
      "execution_count": 19,
      "outputs": []
    },
    {
      "cell_type": "code",
      "source": [
        "#Creation of a test and a train set\n",
        "import random \n",
        "\n",
        "restrained = df[df.index == 0]\n",
        "for category in tqdm(categories):\n",
        "  index = random.sample(list(df[df[\"pillarName\"] == category][\"index\"]), 150)\n",
        "  datatest = df[df[\"index\"].apply( lambda x: x not in index)]\n",
        "  restrained = pd.concat([restrained, df[df[\"index\"].apply( lambda x: x in index)]])\n",
        "\n",
        "restrained = restrained[1::]"
      ],
      "metadata": {
        "colab": {
          "base_uri": "https://localhost:8080/",
          "height": 49,
          "referenced_widgets": [
            "087db39735004c1ba7f2c2d9959ed5f8",
            "182ef1530b4f4516b1c76e7bb7a4ae53",
            "b26db30b86684a7581f0410e46d8508c",
            "01445207b73f41caa37f13447000611f",
            "a3701df7052248dfade5368174a504c7",
            "14533498a45449da9e6df68268b5d5a6",
            "b438d80456a1488f8bcd87a56caa0825",
            "74b96832411d41a6806adb01d61c6034",
            "eab925fee6264e9ab6bf7269f119729f",
            "ff1ba67c469046b3b5445f5fedbb2244",
            "246bd6b52dcb4b3aad7fa9e945d03111"
          ]
        },
        "id": "N1bc5ADP0Pos",
        "outputId": "a45da6a7-d395-45ac-d509-4574804e2ae7"
      },
      "execution_count": 21,
      "outputs": [
        {
          "output_type": "display_data",
          "data": {
            "text/plain": [
              "  0%|          | 0/5 [00:00<?, ?it/s]"
            ],
            "application/vnd.jupyter.widget-view+json": {
              "version_major": 2,
              "version_minor": 0,
              "model_id": "087db39735004c1ba7f2c2d9959ed5f8"
            }
          },
          "metadata": {}
        }
      ]
    },
    {
      "cell_type": "code",
      "source": [
        "corpora = datatest[\"lowercontent\"].to_list()\n",
        "vectorizer.fit_transform(corpora)\n",
        "feature_names = vectorizer.get_feature_names()"
      ],
      "metadata": {
        "colab": {
          "base_uri": "https://localhost:8080/"
        },
        "id": "CuIJEAhalM0Z",
        "outputId": "b099c22d-059d-49c3-f0f2-35a34c9e439a"
      },
      "execution_count": 26,
      "outputs": [
        {
          "output_type": "stream",
          "name": "stderr",
          "text": [
            "/usr/local/lib/python3.7/dist-packages/sklearn/utils/deprecation.py:87: FutureWarning: Function get_feature_names is deprecated; get_feature_names is deprecated in 1.0 and will be removed in 1.2. Please use get_feature_names_out instead.\n",
            "  warnings.warn(msg, category=FutureWarning)\n"
          ]
        }
      ]
    },
    {
      "cell_type": "code",
      "source": [
        "restrained = restrained.reset_index(drop = True)"
      ],
      "metadata": {
        "id": "bhSxOgGmd4xG"
      },
      "execution_count": 32,
      "outputs": []
    },
    {
      "cell_type": "code",
      "source": [
        "result = []\n",
        "i = 0 \n",
        "for doc in restrained[\"lowercontent\"].to_list():\n",
        "  dataf = {}\n",
        "  dataf['full_text'] = doc\n",
        "  dataf['top_keywords'] = get_keywords(vectorizer, feature_names, doc)\n",
        "  dataf['pillarname'] = restrained[\"pillarName\"][i]\n",
        "  result.append(dataf)\n",
        "  i = i+ 1\n",
        "    \n",
        "final = pd.DataFrame(result)"
      ],
      "metadata": {
        "id": "Yeb2ktetnaux"
      },
      "execution_count": 33,
      "outputs": []
    },
    {
      "cell_type": "code",
      "source": [
        "import itertools\n",
        "\n",
        "liste_count_tf_idf = []\n",
        "for categ in tqdm(categories):\n",
        "  #words is the list of words by topics\n",
        "  words =  list(itertools.chain.from_iterable(final[final[\"pillarname\"] == categ][\"top_keywords\"].values))\n",
        "  locals()[\"L_\" + str(categ)+ \"tf_idf\"] = Counter(words).most_common()\n",
        "  liste_count_tf_idf.append(locals()[\"L_\" + str(categ)+ \"tf_idf\"])"
      ],
      "metadata": {
        "colab": {
          "base_uri": "https://localhost:8080/",
          "height": 49,
          "referenced_widgets": [
            "e5d657b8212f47a1abdb3c63aeb2d921",
            "3b07b945fce049a2b0d1a60ea5de3995",
            "c030c3c00b684f86b7716afc9212ca74",
            "c75d085d38924db5831b8c91c57ea2f3",
            "1591155ad3c14ebd91ff2be2108cc378",
            "7387aa1fd50e4fff8e275b6b4ec70ac9",
            "fedb151872f64e90a9b396ccebcfae52",
            "d83ae9a21ec44eea9bd2752a5f075da9",
            "8821da37911f4556b358fc13172ccf42",
            "2e840259955a4bd787e93c65e3a2d228",
            "e1d65e6275124225a30e85780fa9e2fe"
          ]
        },
        "id": "8jVOXrgm75Bj",
        "outputId": "78dc4711-0855-46fd-e682-64a8e4fbdc8b"
      },
      "execution_count": 34,
      "outputs": [
        {
          "output_type": "display_data",
          "data": {
            "text/plain": [
              "  0%|          | 0/5 [00:00<?, ?it/s]"
            ],
            "application/vnd.jupyter.widget-view+json": {
              "version_major": 2,
              "version_minor": 0,
              "model_id": "e5d657b8212f47a1abdb3c63aeb2d921"
            }
          },
          "metadata": {}
        }
      ]
    },
    {
      "cell_type": "code",
      "source": [
        "def representation_most_commmon(liste):\n",
        "  mots_cles_news = {}\n",
        "  for (i,j) in liste[:15] :\n",
        "    mots_cles_news[i] = j\n",
        "\n",
        "  figure = plt.figure(figsize = (12, 7))\n",
        "  plt.bar(list(mots_cles_news.keys()), mots_cles_news.values(),orientation = 'vertical')\n",
        "  plt.tick_params(axis = 'x', rotation = 90)\n",
        "  plt.show()\n",
        "\n",
        "for liste in liste_count_tf_idf:\n",
        "  representation_most_commmon(liste)"
      ],
      "metadata": {
        "colab": {
          "base_uri": "https://localhost:8080/",
          "height": 1000
        },
        "id": "VBv-r3eLQMv3",
        "outputId": "17ee82ae-c619-4b0d-9613-37ebe187b14a"
      },
      "execution_count": 35,
      "outputs": [
        {
          "output_type": "display_data",
          "data": {
            "text/plain": [
              "<Figure size 864x504 with 1 Axes>"
            ],
            "image/png": "[encoded data removed]"
          },
          "metadata": {
            "needs_background": "light"
          }
        },
        {
          "output_type": "display_data",
          "data": {
            "text/plain": [
              "<Figure size 864x504 with 1 Axes>"
            ],
            "image/png": "[encoded data removed]"
          },
          "metadata": {
            "needs_background": "light"
          }
        },
        {
          "output_type": "display_data",
          "data": {
            "text/plain": [
              "<Figure size 864x504 with 1 Axes>"
            ],
            "image/png": "[encoded data removed]"
          },
          "metadata": {
            "needs_background": "light"
          }
        },
        {
          "output_type": "display_data",
          "data": {
            "text/plain": [
              "<Figure size 864x504 with 1 Axes>"
            ],
            "image/png": "[encoded data removed]"
          },
          "metadata": {
            "needs_background": "light"
          }
        },
        {
          "output_type": "display_data",
          "data": {
            "text/plain": [
              "<Figure size 864x504 with 1 Axes>"
            ],
            "image/png": "[encoded data removed]"
          },
          "metadata": {
            "needs_background": "light"
          }
        }
      ]
    },
    {
      "cell_type": "markdown",
      "source": [
        "Thanks to the tf-idf method, we have been able to extract meaningful important words for each category. "
      ],
      "metadata": {
        "id": "B2zr-6vyWhBV"
      }
    },
    {
      "cell_type": "code",
      "source": [
        "df.to_json('/content/drive/MyDrive/NLP/2018tokenized.json')"
      ],
      "metadata": {
        "id": "OXIb921_eOB5"
      },
      "execution_count": 36,
      "outputs": []
    },
    {
      "cell_type": "markdown",
      "source": [
        "\n",
        "# <font color=\"chillipepper\"> III - Seasonality of words and vocabulary </font>"
      ],
      "metadata": {
        "id": "iNQEIgMA820V"
      }
    },
    {
      "cell_type": "markdown",
      "source": [
        "Our original research question was the study of the evolution of the vocabulary used over time. Due to limited RAM constraint, we were not able the data originally scraped (from 2008 to 2018). We choose to focus on the biggest sample we were able to deal with, i.e 6 months and to study the first 6 months of the year 2018. "
      ],
      "metadata": {
        "id": "yL2d19UFci3a"
      }
    },
    {
      "cell_type": "code",
      "source": [
        "#Re import of the database because of RAM constraint\n",
        "df = pd.read_json('/content/drive/MyDrive/NLP/2018tokenized.json')\n",
        "categories = pd.unique(df[\"pillarName\"])"
      ],
      "metadata": {
        "id": "WsyKzncu1qAO"
      },
      "execution_count": 5,
      "outputs": []
    },
    {
      "cell_type": "code",
      "source": [
        "#For dictionnary with no key for the date, we add the date 0 \n",
        "for i in tqdm(range(0, len(df))):\n",
        "  if df[\"fields\"][i].get('firstPublicationDate', None) == None:\n",
        "    df[\"fields\"][i]['firstPublicationDate'] = \"0\""
      ],
      "metadata": {
        "colab": {
          "base_uri": "https://localhost:8080/",
          "height": 534,
          "referenced_widgets": [
            "d2cabd96fa5b439d85e784af85075237",
            "a2430ccadc0f4590a7fbd917c1cbe401",
            "fa19a340047c480eaab51a1caab90e09",
            "19d40bebe6f743728e6233c4fd6d9e95",
            "3fcf63be1887442e9ee6189a40e43f59",
            "6c917be7794941abaa99d5e06051692a",
            "dcf4663b3f3142ad802ef02bd31421f6",
            "d87a386f7301449580b5b53f86c74c94",
            "426ce401e20c4f6db0d1ca1add2a1ac1",
            "7ed39ea5c9ea4a42b7227f0581b87fc9",
            "837b39c448b0403ca002e52a95d7698a"
          ]
        },
        "id": "PX1HbhGgkRNU",
        "outputId": "d64be3ce-9884-4ad8-85a2-7a3e2ef6c6e9"
      },
      "execution_count": 22,
      "outputs": [
        {
          "output_type": "display_data",
          "data": {
            "text/plain": [
              "  0%|          | 0/39494 [00:00<?, ?it/s]"
            ],
            "application/vnd.jupyter.widget-view+json": {
              "version_major": 2,
              "version_minor": 0,
              "model_id": "d2cabd96fa5b439d85e784af85075237"
            }
          },
          "metadata": {}
        },
        {
          "output_type": "error",
          "ename": "KeyError",
          "evalue": "ignored",
          "traceback": [
            "\u001b[0;31m---------------------------------------------------------------------------\u001b[0m",
            "\u001b[0;31mKeyError\u001b[0m                                  Traceback (most recent call last)",
            "\u001b[0;32m/usr/local/lib/python3.7/dist-packages/pandas/core/indexes/base.py\u001b[0m in \u001b[0;36mget_loc\u001b[0;34m(self, key, method, tolerance)\u001b[0m\n\u001b[1;32m   3360\u001b[0m             \u001b[0;32mtry\u001b[0m\u001b[0;34m:\u001b[0m\u001b[0;34m\u001b[0m\u001b[0;34m\u001b[0m\u001b[0m\n\u001b[0;32m-> 3361\u001b[0;31m                 \u001b[0;32mreturn\u001b[0m \u001b[0mself\u001b[0m\u001b[0;34m.\u001b[0m\u001b[0m_engine\u001b[0m\u001b[0;34m.\u001b[0m\u001b[0mget_loc\u001b[0m\u001b[0;34m(\u001b[0m\u001b[0mcasted_key\u001b[0m\u001b[0;34m)\u001b[0m\u001b[0;34m\u001b[0m\u001b[0;34m\u001b[0m\u001b[0m\n\u001b[0m\u001b[1;32m   3362\u001b[0m             \u001b[0;32mexcept\u001b[0m \u001b[0mKeyError\u001b[0m \u001b[0;32mas\u001b[0m \u001b[0merr\u001b[0m\u001b[0;34m:\u001b[0m\u001b[0;34m\u001b[0m\u001b[0;34m\u001b[0m\u001b[0m\n",
            "\u001b[0;32m/usr/local/lib/python3.7/dist-packages/pandas/_libs/index.pyx\u001b[0m in \u001b[0;36mpandas._libs.index.IndexEngine.get_loc\u001b[0;34m()\u001b[0m\n",
            "\u001b[0;32m/usr/local/lib/python3.7/dist-packages/pandas/_libs/index.pyx\u001b[0m in \u001b[0;36mpandas._libs.index.IndexEngine.get_loc\u001b[0;34m()\u001b[0m\n",
            "\u001b[0;32mpandas/_libs/hashtable_class_helper.pxi\u001b[0m in \u001b[0;36mpandas._libs.hashtable.Int64HashTable.get_item\u001b[0;34m()\u001b[0m\n",
            "\u001b[0;32mpandas/_libs/hashtable_class_helper.pxi\u001b[0m in \u001b[0;36mpandas._libs.hashtable.Int64HashTable.get_item\u001b[0;34m()\u001b[0m\n",
            "\u001b[0;31mKeyError\u001b[0m: 26",
            "\nThe above exception was the direct cause of the following exception:\n",
            "\u001b[0;31mKeyError\u001b[0m                                  Traceback (most recent call last)",
            "\u001b[0;32m<ipython-input-22-4169bbdaa769>\u001b[0m in \u001b[0;36m<module>\u001b[0;34m()\u001b[0m\n\u001b[1;32m      1\u001b[0m \u001b[0;31m#For dictionnary with no key for the date, we add the date 0\u001b[0m\u001b[0;34m\u001b[0m\u001b[0;34m\u001b[0m\u001b[0;34m\u001b[0m\u001b[0m\n\u001b[1;32m      2\u001b[0m \u001b[0;32mfor\u001b[0m \u001b[0mi\u001b[0m \u001b[0;32min\u001b[0m \u001b[0mtqdm\u001b[0m\u001b[0;34m(\u001b[0m\u001b[0mrange\u001b[0m\u001b[0;34m(\u001b[0m\u001b[0;36m0\u001b[0m\u001b[0;34m,\u001b[0m \u001b[0mlen\u001b[0m\u001b[0;34m(\u001b[0m\u001b[0mdf\u001b[0m\u001b[0;34m)\u001b[0m\u001b[0;34m)\u001b[0m\u001b[0;34m)\u001b[0m\u001b[0;34m:\u001b[0m\u001b[0;34m\u001b[0m\u001b[0;34m\u001b[0m\u001b[0m\n\u001b[0;32m----> 3\u001b[0;31m   \u001b[0;32mif\u001b[0m \u001b[0mdf\u001b[0m\u001b[0;34m[\u001b[0m\u001b[0;34m\"fields\"\u001b[0m\u001b[0;34m]\u001b[0m\u001b[0;34m[\u001b[0m\u001b[0mi\u001b[0m\u001b[0;34m]\u001b[0m\u001b[0;34m.\u001b[0m\u001b[0mget\u001b[0m\u001b[0;34m(\u001b[0m\u001b[0;34m'firstPublicationDate'\u001b[0m\u001b[0;34m,\u001b[0m \u001b[0;32mNone\u001b[0m\u001b[0;34m)\u001b[0m \u001b[0;34m==\u001b[0m \u001b[0;32mNone\u001b[0m\u001b[0;34m:\u001b[0m\u001b[0;34m\u001b[0m\u001b[0;34m\u001b[0m\u001b[0m\n\u001b[0m\u001b[1;32m      4\u001b[0m     \u001b[0mdf\u001b[0m\u001b[0;34m[\u001b[0m\u001b[0;34m\"fields\"\u001b[0m\u001b[0;34m]\u001b[0m\u001b[0;34m[\u001b[0m\u001b[0mi\u001b[0m\u001b[0;34m]\u001b[0m\u001b[0;34m[\u001b[0m\u001b[0;34m'firstPublicationDate'\u001b[0m\u001b[0;34m]\u001b[0m \u001b[0;34m=\u001b[0m \u001b[0;34m\"0\"\u001b[0m\u001b[0;34m\u001b[0m\u001b[0;34m\u001b[0m\u001b[0m\n",
            "\u001b[0;32m/usr/local/lib/python3.7/dist-packages/pandas/core/series.py\u001b[0m in \u001b[0;36m__getitem__\u001b[0;34m(self, key)\u001b[0m\n\u001b[1;32m    940\u001b[0m \u001b[0;34m\u001b[0m\u001b[0m\n\u001b[1;32m    941\u001b[0m         \u001b[0;32melif\u001b[0m \u001b[0mkey_is_scalar\u001b[0m\u001b[0;34m:\u001b[0m\u001b[0;34m\u001b[0m\u001b[0;34m\u001b[0m\u001b[0m\n\u001b[0;32m--> 942\u001b[0;31m             \u001b[0;32mreturn\u001b[0m \u001b[0mself\u001b[0m\u001b[0;34m.\u001b[0m\u001b[0m_get_value\u001b[0m\u001b[0;34m(\u001b[0m\u001b[0mkey\u001b[0m\u001b[0;34m)\u001b[0m\u001b[0;34m\u001b[0m\u001b[0;34m\u001b[0m\u001b[0m\n\u001b[0m\u001b[1;32m    943\u001b[0m \u001b[0;34m\u001b[0m\u001b[0m\n\u001b[1;32m    944\u001b[0m         \u001b[0;32mif\u001b[0m \u001b[0mis_hashable\u001b[0m\u001b[0;34m(\u001b[0m\u001b[0mkey\u001b[0m\u001b[0;34m)\u001b[0m\u001b[0;34m:\u001b[0m\u001b[0;34m\u001b[0m\u001b[0;34m\u001b[0m\u001b[0m\n",
            "\u001b[0;32m/usr/local/lib/python3.7/dist-packages/pandas/core/series.py\u001b[0m in \u001b[0;36m_get_value\u001b[0;34m(self, label, takeable)\u001b[0m\n\u001b[1;32m   1049\u001b[0m \u001b[0;34m\u001b[0m\u001b[0m\n\u001b[1;32m   1050\u001b[0m         \u001b[0;31m# Similar to Index.get_value, but we do not fall back to positional\u001b[0m\u001b[0;34m\u001b[0m\u001b[0;34m\u001b[0m\u001b[0;34m\u001b[0m\u001b[0m\n\u001b[0;32m-> 1051\u001b[0;31m         \u001b[0mloc\u001b[0m \u001b[0;34m=\u001b[0m \u001b[0mself\u001b[0m\u001b[0;34m.\u001b[0m\u001b[0mindex\u001b[0m\u001b[0;34m.\u001b[0m\u001b[0mget_loc\u001b[0m\u001b[0;34m(\u001b[0m\u001b[0mlabel\u001b[0m\u001b[0;34m)\u001b[0m\u001b[0;34m\u001b[0m\u001b[0;34m\u001b[0m\u001b[0m\n\u001b[0m\u001b[1;32m   1052\u001b[0m         \u001b[0;32mreturn\u001b[0m \u001b[0mself\u001b[0m\u001b[0;34m.\u001b[0m\u001b[0mindex\u001b[0m\u001b[0;34m.\u001b[0m\u001b[0m_get_values_for_loc\u001b[0m\u001b[0;34m(\u001b[0m\u001b[0mself\u001b[0m\u001b[0;34m,\u001b[0m \u001b[0mloc\u001b[0m\u001b[0;34m,\u001b[0m \u001b[0mlabel\u001b[0m\u001b[0;34m)\u001b[0m\u001b[0;34m\u001b[0m\u001b[0;34m\u001b[0m\u001b[0m\n\u001b[1;32m   1053\u001b[0m \u001b[0;34m\u001b[0m\u001b[0m\n",
            "\u001b[0;32m/usr/local/lib/python3.7/dist-packages/pandas/core/indexes/base.py\u001b[0m in \u001b[0;36mget_loc\u001b[0;34m(self, key, method, tolerance)\u001b[0m\n\u001b[1;32m   3361\u001b[0m                 \u001b[0;32mreturn\u001b[0m \u001b[0mself\u001b[0m\u001b[0;34m.\u001b[0m\u001b[0m_engine\u001b[0m\u001b[0;34m.\u001b[0m\u001b[0mget_loc\u001b[0m\u001b[0;34m(\u001b[0m\u001b[0mcasted_key\u001b[0m\u001b[0;34m)\u001b[0m\u001b[0;34m\u001b[0m\u001b[0;34m\u001b[0m\u001b[0m\n\u001b[1;32m   3362\u001b[0m             \u001b[0;32mexcept\u001b[0m \u001b[0mKeyError\u001b[0m \u001b[0;32mas\u001b[0m \u001b[0merr\u001b[0m\u001b[0;34m:\u001b[0m\u001b[0;34m\u001b[0m\u001b[0;34m\u001b[0m\u001b[0m\n\u001b[0;32m-> 3363\u001b[0;31m                 \u001b[0;32mraise\u001b[0m \u001b[0mKeyError\u001b[0m\u001b[0;34m(\u001b[0m\u001b[0mkey\u001b[0m\u001b[0;34m)\u001b[0m \u001b[0;32mfrom\u001b[0m \u001b[0merr\u001b[0m\u001b[0;34m\u001b[0m\u001b[0;34m\u001b[0m\u001b[0m\n\u001b[0m\u001b[1;32m   3364\u001b[0m \u001b[0;34m\u001b[0m\u001b[0m\n\u001b[1;32m   3365\u001b[0m         \u001b[0;32mif\u001b[0m \u001b[0mis_scalar\u001b[0m\u001b[0;34m(\u001b[0m\u001b[0mkey\u001b[0m\u001b[0;34m)\u001b[0m \u001b[0;32mand\u001b[0m \u001b[0misna\u001b[0m\u001b[0;34m(\u001b[0m\u001b[0mkey\u001b[0m\u001b[0;34m)\u001b[0m \u001b[0;32mand\u001b[0m \u001b[0;32mnot\u001b[0m \u001b[0mself\u001b[0m\u001b[0;34m.\u001b[0m\u001b[0mhasnans\u001b[0m\u001b[0;34m:\u001b[0m\u001b[0;34m\u001b[0m\u001b[0;34m\u001b[0m\u001b[0m\n",
            "\u001b[0;31mKeyError\u001b[0m: 26"
          ]
        }
      ]
    },
    {
      "cell_type": "markdown",
      "source": [
        "## 1) Descriptive statistics "
      ],
      "metadata": {
        "id": "ClpYfTPjg1zm"
      }
    },
    {
      "cell_type": "code",
      "source": [
        "df[\"date\"] = df[\"fields\"].apply(lambda x: x[\"firstPublicationDate\"])\n",
        "print([\"Number of articles\", len(df)])\n",
        "\n",
        "df = df[df[\"date\"] != \"0\"]\n",
        "print([\"Number of articles with a date\", len(df)])\n",
        "\n",
        "df = df [df[\"date\"].apply(lambda x: x[0:4] == \"2018\")]\n",
        "print([\"Number of articles on the right sample\", len(df)])"
      ],
      "metadata": {
        "colab": {
          "base_uri": "https://localhost:8080/"
        },
        "id": "XarcQfl1iwtU",
        "outputId": "b66fc207-1fbe-476c-e3d9-2fa25aeb11b7"
      },
      "execution_count": 23,
      "outputs": [
        {
          "output_type": "stream",
          "name": "stdout",
          "text": [
            "['Number of articles', 39494]\n",
            "['Number of articles with a date', 39494]\n",
            "['Number of articles on the right sample', 39494]\n"
          ]
        }
      ]
    },
    {
      "cell_type": "code",
      "source": [
        "#conversion of the date into date data\n",
        "df[\"date\"] = df[\"date\"].apply(lambda x: x[0:10],\"%Y-%m-%d\")\n",
        "df[\"date\"] = pd.to_datetime(df[\"date\"])"
      ],
      "metadata": {
        "id": "8AXG9Hw_ry-O"
      },
      "execution_count": 24,
      "outputs": []
    },
    {
      "cell_type": "code",
      "source": [
        "plt.figure(figsize=(16, 8), dpi=80)\n",
        "\n",
        "for i in range(0, len(categories)):\n",
        "  cat = categories[i]\n",
        "  plt.plot(df[df[\"pillarName\"] == cat].groupby(['date']).count()[\"index\"], label = cat)\n",
        "plt.legend()\n",
        "plt.show()\n"
      ],
      "metadata": {
        "colab": {
          "base_uri": "https://localhost:8080/",
          "height": 533
        },
        "id": "TzfbyEYPtrfI",
        "outputId": "93ea8624-5628-470f-bb9c-3a68351eb25c"
      },
      "execution_count": 25,
      "outputs": [
        {
          "output_type": "display_data",
          "data": {
            "text/plain": [
              "<Figure size 1280x640 with 1 Axes>"
            ],
            "image/png": "[encoded data removed]"
          },
          "metadata": {
            "needs_background": "light"
          }
        }
      ]
    },
    {
      "cell_type": "markdown",
      "source": [
        "We observe that all the series present a seasonnality at the week scale. Indeed, the number of articles published for each category is very stable for a given day of the week.\n",
        "\n",
        "Using the same technique than when we study the differences of vocabulary between categories. "
      ],
      "metadata": {
        "id": "14Ulf_wY2CQa"
      }
    },
    {
      "cell_type": "code",
      "source": [
        "df[\"day\" ] = df[\"date\"].apply(lambda x : x.weekday())\n",
        "pd.unique(df[\"day\"])"
      ],
      "metadata": {
        "colab": {
          "base_uri": "https://localhost:8080/"
        },
        "id": "lRDgTy3dBl02",
        "outputId": "28cda105-8a82-4d78-ce27-7db66c6569ec"
      },
      "execution_count": 26,
      "outputs": [
        {
          "output_type": "execute_result",
          "data": {
            "text/plain": [
              "array([4, 3, 1, 0, 2, 6, 5])"
            ]
          },
          "metadata": {},
          "execution_count": 26
        }
      ]
    },
    {
      "cell_type": "code",
      "source": [
        "plt.figure(figsize=(12, 5), dpi=80)\n",
        "\n",
        "for i in range(len(categories)):\n",
        "  cat = categories[i]\n",
        "  plt.plot(df[df[\"pillarName\"] == cat].groupby(['day']).count()[\"index\"], label = cat)\n",
        "plt.title(\"Number of papers published by the day of the week\")\n",
        "plt.xticks( range(0,7),labels = [\"Monday\", \"Tuesday\", \"Wednesday\", \"Thursday\", \"Friday\", \"Saturday\", \"Sunday\"])\n",
        "plt.legend()\n",
        "plt.show()\n"
      ],
      "metadata": {
        "colab": {
          "base_uri": "https://localhost:8080/",
          "height": 369
        },
        "id": "OlZzGDYyAnHV",
        "outputId": "e5fb66c3-68f7-4480-d5bb-77d8950d1653"
      },
      "execution_count": 27,
      "outputs": [
        {
          "output_type": "display_data",
          "data": {
            "text/plain": [
              "<Figure size 960x400 with 1 Axes>"
            ],
            "image/png": "[encoded data removed]"
          },
          "metadata": {
            "needs_background": "light"
          }
        }
      ]
    },
    {
      "cell_type": "markdown",
      "source": [
        "### Description of the evolution of the vocabulary used with TF-IDF"
      ],
      "metadata": {
        "id": "TYyV1Vvf3D6y"
      }
    },
    {
      "cell_type": "code",
      "source": [
        "liste_day = pd.unique(df[\"day\"])\n",
        "\n",
        "#Creation of a test and a train set\n",
        "import random \n",
        "\n",
        "restrained = df[df.index == 0]\n",
        "for day in tqdm(liste_day):\n",
        "  index = random.sample(list(df[df[\"day\"] == day][\"index\"]), 150)\n",
        "  datat = df[df[\"index\"].apply( lambda x: x not in index)]\n",
        "  restrained = pd.concat([restrained, df[df[\"index\"].apply( lambda x: x in index)]])\n",
        "\n",
        "restrained = restrained[1::]"
      ],
      "metadata": {
        "colab": {
          "base_uri": "https://localhost:8080/",
          "height": 49,
          "referenced_widgets": [
            "3897a4437a96499f8fe6def5b911480f",
            "644823ae5d294932a66661daca6a615a",
            "7d08449833fd4f828891a2c31ed0fcb2",
            "9bc237d856204c4b8d3e13543883a13d",
            "dd895c2271034d61a9e634645fa7b9bf",
            "049936b80f1040a1a7004ca58d9854e7",
            "ec6e1a8fa4494508a6c3b334b48be100",
            "26230ee1730d475a9d0793a542f5aa30",
            "6971ab90142741b29e3c503e09fb678c",
            "9696b65c65f84fea9339326d92ebb159",
            "a1e6deed2bf9453eb6a73c1ca60f5658"
          ]
        },
        "id": "ta240uN2AEL7",
        "outputId": "bdda646e-e22c-4b3a-8f55-ad631783f3a6"
      },
      "execution_count": 28,
      "outputs": [
        {
          "output_type": "display_data",
          "data": {
            "text/plain": [
              "  0%|          | 0/7 [00:00<?, ?it/s]"
            ],
            "application/vnd.jupyter.widget-view+json": {
              "version_major": 2,
              "version_minor": 0,
              "model_id": "3897a4437a96499f8fe6def5b911480f"
            }
          },
          "metadata": {}
        }
      ]
    },
    {
      "cell_type": "code",
      "source": [
        "from sklearn.feature_extraction.text import TfidfVectorizer\n",
        "from sklearn.metrics.pairwise import cosine_similarity\n",
        "\n",
        "vectorizer = TfidfVectorizer()\n",
        "\n",
        "corpora = datat[\"lowercontent\"].to_list()\n",
        "vectorizer.fit_transform(corpora)\n",
        "feature_names = vectorizer.get_feature_names()"
      ],
      "metadata": {
        "colab": {
          "base_uri": "https://localhost:8080/"
        },
        "id": "eTWMraUoAETo",
        "outputId": "d9344be2-8c55-4024-8d59-c41446eb2684"
      },
      "execution_count": 29,
      "outputs": [
        {
          "output_type": "stream",
          "name": "stderr",
          "text": [
            "/usr/local/lib/python3.7/dist-packages/sklearn/utils/deprecation.py:87: FutureWarning: Function get_feature_names is deprecated; get_feature_names is deprecated in 1.0 and will be removed in 1.2. Please use get_feature_names_out instead.\n",
            "  warnings.warn(msg, category=FutureWarning)\n"
          ]
        }
      ]
    },
    {
      "cell_type": "code",
      "source": [
        "restrained = restrained.reset_index(drop = True)\n",
        "result = []\n",
        "i = 0 \n",
        "for doc in restrained[\"lowercontent\"].to_list():\n",
        "  dataf = {}\n",
        "  dataf['full_text'] = doc\n",
        "  dataf['top_keywords'] = get_keywords(vectorizer, feature_names, doc)\n",
        "  dataf['day'] = restrained[\"day\"][i]\n",
        "  result.append(dataf)\n",
        "  i = i+ 1\n",
        "    \n",
        "final = pd.DataFrame(result)\n",
        "\n",
        "\n",
        "import itertools\n",
        "\n",
        "liste_count_tf_idf = []\n",
        "for categ in tqdm(liste_day):\n",
        "  #words is the list of words by topics\n",
        "  words =  list(itertools.chain.from_iterable(final[final[\"day\"] == categ][\"top_keywords\"].values))\n",
        "  locals()[\"L_\" + str(categ)+ \"tf_idf\"] = Counter(words).most_common()\n",
        "  liste_count_tf_idf.append(locals()[\"L_\" + str(categ)+ \"tf_idf\"])\n",
        "\n",
        "\n",
        "for liste in liste_count_tf_idf:\n",
        "  representation_most_commmon(liste)"
      ],
      "metadata": {
        "colab": {
          "base_uri": "https://localhost:8080/",
          "height": 1000,
          "referenced_widgets": [
            "94b6f295377640c99e443c78330c02d7",
            "49d4c0e62b184f908c341eace7551406",
            "9ca6851fa6794b3e95ff9f18e50e307d",
            "d562507256af494a9d93ead4728a49ba",
            "51e6aa55fd384315a06a4ad11e515f3e",
            "9a4f254a4d384fdb871a7fb0888c637e",
            "be9f67d6524e4506a8944ddcf3d04259",
            "812ffc4a514f4a6383f9ee26e0cfbcf5",
            "0d270b1dd9c8443990f8495c7d458177",
            "9a356946247842e18599954ddfd74bbf",
            "9268b5412ebf478996f9216a076c77b7"
          ]
        },
        "id": "ek_XeGqbIxGD",
        "outputId": "ae2b5ace-714b-4a66-f0ce-87a8e970dd9b"
      },
      "execution_count": 33,
      "outputs": [
        {
          "output_type": "display_data",
          "data": {
            "text/plain": [
              "  0%|          | 0/7 [00:00<?, ?it/s]"
            ],
            "application/vnd.jupyter.widget-view+json": {
              "version_major": 2,
              "version_minor": 0,
              "model_id": "94b6f295377640c99e443c78330c02d7"
            }
          },
          "metadata": {}
        },
        {
          "output_type": "display_data",
          "data": {
            "text/plain": [
              "<Figure size 1080x504 with 1 Axes>"
            ],
            "image/png": "[encoded data removed]"
          },
          "metadata": {
            "needs_background": "light"
          }
        },
        {
          "output_type": "display_data",
          "data": {
            "text/plain": [
              "<Figure size 1080x504 with 1 Axes>"
            ],
            "image/png": "[encoded data removed]"
          },
          "metadata": {
            "needs_background": "light"
          }
        },
        {
          "output_type": "display_data",
          "data": {
            "text/plain": [
              "<Figure size 1080x504 with 1 Axes>"
            ],
            "image/png": "[encoded data removed]"
          },
          "metadata": {
            "needs_background": "light"
          }
        },
        {
          "output_type": "display_data",
          "data": {
            "text/plain": [
              "<Figure size 1080x504 with 1 Axes>"
            ],
            "image/png": "[encoded data removed]"
          },
          "metadata": {
            "needs_background": "light"
          }
        },
        {
          "output_type": "display_data",
          "data": {
            "text/plain": [
              "<Figure size 1080x504 with 1 Axes>"
            ],
            "image/png": "[encoded data removed]"
          },
          "metadata": {
            "needs_background": "light"
          }
        },
        {
          "output_type": "display_data",
          "data": {
            "text/plain": [
              "<Figure size 1080x504 with 1 Axes>"
            ],
            "image/png": "[encoded data removed]"
          },
          "metadata": {
            "needs_background": "light"
          }
        },
        {
          "output_type": "display_data",
          "data": {
            "text/plain": [
              "<Figure size 1080x504 with 1 Axes>"
            ],
            "image/png": "[encoded data removed]"
          },
          "metadata": {
            "needs_background": "light"
          }
        }
      ]
    },
    {
      "cell_type": "markdown",
      "source": [
        "Because we notice in the first part that the counting of words was not very relevant to distinguish which words were the most important for each category, we decide to proceed in the same way than what we have done in the part II to descript the vocabulary used. We do not notice tremendous differences between each day of the week. Yet, we remark that word \"Tuesday\" is extracted as keyword only in papers published on Wednesday, and that words related to sport are more present in the weekend. "
      ],
      "metadata": {
        "id": "sDw6cgU73IdA"
      }
    },
    {
      "cell_type": "markdown",
      "source": [
        "## 2) Prediction part"
      ],
      "metadata": {
        "id": "2aDGhUyMLZyo"
      }
    },
    {
      "cell_type": "markdown",
      "source": [
        "### A - Baseline model "
      ],
      "metadata": {
        "id": "vSswTZg3LtTT"
      }
    },
    {
      "cell_type": "markdown",
      "source": [
        "Our first strategy is to try to predict the week of publication based on tf-idf techniques, and then to predict thanks to a multinomial logistic regression.\n",
        "\n",
        "Our test set is the same as defined in the part 1), called restrained, and our train test is called corpora. \n",
        "\n",
        "We lemmatize our sample using the WordNetLemmatizer."
      ],
      "metadata": {
        "id": "JlW6t2k4W06G"
      }
    },
    {
      "cell_type": "code",
      "source": [
        "from nltk.stem import WordNetLemmatizer\n",
        "lemmatizer = WordNetLemmatizer()\n",
        "\n",
        "\n",
        "import nltk\n",
        "nltk.download('wordnet')"
      ],
      "metadata": {
        "colab": {
          "base_uri": "https://localhost:8080/"
        },
        "id": "7qJmLbwDgi8N",
        "outputId": "e96ecdef-58b8-43a8-d828-8798142b4cf7"
      },
      "execution_count": 34,
      "outputs": [
        {
          "output_type": "stream",
          "name": "stdout",
          "text": [
            "[nltk_data] Downloading package wordnet to /root/nltk_data...\n",
            "[nltk_data]   Unzipping corpora/wordnet.zip.\n"
          ]
        },
        {
          "output_type": "execute_result",
          "data": {
            "text/plain": [
              "True"
            ]
          },
          "metadata": {},
          "execution_count": 34
        }
      ]
    },
    {
      "cell_type": "code",
      "source": [
        "corpora = [\" \".join([lemmatizer.lemmatize(word) for word in corpora[i].split()]) for i in tqdm(range(0, len(corpora)))]"
      ],
      "metadata": {
        "colab": {
          "base_uri": "https://localhost:8080/",
          "height": 49,
          "referenced_widgets": [
            "8eadad46fed44c98abfc25ae8f8f0e90",
            "d1755fd8f3f04152bae9fe3f3058dbca",
            "2e5574d7f3654abca8d447999fb3d3e7",
            "d4b42dd40e1845078e3d561ff6ef4064",
            "523d56043747420cb6468044aa951744",
            "ac3be70e7042442ca5c4d9a63d245bbc",
            "3899725c4c464ea49e2b9309ecd3252d",
            "8b5165691f994191b51525a8d4739459",
            "15448a511d8b49c0abe4a7dd6ea1db87",
            "289ad1e3273f45d49b7c567d8fcfaf50",
            "618bb92703ce457db09a4ea9d969f292"
          ]
        },
        "id": "MAH3qwMChm9n",
        "outputId": "87f500d9-7a00-497c-97d2-aea94f8b2f72"
      },
      "execution_count": null,
      "outputs": [
        {
          "output_type": "display_data",
          "data": {
            "text/plain": [
              "  0%|          | 0/39344 [00:00<?, ?it/s]"
            ],
            "application/vnd.jupyter.widget-view+json": {
              "version_major": 2,
              "version_minor": 0,
              "model_id": "8eadad46fed44c98abfc25ae8f8f0e90"
            }
          },
          "metadata": {}
        }
      ]
    },
    {
      "cell_type": "code",
      "source": [
        "X_train_tf = vectorizer.fit_transform(corpora)\n",
        "X_train_tf = vectorizer.transform(corpora)"
      ],
      "metadata": {
        "id": "RQnAi68UhJY9"
      },
      "execution_count": 67,
      "outputs": []
    },
    {
      "cell_type": "code",
      "source": [
        "restrained[\"lowercontent\"] = [\" \".join([lemmatizer.lemmatize(word) for word in restrained[\"lowercontent\"][i].split()]) for i in tqdm(range(0, len(restrained)))]"
      ],
      "metadata": {
        "colab": {
          "base_uri": "https://localhost:8080/",
          "height": 49,
          "referenced_widgets": [
            "6be54100183548968702cb2127def4e0",
            "dff3395784bc410da059dc2afdf302c7",
            "96f79c144fe8445690755415599a77aa",
            "0a0205c485754f7890536bb492ae2c79",
            "1198108297b144daa336247638026ccc",
            "3da0350964da4b369833a0545992b77a",
            "e209013a7a504b569e0a6ea06a8a16b6",
            "d4f4669afe3b47de949a9b009dfec811",
            "cb44508742cc40cba3c0c30aab2210fd",
            "744281c7e7b14e94b1bb1f19768d5067",
            "2d6738b0e2b3493a932d23a94d435c5e"
          ]
        },
        "id": "N2T2h1nwjwSD",
        "outputId": "046b0d85-07b5-4055-d37e-62500fe77195"
      },
      "execution_count": 70,
      "outputs": [
        {
          "output_type": "display_data",
          "data": {
            "text/plain": [
              "  0%|          | 0/1050 [00:00<?, ?it/s]"
            ],
            "application/vnd.jupyter.widget-view+json": {
              "version_major": 2,
              "version_minor": 0,
              "model_id": "6be54100183548968702cb2127def4e0"
            }
          },
          "metadata": {}
        }
      ]
    },
    {
      "cell_type": "code",
      "source": [
        "X_test_tf = vectorizer.transform(restrained[\"lowercontent\"])"
      ],
      "metadata": {
        "id": "VgA27MDmk9yj"
      },
      "execution_count": 72,
      "outputs": []
    },
    {
      "cell_type": "code",
      "source": [
        "from sklearn.naive_bayes import MultinomialNB\n",
        "from sklearn import metrics\n",
        "\n",
        "model = MultinomialNB()\n",
        "model.fit(X_train_tf, datat[\"day\"])"
      ],
      "metadata": {
        "colab": {
          "base_uri": "https://localhost:8080/"
        },
        "id": "ifqcNTenlnvo",
        "outputId": "a682cf84-92ad-4733-d83c-0043dbac6fb5"
      },
      "execution_count": 88,
      "outputs": [
        {
          "output_type": "execute_result",
          "data": {
            "text/plain": [
              "MultinomialNB()"
            ]
          },
          "metadata": {},
          "execution_count": 88
        }
      ]
    },
    {
      "cell_type": "code",
      "source": [
        "y_pred = model.predict(X_test_tf)\n",
        "print(metrics.classification_report(restrained[\"day\"], y_pred, target_names=['Monday', 'Tuesday', 'Wednesday', 'Thursday', 'Friday', 'Saturday', 'Sunday']))"
      ],
      "metadata": {
        "colab": {
          "base_uri": "https://localhost:8080/"
        },
        "id": "oStmSUFFooHn",
        "outputId": "f96023c4-1116-4bc3-fb37-0d0342b0106e"
      },
      "execution_count": 90,
      "outputs": [
        {
          "output_type": "stream",
          "name": "stdout",
          "text": [
            "              precision    recall  f1-score   support\n",
            "\n",
            "      Monday       0.62      0.13      0.22       150\n",
            "     Tuesday       0.59      0.47      0.52       150\n",
            "   Wednesday       0.31      0.71      0.43       150\n",
            "    Thursday       0.54      0.42      0.47       150\n",
            "      Friday       0.27      0.70      0.38       150\n",
            "    Saturday       1.00      0.02      0.04       150\n",
            "      Sunday       0.76      0.19      0.31       150\n",
            "\n",
            "    accuracy                           0.38      1050\n",
            "   macro avg       0.59      0.38      0.34      1050\n",
            "weighted avg       0.59      0.38      0.34      1050\n",
            "\n"
          ]
        }
      ]
    },
    {
      "cell_type": "markdown",
      "source": [
        "## B) Classification model using Pytorch"
      ],
      "metadata": {
        "id": "hAOtVFO3rezO"
      }
    },
    {
      "cell_type": "markdown",
      "source": [
        ""
      ],
      "metadata": {
        "id": "bNHQ8LQjthry"
      }
    },
    {
      "cell_type": "code",
      "source": [
        "import torch\n",
        "from torch.utils.data import Dataset\n",
        "import numpy as np\n",
        "\n",
        "class paperDataset(Dataset):\n",
        "    def __init__(self, data, args):\n",
        "      self.args = args\n",
        "      self.data = data\n",
        "\n",
        "    def __len__(self):\n",
        "      return len(self.data)\n",
        "    \n",
        "    def __getitem__(self, idx):\n",
        "      item = {\n",
        "          \"text\": np.array(self.data[idx]['text']),\n",
        "          \"label\": np.array(self.data[idx]['label'])\n",
        "      }\n",
        "      return item"
      ],
      "metadata": {
        "id": "k6OONPtnth4C"
      },
      "execution_count": 97,
      "outputs": []
    },
    {
      "cell_type": "code",
      "source": [
        "from torch.utils.data import DataLoader\n",
        "args = {'bsize': 64}\n",
        "train_loader = DataLoader(paperDataset(corpora, args), batch_size=args['bsize'], num_workers=2, shuffle=True, drop_last=True)\n",
        "val_loader   = DataLoader(paperDataset(corpora, args), batch_size=args['bsize'], num_workers=2, shuffle=True, drop_last=True)\n",
        "test_loader  = DataLoader(paperDataset(restrained[\"lowercontent\"], args), batch_size=args['bsize'], num_workers=2, shuffle=True, drop_last=True)"
      ],
      "metadata": {
        "id": "0028hBkZtwSz"
      },
      "execution_count": 98,
      "outputs": []
    },
    {
      "cell_type": "code",
      "source": [
        "class MinimalExampleModel(torch.nn.Module):\n",
        "    def __init__(self, D_in, H, D_out):\n",
        "        super(MinimalExampleModel, self).__init__()\n",
        "        self.linear1 = torch.nn.Linear(D_in, H, bias=True)\n",
        "        # define the final linear layer, often named classification layer as the output dimension (D_out) == the number of target classes\n",
        "        self.linear2 = torch.nn.Linear(H, D_out, bias=True)\n",
        "\n",
        "    def forward(self, x):\n",
        "        h_relu = torch.relu(self.linear1(x))\n",
        "        y_pred = self.linear2(h_relu)\n",
        "        return y_pred\n",
        "\n",
        "N, D_in, H, D_out = 2, 10, 10, 2 \n",
        "model = MinimalExampleModel(D_in, H, D_out)"
      ],
      "metadata": {
        "id": "R1RGBOuruXUg"
      },
      "execution_count": 99,
      "outputs": []
    },
    {
      "cell_type": "markdown",
      "source": [
        "## C) Classification model + BERT"
      ],
      "metadata": {
        "id": "gyFUi5xUsIbP"
      }
    },
    {
      "cell_type": "markdown",
      "source": [
        "# Conclusion"
      ],
      "metadata": {
        "id": "VFM2A5re84pL"
      }
    }
  ]
}